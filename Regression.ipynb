{
 "cells": [
  {
   "cell_type": "code",
   "execution_count": 1,
   "metadata": {
    "collapsed": true
   },
   "outputs": [],
   "source": [
    "%load_ext autoreload\n",
    "%autoreload 2\n",
    "import pandas as pd\n",
    "import matplotlib.pyplot as plt\n",
    "import scipy\n",
    "from numpy.random import normal\n",
    "import math\n",
    "import usefulFunctions\n",
    "from usefulFunctions import checkForNull\n",
    "from IPython.core.debugger import Tracer\n",
    "import random\n",
    "import numpy\n",
    "from statsmodels.formula.api import ols\n",
    "from usefulFunctions import computeMean\n",
    "from usefulFunctions import computeStdev"
   ]
  },
  {
   "cell_type": "code",
   "execution_count": 2,
   "metadata": {
    "collapsed": true
   },
   "outputs": [],
   "source": [
    "fileName = \"Master_PL.xlsx - Master_PL.csv\"\n",
    "table = pd.read_csv(fileName, header=0, \n",
    "                    names=[\"id\", \"type\", \"gender\", \"age\", \"monthsFromScreening\", \"protein_BL\", \"protein_V4\",\n",
    "                          \"protein_V6\", \"protein_V8\", \"protein_V10\", \"protein_V12\"])\n"
   ]
  },
  {
   "cell_type": "code",
   "execution_count": 141,
   "metadata": {
    "collapsed": true
   },
   "outputs": [],
   "source": [
    "dataWithType = {}\n",
    "for entry in [\"id\", \"type\", \"gender\", \"age\", \"monthsFromEval\", \"protein\"]:\n",
    "    dataWithType[entry] = []\n",
    "\n",
    "dataWithMonthsFromScreening = {}\n",
    "for entry in [\"id\", \"gender\", \"age\", \"monthsFromScreening\", \"monthsFromEval\", \"protein\"]:\n",
    "    dataWithMonthsFromScreening[entry] = []\n",
    "\n",
    "for row in table.to_dict(orient='records'):\n",
    "\n",
    "    for entry in [\"protein_BL\", \"protein_V4\",\"protein_V6\", \"protein_V8\", \"protein_V10\", \"protein_V12\"]:\n",
    "        if not checkForNull(row[entry]):\n",
    "            cont1 = True\n",
    "            cont2 = True\n",
    "            \n",
    "            for key in [\"id\", \"type\", \"gender\", \"age\"]:\n",
    "                if checkForNull(row[key]):\n",
    "                    cont1 = False\n",
    "            \n",
    "            for key in [\"id\", \"gender\", \"age\", \"monthsFromScreening\"]:\n",
    "                if checkForNull(row[key]):\n",
    "                    cont2 = False\n",
    "            \n",
    "            if cont1:\n",
    "                if entry == \"protein_BL\":\n",
    "                    dataWithType[\"monthsFromEval\"].append(0.0)\n",
    "                elif entry == \"protein_V4\":\n",
    "                    dataWithType[\"monthsFromEval\"].append(4.0)\n",
    "                elif entry == \"protein_V6\":\n",
    "                    dataWithType[\"monthsFromEval\"].append(6.0)\n",
    "                elif entry == \"protein_V8\":\n",
    "                    dataWithType[\"monthsFromEval\"].append(8.0)\n",
    "                elif entry == \"protein_V10\":\n",
    "                    dataWithType[\"monthsFromEval\"].append(10.0)\n",
    "                elif entry == \"protein_V12\":\n",
    "                    dataWithType[\"monthsFromEval\"].append(12.0)\n",
    "\n",
    "                dataWithType['protein'].append(float(row[entry]))\n",
    "                \n",
    "                for key in [\"id\", \"type\", \"gender\", \"age\"]:\n",
    "                    if key == \"type\" or key == \"gender\":\n",
    "                        dataWithType[key].append(row[key]-1)\n",
    "                    else:\n",
    "                        dataWithType[key].append(row[key])\n",
    "            \n",
    "            if cont2:\n",
    "\n",
    "                if entry == \"protein_BL\":\n",
    "                    dataWithMonthsFromScreening[\"monthsFromEval\"].append(0.0)\n",
    "                elif entry == \"protein_V4\":\n",
    "                    dataWithMonthsFromScreening[\"monthsFromEval\"].append(4.0)\n",
    "                elif entry == \"protein_V6\":\n",
    "                    dataWithMonthsFromScreening[\"monthsFromEval\"].append(6.0)\n",
    "                elif entry == \"protein_V8\":\n",
    "                    dataWithMonthsFromScreening[\"monthsFromEval\"].append(8.0)\n",
    "                elif entry == \"protein_V10\":\n",
    "                    dataWithMonthsFromScreening[\"monthsFromEval\"].append(10.0)\n",
    "                elif entry == \"protein_V12\":\n",
    "                    dataWithMonthsFromScreening[\"monthsFromEval\"].append(12.0)\n",
    "\n",
    "                dataWithMonthsFromScreening['protein'].append(float(row[entry]))\n",
    "\n",
    "                for key in [\"id\", \"gender\", \"age\", \"monthsFromScreening\"]:\n",
    "                    if key == \"gender\":\n",
    "                        dataWithMonthsFromScreening[key].append(row[key]-1)\n",
    "                    else:\n",
    "                        dataWithMonthsFromScreening[key].append(row[key])"
   ]
  },
  {
   "cell_type": "code",
   "execution_count": 42,
   "metadata": {
    "collapsed": true
   },
   "outputs": [],
   "source": [
    "dataWithType = pd.DataFrame(dataWithType)\n",
    "dataWithMonthsFromScreening = pd.DataFrame(dataWithMonthsFromScreening)"
   ]
  },
  {
   "cell_type": "code",
   "execution_count": 134,
   "metadata": {},
   "outputs": [
    {
     "data": {
      "text/plain": [
       "2162"
      ]
     },
     "execution_count": 134,
     "metadata": {},
     "output_type": "execute_result"
    }
   ],
   "source": [
    "len(dataWithType)"
   ]
  },
  {
   "cell_type": "code",
   "execution_count": 135,
   "metadata": {},
   "outputs": [
    {
     "data": {
      "text/plain": [
       "1378"
      ]
     },
     "execution_count": 135,
     "metadata": {},
     "output_type": "execute_result"
    }
   ],
   "source": [
    "len(dataWithMonthsFromScreening)"
   ]
  },
  {
   "cell_type": "code",
   "execution_count": 137,
   "metadata": {},
   "outputs": [],
   "source": [
    "statsForDataWithType = {}\n",
    "for column in dataWithType:\n",
    "    statsForDataWithType[column] = {\"mean\" : computeMean(dataWithType[column]), \"stdev\" : computeStdev(dataWithType[column])}\n",
    "    \n",
    "statsForDataWithMonthsFromScreening = {}\n",
    "for column in dataWithMonthsFromScreening:\n",
    "     statsForDataWithMonthsFromScreening[column] = {\"mean\" : computeMean(dataWithMonthsFromScreening[column]), \"stdev\" : computeStdev(dataWithMonthsFromScreening[column])}\n"
   ]
  },
  {
   "cell_type": "code",
   "execution_count": 142,
   "metadata": {
    "collapsed": true
   },
   "outputs": [],
   "source": [
    "# CODE TO STANDARDIZE INDEPENDENT VARIABLES\n",
    "# for i in range(len(dataWithType['age'])):\n",
    "#     dataWithType['age'][i] = (dataWithType['age'][i]-statsForDataWithType['age']['mean'])/statsForDataWithType['age']['stdev']\n",
    "#     dataWithType['monthsFromEval'][i] = (dataWithType['monthsFromEval'][i]-statsForDataWithType['monthsFromEval']['mean'])/statsForDataWithType['monthsFromEval']['stdev']\n",
    "    \n",
    "# for i in range(len(dataWithMonthsFromScreening['age'])):\n",
    "#     dataWithMonthsFromScreening['age'][i] = (dataWithMonthsFromScreening['age'][i]-statsForDataWithMonthsFromScreening['age']['mean'])/statsForDataWithMonthsFromScreening['age']['stdev']\n",
    "#     dataWithMonthsFromScreening['monthsFromScreening'][i] = (dataWithMonthsFromScreening['monthsFromScreening'][i]-statsForDataWithMonthsFromScreening['monthsFromScreening']['mean'])/statsForDataWithMonthsFromScreening['monthsFromScreening']['stdev']\n",
    "#     dataWithMonthsFromScreening['monthsFromEval'][i] = (dataWithMonthsFromScreening['monthsFromEval'][i]-statsForDataWithMonthsFromScreening['monthsFromEval']['mean'])/statsForDataWithMonthsFromScreening['monthsFromEval']['stdev']\n",
    "     \n",
    "    "
   ]
  },
  {
   "cell_type": "code",
   "execution_count": 145,
   "metadata": {
    "collapsed": true
   },
   "outputs": [],
   "source": [
    "modelWithType = ols('protein ~ type + gender + age + monthsFromEval', dataWithType).fit()\n",
    "modelWithMonthsFromScreening = ols('protein ~ monthsFromScreening + gender + age + monthsFromEval', dataWithMonthsFromScreening).fit()"
   ]
  },
  {
   "cell_type": "code",
   "execution_count": null,
   "metadata": {
    "collapsed": true
   },
   "outputs": [],
   "source": []
  },
  {
   "cell_type": "markdown",
   "metadata": {},
   "source": [
    "&&&&\n",
    "\n",
    "Independent : Type (Case vs Control), Gender, Age, MonthsFromEval (BL, 4 months, 6 months, etc)\n",
    "\n",
    "Dependent : Protein Level"
   ]
  },
  {
   "cell_type": "code",
   "execution_count": 44,
   "metadata": {},
   "outputs": [
    {
     "name": "stdout",
     "output_type": "stream",
     "text": [
      "                            OLS Regression Results                            \n",
      "==============================================================================\n",
      "Dep. Variable:                protein   R-squared:                       0.075\n",
      "Model:                            OLS   Adj. R-squared:                  0.073\n",
      "Method:                 Least Squares   F-statistic:                     43.71\n",
      "Date:                Thu, 27 Jul 2017   Prob (F-statistic):           2.54e-35\n",
      "Time:                        00:49:13   Log-Likelihood:                -9841.2\n",
      "No. Observations:                2162   AIC:                         1.969e+04\n",
      "Df Residuals:                    2157   BIC:                         1.972e+04\n",
      "Df Model:                           4                                         \n",
      "Covariance Type:            nonrobust                                         \n",
      "==================================================================================\n",
      "                     coef    std err          t      P>|t|      [0.025      0.975]\n",
      "----------------------------------------------------------------------------------\n",
      "Intercept         20.8955      3.210      6.509      0.000      14.600      27.191\n",
      "type               2.5042      1.059      2.365      0.018       0.427       4.581\n",
      "gender            12.2002      1.048     11.644      0.000      10.145      14.255\n",
      "age                0.2007      0.049      4.097      0.000       0.105       0.297\n",
      "monthsFromEval     0.3195      0.131      2.440      0.015       0.063       0.576\n",
      "==============================================================================\n",
      "Omnibus:                     2551.096   Durbin-Watson:                   1.202\n",
      "Prob(Omnibus):                  0.000   Jarque-Bera (JB):           568730.708\n",
      "Skew:                           5.812   Prob(JB):                         0.00\n",
      "Kurtosis:                      81.602   Cond. No.                         406.\n",
      "==============================================================================\n",
      "\n",
      "Warnings:\n",
      "[1] Standard Errors assume that the covariance matrix of the errors is correctly specified.\n"
     ]
    }
   ],
   "source": [
    "print(modelWithType.summary()) "
   ]
  },
  {
   "cell_type": "code",
   "execution_count": null,
   "metadata": {
    "collapsed": true
   },
   "outputs": [],
   "source": []
  },
  {
   "cell_type": "markdown",
   "metadata": {},
   "source": [
    "&&&&\n",
    "\n",
    "Independent : PD Duration (monthsFromScreening), Gender, Age, MonthsFromEval (BL, 4 months, 6 months, etc)\n",
    "\n",
    "Dependent : Protein Level"
   ]
  },
  {
   "cell_type": "code",
   "execution_count": 46,
   "metadata": {},
   "outputs": [
    {
     "name": "stdout",
     "output_type": "stream",
     "text": [
      "                            OLS Regression Results                            \n",
      "==============================================================================\n",
      "Dep. Variable:                protein   R-squared:                       0.074\n",
      "Model:                            OLS   Adj. R-squared:                  0.071\n",
      "Method:                 Least Squares   F-statistic:                     27.34\n",
      "Date:                Thu, 27 Jul 2017   Prob (F-statistic):           7.25e-22\n",
      "Time:                        00:49:17   Log-Likelihood:                -6348.9\n",
      "No. Observations:                1378   AIC:                         1.271e+04\n",
      "Df Residuals:                    1373   BIC:                         1.273e+04\n",
      "Df Model:                           4                                         \n",
      "Covariance Type:            nonrobust                                         \n",
      "=======================================================================================\n",
      "                          coef    std err          t      P>|t|      [0.025      0.975]\n",
      "---------------------------------------------------------------------------------------\n",
      "Intercept              22.0772      4.393      5.026      0.000      13.460      30.695\n",
      "monthsFromScreening     0.0361      0.086      0.418      0.676      -0.133       0.206\n",
      "gender                 13.2175      1.394      9.478      0.000      10.482      15.953\n",
      "age                     0.2049      0.068      3.001      0.003       0.071       0.339\n",
      "monthsFromEval          0.3570      0.176      2.030      0.043       0.012       0.702\n",
      "==============================================================================\n",
      "Omnibus:                     1428.801   Durbin-Watson:                   1.078\n",
      "Prob(Omnibus):                  0.000   Jarque-Bera (JB):           162557.636\n",
      "Skew:                           4.722   Prob(JB):                         0.00\n",
      "Kurtosis:                      55.364   Cond. No.                         422.\n",
      "==============================================================================\n",
      "\n",
      "Warnings:\n",
      "[1] Standard Errors assume that the covariance matrix of the errors is correctly specified.\n"
     ]
    }
   ],
   "source": [
    "print(modelWithMonthsFromScreening.summary()) "
   ]
  },
  {
   "cell_type": "code",
   "execution_count": null,
   "metadata": {
    "collapsed": true
   },
   "outputs": [],
   "source": []
  },
  {
   "cell_type": "code",
   "execution_count": 47,
   "metadata": {},
   "outputs": [],
   "source": [
    "malesDataWithType = dataWithType[dataWithType['gender'] == 1]\n",
    "femalesDataWithType = dataWithType[dataWithType['gender'] == 0]"
   ]
  },
  {
   "cell_type": "code",
   "execution_count": 48,
   "metadata": {},
   "outputs": [],
   "source": [
    "maleModelWithType = ols('protein ~ type + age + monthsFromEval', malesDataWithType).fit()\n",
    "femaleModelWithType = ols('protein ~ type + age + monthsFromEval', femalesDataWithType).fit()"
   ]
  },
  {
   "cell_type": "code",
   "execution_count": null,
   "metadata": {
    "collapsed": true
   },
   "outputs": [],
   "source": []
  },
  {
   "cell_type": "markdown",
   "metadata": {},
   "source": [
    "&&&&\n",
    "\n",
    "MALE DATA ONLY\n",
    "\n",
    "Independent : Type (Case vs Control), Age, MonthsFromEval (BL, 4 months, 6 months, etc)\n",
    "\n",
    "Dependent : Protein Level"
   ]
  },
  {
   "cell_type": "code",
   "execution_count": 140,
   "metadata": {},
   "outputs": [
    {
     "name": "stdout",
     "output_type": "stream",
     "text": [
      "                            OLS Regression Results                            \n",
      "==============================================================================\n",
      "Dep. Variable:                protein   R-squared:                       0.015\n",
      "Model:                            OLS   Adj. R-squared:                  0.013\n",
      "Method:                 Least Squares   F-statistic:                     7.397\n",
      "Date:                Thu, 27 Jul 2017   Prob (F-statistic):           6.44e-05\n",
      "Time:                        11:59:38   Log-Likelihood:                -6648.7\n",
      "No. Observations:                1430   AIC:                         1.331e+04\n",
      "Df Residuals:                    1426   BIC:                         1.333e+04\n",
      "Df Model:                           3                                         \n",
      "Covariance Type:            nonrobust                                         \n",
      "==================================================================================\n",
      "                     coef    std err          t      P>|t|      [0.025      0.975]\n",
      "----------------------------------------------------------------------------------\n",
      "Intercept         29.5726      4.429      6.677      0.000      20.884      38.261\n",
      "type               3.2574      1.458      2.235      0.026       0.398       6.117\n",
      "age                0.2502      0.068      3.685      0.000       0.117       0.383\n",
      "monthsFromEval     0.3088      0.178      1.734      0.083      -0.041       0.658\n",
      "==============================================================================\n",
      "Omnibus:                     1576.017   Durbin-Watson:                   1.175\n",
      "Prob(Omnibus):                  0.000   Jarque-Bera (JB):           245347.358\n",
      "Skew:                           5.151   Prob(JB):                         0.00\n",
      "Kurtosis:                      66.337   Cond. No.                         416.\n",
      "==============================================================================\n",
      "\n",
      "Warnings:\n",
      "[1] Standard Errors assume that the covariance matrix of the errors is correctly specified.\n"
     ]
    }
   ],
   "source": [
    "print(maleModelWithType.summary()) "
   ]
  },
  {
   "cell_type": "code",
   "execution_count": null,
   "metadata": {
    "collapsed": true
   },
   "outputs": [],
   "source": []
  },
  {
   "cell_type": "markdown",
   "metadata": {},
   "source": [
    "&&&&\n",
    "\n",
    "FEMALE DATA ONLY\n",
    "\n",
    "Independent : Type (Case vs Control), Age, MonthsFromEval (BL, 4 months, 6 months, etc)\n",
    "\n",
    "Dependent : Protein Level"
   ]
  },
  {
   "cell_type": "code",
   "execution_count": 50,
   "metadata": {},
   "outputs": [
    {
     "name": "stdout",
     "output_type": "stream",
     "text": [
      "                            OLS Regression Results                            \n",
      "==============================================================================\n",
      "Dep. Variable:                protein   R-squared:                       0.010\n",
      "Model:                            OLS   Adj. R-squared:                  0.006\n",
      "Method:                 Least Squares   F-statistic:                     2.494\n",
      "Date:                Thu, 27 Jul 2017   Prob (F-statistic):             0.0589\n",
      "Time:                        00:49:31   Log-Likelihood:                -3129.6\n",
      "No. Observations:                 732   AIC:                             6267.\n",
      "Df Residuals:                     728   BIC:                             6286.\n",
      "Df Model:                           3                                         \n",
      "Covariance Type:            nonrobust                                         \n",
      "==================================================================================\n",
      "                     coef    std err          t      P>|t|      [0.025      0.975]\n",
      "----------------------------------------------------------------------------------\n",
      "Intercept         27.1472      3.975      6.830      0.000      19.344      34.950\n",
      "type               1.0547      1.348      0.782      0.434      -1.592       3.701\n",
      "age                0.1113      0.061      1.810      0.071      -0.009       0.232\n",
      "monthsFromEval     0.3320      0.170      1.950      0.052      -0.002       0.666\n",
      "==============================================================================\n",
      "Omnibus:                     1109.758   Durbin-Watson:                   1.374\n",
      "Prob(Omnibus):                  0.000   Jarque-Bera (JB):           654242.609\n",
      "Skew:                           8.334   Prob(JB):                         0.00\n",
      "Kurtosis:                     148.509   Cond. No.                         380.\n",
      "==============================================================================\n",
      "\n",
      "Warnings:\n",
      "[1] Standard Errors assume that the covariance matrix of the errors is correctly specified.\n"
     ]
    }
   ],
   "source": [
    "print(femaleModelWithType.summary())"
   ]
  },
  {
   "cell_type": "code",
   "execution_count": null,
   "metadata": {
    "collapsed": true
   },
   "outputs": [],
   "source": []
  },
  {
   "cell_type": "code",
   "execution_count": 51,
   "metadata": {
    "collapsed": true
   },
   "outputs": [],
   "source": [
    "malesDataWithMonthsFromScreening = dataWithMonthsFromScreening[dataWithMonthsFromScreening['gender'] == 1]\n",
    "femalesDataWithMonthsFromScreening = dataWithMonthsFromScreening[dataWithMonthsFromScreening['gender'] == 0]"
   ]
  },
  {
   "cell_type": "code",
   "execution_count": 52,
   "metadata": {
    "collapsed": true
   },
   "outputs": [],
   "source": [
    "maleModelWithMonthsFromScreening = ols('protein ~ monthsFromScreening + age + monthsFromEval', malesDataWithMonthsFromScreening).fit()\n",
    "femaleModelWithMonthsFromScreening = ols('protein ~ monthsFromScreening + age + monthsFromEval', femalesDataWithMonthsFromScreening).fit()"
   ]
  },
  {
   "cell_type": "code",
   "execution_count": null,
   "metadata": {
    "collapsed": true
   },
   "outputs": [],
   "source": []
  },
  {
   "cell_type": "markdown",
   "metadata": {},
   "source": [
    "&&&&\n",
    "\n",
    "MALE DATA ONLY\n",
    "\n",
    "Independent : PD Duration(monthsFromScreening), Age, MonthsFromEval (BL, 4 months, 6 months, etc)\n",
    "\n",
    "Dependent : Protein Level"
   ]
  },
  {
   "cell_type": "code",
   "execution_count": 53,
   "metadata": {},
   "outputs": [
    {
     "name": "stdout",
     "output_type": "stream",
     "text": [
      "                            OLS Regression Results                            \n",
      "==============================================================================\n",
      "Dep. Variable:                protein   R-squared:                       0.016\n",
      "Model:                            OLS   Adj. R-squared:                  0.013\n",
      "Method:                 Least Squares   F-statistic:                     4.979\n",
      "Date:                Thu, 27 Jul 2017   Prob (F-statistic):            0.00197\n",
      "Time:                        00:49:45   Log-Likelihood:                -4295.2\n",
      "No. Observations:                 918   AIC:                             8598.\n",
      "Df Residuals:                     914   BIC:                             8618.\n",
      "Df Model:                           3                                         \n",
      "Covariance Type:            nonrobust                                         \n",
      "=======================================================================================\n",
      "                          coef    std err          t      P>|t|      [0.025      0.975]\n",
      "---------------------------------------------------------------------------------------\n",
      "Intercept              28.1929      5.975      4.718      0.000      16.466      39.920\n",
      "monthsFromScreening     0.0579      0.130      0.447      0.655      -0.196       0.312\n",
      "age                     0.3107      0.092      3.362      0.001       0.129       0.492\n",
      "monthsFromEval          0.4343      0.230      1.888      0.059      -0.017       0.886\n",
      "==============================================================================\n",
      "Omnibus:                      808.288   Durbin-Watson:                   0.980\n",
      "Prob(Omnibus):                  0.000   Jarque-Bera (JB):            49296.219\n",
      "Skew:                           3.671   Prob(JB):                         0.00\n",
      "Kurtosis:                      38.141   Cond. No.                         439.\n",
      "==============================================================================\n",
      "\n",
      "Warnings:\n",
      "[1] Standard Errors assume that the covariance matrix of the errors is correctly specified.\n"
     ]
    }
   ],
   "source": [
    "print(maleModelWithMonthsFromScreening.summary())"
   ]
  },
  {
   "cell_type": "code",
   "execution_count": null,
   "metadata": {
    "collapsed": true
   },
   "outputs": [],
   "source": []
  },
  {
   "cell_type": "markdown",
   "metadata": {},
   "source": [
    "&&&&\n",
    "\n",
    "FEMALE DATA ONLY\n",
    "\n",
    "Independent : PD Duration(monthsFromScreening), Age, MonthsFromEval (BL, 4 months, 6 months, etc)\n",
    "\n",
    "Dependent : Protein Level"
   ]
  },
  {
   "cell_type": "code",
   "execution_count": 54,
   "metadata": {},
   "outputs": [
    {
     "name": "stdout",
     "output_type": "stream",
     "text": [
      "                            OLS Regression Results                            \n",
      "==============================================================================\n",
      "Dep. Variable:                protein   R-squared:                       0.002\n",
      "Model:                            OLS   Adj. R-squared:                 -0.005\n",
      "Method:                 Least Squares   F-statistic:                    0.2328\n",
      "Date:                Thu, 27 Jul 2017   Prob (F-statistic):              0.873\n",
      "Time:                        00:49:52   Log-Likelihood:                -2031.7\n",
      "No. Observations:                 460   AIC:                             4071.\n",
      "Df Residuals:                     456   BIC:                             4088.\n",
      "Df Model:                           3                                         \n",
      "Covariance Type:            nonrobust                                         \n",
      "=======================================================================================\n",
      "                          coef    std err          t      P>|t|      [0.025      0.975]\n",
      "---------------------------------------------------------------------------------------\n",
      "Intercept              33.8179      5.856      5.775      0.000      22.311      45.325\n",
      "monthsFromScreening     0.0247      0.103      0.240      0.810      -0.177       0.227\n",
      "age                     0.0253      0.093      0.272      0.786      -0.158       0.208\n",
      "monthsFromEval          0.1916      0.256      0.749      0.454      -0.311       0.694\n",
      "==============================================================================\n",
      "Omnibus:                      729.472   Durbin-Watson:                   1.476\n",
      "Prob(Omnibus):                  0.000   Jarque-Bera (JB):           331783.573\n",
      "Skew:                           8.668   Prob(JB):                         0.00\n",
      "Kurtosis:                     133.422   Cond. No.                         385.\n",
      "==============================================================================\n",
      "\n",
      "Warnings:\n",
      "[1] Standard Errors assume that the covariance matrix of the errors is correctly specified.\n"
     ]
    }
   ],
   "source": [
    "print(femaleModelWithMonthsFromScreening.summary())"
   ]
  },
  {
   "cell_type": "code",
   "execution_count": null,
   "metadata": {
    "collapsed": true
   },
   "outputs": [],
   "source": []
  },
  {
   "cell_type": "code",
   "execution_count": 64,
   "metadata": {},
   "outputs": [
    {
     "name": "stdout",
     "output_type": "stream",
     "text": [
      "268 617 397 427 453\n"
     ]
    },
    {
     "name": "stderr",
     "output_type": "stream",
     "text": [
      "/Users/rahulkhanna/Documents/comp_gene/clouds/lib/python2.7/site-packages/ipykernel_launcher.py:3: UserWarning: Boolean Series key will be reindexed to match DataFrame index.\n",
      "  This is separate from the ipykernel package so we can avoid doing imports until\n",
      "/Users/rahulkhanna/Documents/comp_gene/clouds/lib/python2.7/site-packages/ipykernel_launcher.py:4: UserWarning: Boolean Series key will be reindexed to match DataFrame index.\n",
      "  after removing the cwd from sys.path.\n",
      "/Users/rahulkhanna/Documents/comp_gene/clouds/lib/python2.7/site-packages/ipykernel_launcher.py:5: UserWarning: Boolean Series key will be reindexed to match DataFrame index.\n",
      "  \"\"\"\n"
     ]
    }
   ],
   "source": [
    "youngWithType = dataWithType[dataWithType['age'] < 50]\n",
    "midOneWithType = dataWithType[dataWithType['age'] < 60][dataWithType['age'] >= 50]\n",
    "midTwoWithType = dataWithType[dataWithType['age'] < 65][dataWithType['age'] >= 60]\n",
    "midThreeWithType = dataWithType[dataWithType['age'] < 70][dataWithType['age'] >= 65]\n",
    "oldWithType = dataWithType[dataWithType['age'] >= 70]\n",
    "print len(youngWithType), len(midOneWithType), len(midTwoWithType), len(midThreeWithType), len(oldWithType)\n",
    "\n",
    "youngModelWithType = ols('protein ~ type + gender + monthsFromEval', youngWithType).fit()\n",
    "midOneModelWithType = ols('protein ~ type + gender + monthsFromEval', midOneWithType).fit()\n",
    "midTwoModelWithType = ols('protein ~ type + gender + monthsFromEval', midTwoWithType).fit()\n",
    "midThreeModelWithType = ols('protein ~ type + gender + monthsFromEval', midThreeWithType).fit()\n",
    "oldModelWithType = ols('protein ~ type + gender + monthsFromEval', oldWithType).fit()"
   ]
  },
  {
   "cell_type": "code",
   "execution_count": null,
   "metadata": {
    "collapsed": true
   },
   "outputs": [],
   "source": []
  },
  {
   "cell_type": "markdown",
   "metadata": {},
   "source": [
    "&&&&\n",
    "\n",
    "YOUNG DATA ONLY (age < 50)\n",
    "\n",
    "Independent : Type (Case Vs Control), Gender, MonthsFromEval (BL, 4 months, 6 months, etc)\n",
    "\n",
    "Dependent : Protein Level"
   ]
  },
  {
   "cell_type": "code",
   "execution_count": 65,
   "metadata": {},
   "outputs": [
    {
     "name": "stdout",
     "output_type": "stream",
     "text": [
      "                            OLS Regression Results                            \n",
      "==============================================================================\n",
      "Dep. Variable:                protein   R-squared:                       0.072\n",
      "Model:                            OLS   Adj. R-squared:                  0.061\n",
      "Method:                 Least Squares   F-statistic:                     6.825\n",
      "Date:                Thu, 27 Jul 2017   Prob (F-statistic):           0.000191\n",
      "Time:                        00:55:34   Log-Likelihood:                -1133.0\n",
      "No. Observations:                 268   AIC:                             2274.\n",
      "Df Residuals:                     264   BIC:                             2288.\n",
      "Df Model:                           3                                         \n",
      "Covariance Type:            nonrobust                                         \n",
      "==================================================================================\n",
      "                     coef    std err          t      P>|t|      [0.025      0.975]\n",
      "----------------------------------------------------------------------------------\n",
      "Intercept         31.1528      2.532     12.304      0.000      26.167      36.138\n",
      "type               5.2338      2.103      2.489      0.013       1.093       9.375\n",
      "gender             8.0213      2.125      3.775      0.000       3.837      12.205\n",
      "monthsFromEval    -0.0280      0.264     -0.106      0.915      -0.547       0.491\n",
      "==============================================================================\n",
      "Omnibus:                       47.879   Durbin-Watson:                   0.775\n",
      "Prob(Omnibus):                  0.000   Jarque-Bera (JB):              129.079\n",
      "Skew:                           0.798   Prob(JB):                     9.35e-29\n",
      "Kurtosis:                       6.002   Cond. No.                         19.8\n",
      "==============================================================================\n",
      "\n",
      "Warnings:\n",
      "[1] Standard Errors assume that the covariance matrix of the errors is correctly specified.\n"
     ]
    }
   ],
   "source": [
    "print(youngModelWithType.summary())"
   ]
  },
  {
   "cell_type": "code",
   "execution_count": null,
   "metadata": {
    "collapsed": true
   },
   "outputs": [],
   "source": []
  },
  {
   "cell_type": "markdown",
   "metadata": {},
   "source": [
    "&&&&\n",
    "\n",
    "MID_1 DATA ONLY (50 <= age < 60)\n",
    "\n",
    "Independent : Type (Case Vs Control), Gender, MonthsFromEval (BL, 4 months, 6 months, etc)\n",
    "\n",
    "Dependent : Protein Level"
   ]
  },
  {
   "cell_type": "code",
   "execution_count": 66,
   "metadata": {},
   "outputs": [
    {
     "name": "stdout",
     "output_type": "stream",
     "text": [
      "                            OLS Regression Results                            \n",
      "==============================================================================\n",
      "Dep. Variable:                protein   R-squared:                       0.086\n",
      "Model:                            OLS   Adj. R-squared:                  0.082\n",
      "Method:                 Least Squares   F-statistic:                     19.29\n",
      "Date:                Thu, 27 Jul 2017   Prob (F-statistic):           5.82e-12\n",
      "Time:                        00:55:38   Log-Likelihood:                -2706.9\n",
      "No. Observations:                 617   AIC:                             5422.\n",
      "Df Residuals:                     613   BIC:                             5440.\n",
      "Df Model:                           3                                         \n",
      "Covariance Type:            nonrobust                                         \n",
      "==================================================================================\n",
      "                     coef    std err          t      P>|t|      [0.025      0.975]\n",
      "----------------------------------------------------------------------------------\n",
      "Intercept         36.1705      2.025     17.859      0.000      32.193      40.148\n",
      "type              -2.6979      1.686     -1.600      0.110      -6.009       0.613\n",
      "gender            11.5215      1.606      7.175      0.000       8.368      14.675\n",
      "monthsFromEval     0.3623      0.212      1.709      0.088      -0.054       0.779\n",
      "==============================================================================\n",
      "Omnibus:                      859.862   Durbin-Watson:                   1.379\n",
      "Prob(Omnibus):                  0.000   Jarque-Bera (JB):           320945.298\n",
      "Skew:                           7.041   Prob(JB):                         0.00\n",
      "Kurtosis:                     113.841   Cond. No.                         20.4\n",
      "==============================================================================\n",
      "\n",
      "Warnings:\n",
      "[1] Standard Errors assume that the covariance matrix of the errors is correctly specified.\n"
     ]
    }
   ],
   "source": [
    "print(midOneModelWithType.summary())"
   ]
  },
  {
   "cell_type": "code",
   "execution_count": null,
   "metadata": {
    "collapsed": true
   },
   "outputs": [],
   "source": []
  },
  {
   "cell_type": "markdown",
   "metadata": {},
   "source": [
    "&&&&\n",
    "\n",
    "MID_2 DATA ONLY (60 <= age < 65)\n",
    "\n",
    "Independent : Type (Case Vs Control), Gender, MonthsFromEval (BL, 4 months, 6 months, etc)\n",
    "\n",
    "Dependent : Protein Level"
   ]
  },
  {
   "cell_type": "code",
   "execution_count": 67,
   "metadata": {},
   "outputs": [
    {
     "name": "stdout",
     "output_type": "stream",
     "text": [
      "                            OLS Regression Results                            \n",
      "==============================================================================\n",
      "Dep. Variable:                protein   R-squared:                       0.117\n",
      "Model:                            OLS   Adj. R-squared:                  0.110\n",
      "Method:                 Least Squares   F-statistic:                     17.32\n",
      "Date:                Thu, 27 Jul 2017   Prob (F-statistic):           1.40e-10\n",
      "Time:                        00:55:58   Log-Likelihood:                -1729.6\n",
      "No. Observations:                 397   AIC:                             3467.\n",
      "Df Residuals:                     393   BIC:                             3483.\n",
      "Df Model:                           3                                         \n",
      "Covariance Type:            nonrobust                                         \n",
      "==================================================================================\n",
      "                     coef    std err          t      P>|t|      [0.025      0.975]\n",
      "----------------------------------------------------------------------------------\n",
      "Intercept         32.9213      2.426     13.571      0.000      28.152      37.690\n",
      "type               6.3126      2.057      3.069      0.002       2.269      10.357\n",
      "gender            11.7165      2.032      5.765      0.000       7.721      15.712\n",
      "monthsFromEval     0.0225      0.254      0.089      0.929      -0.477       0.522\n",
      "==============================================================================\n",
      "Omnibus:                      198.067   Durbin-Watson:                   0.848\n",
      "Prob(Omnibus):                  0.000   Jarque-Bera (JB):             1457.594\n",
      "Skew:                           1.997   Prob(JB):                         0.00\n",
      "Kurtosis:                      11.495   Cond. No.                         19.5\n",
      "==============================================================================\n",
      "\n",
      "Warnings:\n",
      "[1] Standard Errors assume that the covariance matrix of the errors is correctly specified.\n"
     ]
    }
   ],
   "source": [
    "print(midTwoModelWithType.summary())"
   ]
  },
  {
   "cell_type": "code",
   "execution_count": null,
   "metadata": {
    "collapsed": true
   },
   "outputs": [],
   "source": []
  },
  {
   "cell_type": "markdown",
   "metadata": {},
   "source": [
    "&&&&\n",
    "\n",
    "MID_3 DATA ONLY (65 <= age < 70)\n",
    "\n",
    "Independent : Type (Case Vs Control), Gender, MonthsFromEval (BL, 4 months, 6 months, etc)\n",
    "\n",
    "Dependent : Protein Level"
   ]
  },
  {
   "cell_type": "code",
   "execution_count": 68,
   "metadata": {},
   "outputs": [
    {
     "name": "stdout",
     "output_type": "stream",
     "text": [
      "                            OLS Regression Results                            \n",
      "==============================================================================\n",
      "Dep. Variable:                protein   R-squared:                       0.065\n",
      "Model:                            OLS   Adj. R-squared:                  0.059\n",
      "Method:                 Least Squares   F-statistic:                     9.829\n",
      "Date:                Thu, 27 Jul 2017   Prob (F-statistic):           2.80e-06\n",
      "Time:                        01:00:59   Log-Likelihood:                -2070.4\n",
      "No. Observations:                 427   AIC:                             4149.\n",
      "Df Residuals:                     423   BIC:                             4165.\n",
      "Df Model:                           3                                         \n",
      "Covariance Type:            nonrobust                                         \n",
      "==================================================================================\n",
      "                     coef    std err          t      P>|t|      [0.025      0.975]\n",
      "----------------------------------------------------------------------------------\n",
      "Intercept         29.6058      4.308      6.872      0.000      21.137      38.075\n",
      "type               4.7534      3.430      1.386      0.167      -1.988      11.495\n",
      "gender            16.3761      3.483      4.701      0.000       9.529      23.223\n",
      "monthsFromEval     0.7735      0.390      1.983      0.048       0.007       1.540\n",
      "==============================================================================\n",
      "Omnibus:                      514.804   Durbin-Watson:                   1.195\n",
      "Prob(Omnibus):                  0.000   Jarque-Bera (JB):            61225.432\n",
      "Skew:                           5.457   Prob(JB):                         0.00\n",
      "Kurtosis:                      60.638   Cond. No.                         23.0\n",
      "==============================================================================\n",
      "\n",
      "Warnings:\n",
      "[1] Standard Errors assume that the covariance matrix of the errors is correctly specified.\n"
     ]
    }
   ],
   "source": [
    "print(midThreeModelWithType.summary())"
   ]
  },
  {
   "cell_type": "code",
   "execution_count": null,
   "metadata": {
    "collapsed": true
   },
   "outputs": [],
   "source": []
  },
  {
   "cell_type": "markdown",
   "metadata": {},
   "source": [
    "&&&&\n",
    "\n",
    "OLD DATA ONLY (age >= 70)\n",
    "\n",
    "Independent : Type (Case Vs Control), Gender, MonthsFromEval (BL, 4 months, 6 months, etc)\n",
    "\n",
    "Dependent : Protein Level"
   ]
  },
  {
   "cell_type": "code",
   "execution_count": 69,
   "metadata": {},
   "outputs": [
    {
     "name": "stdout",
     "output_type": "stream",
     "text": [
      "                            OLS Regression Results                            \n",
      "==============================================================================\n",
      "Dep. Variable:                protein   R-squared:                       0.046\n",
      "Model:                            OLS   Adj. R-squared:                  0.040\n",
      "Method:                 Least Squares   F-statistic:                     7.212\n",
      "Date:                Thu, 27 Jul 2017   Prob (F-statistic):           9.78e-05\n",
      "Time:                        01:01:07   Log-Likelihood:                -2088.3\n",
      "No. Observations:                 453   AIC:                             4185.\n",
      "Df Residuals:                     449   BIC:                             4201.\n",
      "Df Model:                           3                                         \n",
      "Covariance Type:            nonrobust                                         \n",
      "==================================================================================\n",
      "                     coef    std err          t      P>|t|      [0.025      0.975]\n",
      "----------------------------------------------------------------------------------\n",
      "Intercept         35.1310      3.052     11.509      0.000      29.132      41.130\n",
      "type               1.2619      2.427      0.520      0.603      -3.508       6.032\n",
      "gender            11.2751      2.479      4.549      0.000       6.404      16.146\n",
      "monthsFromEval     0.2323      0.308      0.754      0.451      -0.373       0.838\n",
      "==============================================================================\n",
      "Omnibus:                      619.163   Durbin-Watson:                   1.422\n",
      "Prob(Omnibus):                  0.000   Jarque-Bera (JB):           145080.844\n",
      "Skew:                           6.657   Prob(JB):                         0.00\n",
      "Kurtosis:                      89.655   Cond. No.                         20.4\n",
      "==============================================================================\n",
      "\n",
      "Warnings:\n",
      "[1] Standard Errors assume that the covariance matrix of the errors is correctly specified.\n"
     ]
    }
   ],
   "source": [
    "print(oldModelWithType.summary())"
   ]
  },
  {
   "cell_type": "code",
   "execution_count": null,
   "metadata": {
    "collapsed": true
   },
   "outputs": [],
   "source": []
  },
  {
   "cell_type": "code",
   "execution_count": 78,
   "metadata": {},
   "outputs": [
    {
     "name": "stdout",
     "output_type": "stream",
     "text": [
      "166 384 241 306 199\n"
     ]
    },
    {
     "name": "stderr",
     "output_type": "stream",
     "text": [
      "/Users/rahulkhanna/Documents/comp_gene/clouds/lib/python2.7/site-packages/ipykernel_launcher.py:2: UserWarning: Boolean Series key will be reindexed to match DataFrame index.\n",
      "  \n",
      "/Users/rahulkhanna/Documents/comp_gene/clouds/lib/python2.7/site-packages/ipykernel_launcher.py:3: UserWarning: Boolean Series key will be reindexed to match DataFrame index.\n",
      "  This is separate from the ipykernel package so we can avoid doing imports until\n",
      "/Users/rahulkhanna/Documents/comp_gene/clouds/lib/python2.7/site-packages/ipykernel_launcher.py:4: UserWarning: Boolean Series key will be reindexed to match DataFrame index.\n",
      "  after removing the cwd from sys.path.\n",
      "/Users/rahulkhanna/Documents/comp_gene/clouds/lib/python2.7/site-packages/ipykernel_launcher.py:5: UserWarning: Boolean Series key will be reindexed to match DataFrame index.\n",
      "  \"\"\"\n"
     ]
    }
   ],
   "source": [
    "youngWithMonthsFromScreening = dataWithMonthsFromScreening[dataWithMonthsFromScreening['age'] < 50]\n",
    "midOneWithMonthsFromScreening = dataWithMonthsFromScreening[dataWithMonthsFromScreening['age'] < 60][dataWithMonthsFromScreening['age'] >= 50]\n",
    "midTwoWithMonthsFromScreening = dataWithMonthsFromScreening[dataWithMonthsFromScreening['age'] < 65][dataWithMonthsFromScreening['age'] >= 60]\n",
    "midThreeWithMonthsFromScreening = dataWithMonthsFromScreening[dataWithMonthsFromScreening['age'] < 70][dataWithMonthsFromScreening['age'] >= 65]\n",
    "oldWithMonthsFromScreening = dataWithMonthsFromScreening[dataWithType['age'] >= 70]\n",
    "print len(youngWithMonthsFromScreening), len(midOneWithMonthsFromScreening), len(midTwoWithMonthsFromScreening), len(midThreeWithMonthsFromScreening), len(oldWithMonthsFromScreening)\n",
    "\n",
    "youngModelWithMonthsFromScreening = ols('protein ~ monthsFromScreening + gender + monthsFromEval', youngWithMonthsFromScreening).fit()\n",
    "midOneModelWithMonthsFromScreening = ols('protein ~ monthsFromScreening + gender + monthsFromEval', midOneWithMonthsFromScreening).fit()\n",
    "midTwoModelWithMonthsFromScreening = ols('protein ~ monthsFromScreening + gender + monthsFromEval', midTwoWithMonthsFromScreening).fit()\n",
    "midThreeModelWithMonthsFromScreening = ols('protein ~ monthsFromScreening + gender + monthsFromEval', midThreeWithMonthsFromScreening).fit()\n",
    "oldModelWithMonthsFromScreening = ols('protein ~ monthsFromScreening + gender + monthsFromEval', oldWithMonthsFromScreening).fit()"
   ]
  },
  {
   "cell_type": "code",
   "execution_count": null,
   "metadata": {
    "collapsed": true
   },
   "outputs": [],
   "source": []
  },
  {
   "cell_type": "markdown",
   "metadata": {},
   "source": [
    "&&&&\n",
    "\n",
    "YOUNG DATA ONLY (age < 50)\n",
    "\n",
    "Independent : PD Duration (monthsFromScreening), Gender, MonthsFromEval (BL, 4 months, 6 months, etc)\n",
    "\n",
    "Dependent : Protein Level"
   ]
  },
  {
   "cell_type": "code",
   "execution_count": 79,
   "metadata": {},
   "outputs": [
    {
     "name": "stdout",
     "output_type": "stream",
     "text": [
      "                            OLS Regression Results                            \n",
      "==============================================================================\n",
      "Dep. Variable:                protein   R-squared:                       0.048\n",
      "Model:                            OLS   Adj. R-squared:                  0.031\n",
      "Method:                 Least Squares   F-statistic:                     2.731\n",
      "Date:                Thu, 27 Jul 2017   Prob (F-statistic):             0.0457\n",
      "Time:                        10:39:14   Log-Likelihood:                -715.37\n",
      "No. Observations:                 166   AIC:                             1439.\n",
      "Df Residuals:                     162   BIC:                             1451.\n",
      "Df Model:                           3                                         \n",
      "Covariance Type:            nonrobust                                         \n",
      "=======================================================================================\n",
      "                          coef    std err          t      P>|t|      [0.025      0.975]\n",
      "---------------------------------------------------------------------------------------\n",
      "Intercept              34.3665      3.451      9.957      0.000      27.551      41.182\n",
      "monthsFromScreening     0.3264      0.217      1.502      0.135      -0.103       0.756\n",
      "gender                  7.8071      2.975      2.624      0.010       1.933      13.682\n",
      "monthsFromEval          0.0085      0.372      0.023      0.982      -0.726       0.743\n",
      "==============================================================================\n",
      "Omnibus:                       39.209   Durbin-Watson:                   0.763\n",
      "Prob(Omnibus):                  0.000   Jarque-Bera (JB):              112.425\n",
      "Skew:                           0.925   Prob(JB):                     3.87e-25\n",
      "Kurtosis:                       6.582   Cond. No.                         28.7\n",
      "==============================================================================\n",
      "\n",
      "Warnings:\n",
      "[1] Standard Errors assume that the covariance matrix of the errors is correctly specified.\n"
     ]
    }
   ],
   "source": [
    "print(youngModelWithMonthsFromScreening.summary())"
   ]
  },
  {
   "cell_type": "code",
   "execution_count": null,
   "metadata": {
    "collapsed": true
   },
   "outputs": [],
   "source": []
  },
  {
   "cell_type": "markdown",
   "metadata": {},
   "source": [
    "&&&&\n",
    "\n",
    "MID_1 DATA ONLY (50 <= age < 60)\n",
    "\n",
    "Independent : PD Duration (monthsFromScreening), Gender, MonthsFromEval (BL, 4 months, 6 months, etc)\n",
    "\n",
    "Dependent : Protein Level"
   ]
  },
  {
   "cell_type": "code",
   "execution_count": 80,
   "metadata": {},
   "outputs": [
    {
     "name": "stdout",
     "output_type": "stream",
     "text": [
      "                            OLS Regression Results                            \n",
      "==============================================================================\n",
      "Dep. Variable:                protein   R-squared:                       0.048\n",
      "Model:                            OLS   Adj. R-squared:                  0.040\n",
      "Method:                 Least Squares   F-statistic:                     6.325\n",
      "Date:                Thu, 27 Jul 2017   Prob (F-statistic):           0.000340\n",
      "Time:                        10:39:19   Log-Likelihood:                -1741.1\n",
      "No. Observations:                 384   AIC:                             3490.\n",
      "Df Residuals:                     380   BIC:                             3506.\n",
      "Df Model:                           3                                         \n",
      "Covariance Type:            nonrobust                                         \n",
      "=======================================================================================\n",
      "                          coef    std err          t      P>|t|      [0.025      0.975]\n",
      "---------------------------------------------------------------------------------------\n",
      "Intercept              34.8665      2.552     13.661      0.000      29.848      39.885\n",
      "monthsFromScreening    -0.0652      0.124     -0.524      0.601      -0.310       0.180\n",
      "gender                  9.7596      2.350      4.153      0.000       5.139      14.381\n",
      "monthsFromEval          0.3338      0.318      1.051      0.294      -0.291       0.959\n",
      "==============================================================================\n",
      "Omnibus:                      556.884   Durbin-Watson:                   1.443\n",
      "Prob(Omnibus):                  0.000   Jarque-Bera (JB):           153578.824\n",
      "Skew:                           7.172   Prob(JB):                         0.00\n",
      "Kurtosis:                      99.917   Cond. No.                         32.4\n",
      "==============================================================================\n",
      "\n",
      "Warnings:\n",
      "[1] Standard Errors assume that the covariance matrix of the errors is correctly specified.\n"
     ]
    }
   ],
   "source": [
    "print(midOneModelWithMonthsFromScreening.summary())"
   ]
  },
  {
   "cell_type": "code",
   "execution_count": null,
   "metadata": {
    "collapsed": true
   },
   "outputs": [],
   "source": []
  },
  {
   "cell_type": "markdown",
   "metadata": {},
   "source": [
    "&&&&\n",
    "\n",
    "MID_2 DATA ONLY (60 <= age < 65)\n",
    "\n",
    "Independent : PD Duration (monthsFromScreening), Gender, MonthsFromEval (BL, 4 months, 6 months, etc)\n",
    "\n",
    "Dependent : Protein Level"
   ]
  },
  {
   "cell_type": "code",
   "execution_count": 81,
   "metadata": {},
   "outputs": [
    {
     "name": "stdout",
     "output_type": "stream",
     "text": [
      "                            OLS Regression Results                            \n",
      "==============================================================================\n",
      "Dep. Variable:                protein   R-squared:                       0.140\n",
      "Model:                            OLS   Adj. R-squared:                  0.129\n",
      "Method:                 Least Squares   F-statistic:                     12.84\n",
      "Date:                Thu, 27 Jul 2017   Prob (F-statistic):           8.40e-08\n",
      "Time:                        10:39:23   Log-Likelihood:                -1070.7\n",
      "No. Observations:                 241   AIC:                             2149.\n",
      "Df Residuals:                     237   BIC:                             2163.\n",
      "Df Model:                           3                                         \n",
      "Covariance Type:            nonrobust                                         \n",
      "=======================================================================================\n",
      "                          coef    std err          t      P>|t|      [0.025      0.975]\n",
      "---------------------------------------------------------------------------------------\n",
      "Intercept              35.8813      3.381     10.613      0.000      29.221      42.542\n",
      "monthsFromScreening    -0.1739      0.349     -0.499      0.618      -0.861       0.513\n",
      "gender                 17.5440      2.894      6.061      0.000      11.842      23.246\n",
      "monthsFromEval          0.1688      0.363      0.465      0.643      -0.547       0.884\n",
      "==============================================================================\n",
      "Omnibus:                      136.690   Durbin-Watson:                   0.840\n",
      "Prob(Omnibus):                  0.000   Jarque-Bera (JB):              866.628\n",
      "Skew:                           2.231   Prob(JB):                    6.52e-189\n",
      "Kurtosis:                      11.148   Cond. No.                         21.9\n",
      "==============================================================================\n",
      "\n",
      "Warnings:\n",
      "[1] Standard Errors assume that the covariance matrix of the errors is correctly specified.\n"
     ]
    }
   ],
   "source": [
    "print(midTwoModelWithMonthsFromScreening.summary())"
   ]
  },
  {
   "cell_type": "code",
   "execution_count": null,
   "metadata": {
    "collapsed": true
   },
   "outputs": [],
   "source": []
  },
  {
   "cell_type": "markdown",
   "metadata": {},
   "source": [
    "&&&&\n",
    "\n",
    "MID_3 DATA ONLY (65 <= age < 70)\n",
    "\n",
    "Independent : PD Duration (monthsFromScreening), Gender, MonthsFromEval (BL, 4 months, 6 months, etc)\n",
    "\n",
    "Dependent : Protein Level"
   ]
  },
  {
   "cell_type": "code",
   "execution_count": 82,
   "metadata": {},
   "outputs": [
    {
     "name": "stdout",
     "output_type": "stream",
     "text": [
      "                            OLS Regression Results                            \n",
      "==============================================================================\n",
      "Dep. Variable:                protein   R-squared:                       0.134\n",
      "Model:                            OLS   Adj. R-squared:                  0.126\n",
      "Method:                 Least Squares   F-statistic:                     15.63\n",
      "Date:                Thu, 27 Jul 2017   Prob (F-statistic):           1.79e-09\n",
      "Time:                        10:39:28   Log-Likelihood:                -1431.0\n",
      "No. Observations:                 306   AIC:                             2870.\n",
      "Df Residuals:                     302   BIC:                             2885.\n",
      "Df Model:                           3                                         \n",
      "Covariance Type:            nonrobust                                         \n",
      "=======================================================================================\n",
      "                          coef    std err          t      P>|t|      [0.025      0.975]\n",
      "---------------------------------------------------------------------------------------\n",
      "Intercept              29.3312      3.846      7.627      0.000      21.763      36.899\n",
      "monthsFromScreening     1.0967      0.234      4.677      0.000       0.635       1.558\n",
      "gender                 15.9100      3.516      4.525      0.000       8.990      22.830\n",
      "monthsFromEval          0.3617      0.394      0.919      0.359      -0.413       1.136\n",
      "==============================================================================\n",
      "Omnibus:                      137.837   Durbin-Watson:                   0.644\n",
      "Prob(Omnibus):                  0.000   Jarque-Bera (JB):              796.696\n",
      "Skew:                           1.779   Prob(JB):                    9.99e-174\n",
      "Kurtosis:                      10.058   Cond. No.                         33.5\n",
      "==============================================================================\n",
      "\n",
      "Warnings:\n",
      "[1] Standard Errors assume that the covariance matrix of the errors is correctly specified.\n"
     ]
    }
   ],
   "source": [
    "print(midThreeModelWithMonthsFromScreening.summary())"
   ]
  },
  {
   "cell_type": "code",
   "execution_count": null,
   "metadata": {
    "collapsed": true
   },
   "outputs": [],
   "source": []
  },
  {
   "cell_type": "markdown",
   "metadata": {},
   "source": [
    "&&&&\n",
    "\n",
    "OLD DATA ONLY (age >= 70)\n",
    "\n",
    "Independent : PD Duration (monthsFromScreening), Gender, MonthsFromEval (BL, 4 months, 6 months, etc)\n",
    "\n",
    "Dependent : Protein Level"
   ]
  },
  {
   "cell_type": "code",
   "execution_count": 83,
   "metadata": {},
   "outputs": [
    {
     "name": "stdout",
     "output_type": "stream",
     "text": [
      "                            OLS Regression Results                            \n",
      "==============================================================================\n",
      "Dep. Variable:                protein   R-squared:                       0.089\n",
      "Model:                            OLS   Adj. R-squared:                  0.075\n",
      "Method:                 Least Squares   F-statistic:                     6.360\n",
      "Date:                Thu, 27 Jul 2017   Prob (F-statistic):           0.000391\n",
      "Time:                        10:39:33   Log-Likelihood:                -965.03\n",
      "No. Observations:                 199   AIC:                             1938.\n",
      "Df Residuals:                     195   BIC:                             1951.\n",
      "Df Model:                           3                                         \n",
      "Covariance Type:            nonrobust                                         \n",
      "=======================================================================================\n",
      "                          coef    std err          t      P>|t|      [0.025      0.975]\n",
      "---------------------------------------------------------------------------------------\n",
      "Intercept              33.6835      5.445      6.187      0.000      22.946      44.421\n",
      "monthsFromScreening     0.0178      0.261      0.068      0.946      -0.497       0.532\n",
      "gender                 20.5623      5.007      4.107      0.000      10.688      30.436\n",
      "monthsFromEval         -0.0335      0.624     -0.054      0.957      -1.265       1.198\n",
      "==============================================================================\n",
      "Omnibus:                      298.317   Durbin-Watson:                   1.678\n",
      "Prob(Omnibus):                  0.000   Jarque-Bera (JB):            40460.273\n",
      "Skew:                           6.706   Prob(JB):                         0.00\n",
      "Kurtosis:                      71.555   Cond. No.                         35.2\n",
      "==============================================================================\n",
      "\n",
      "Warnings:\n",
      "[1] Standard Errors assume that the covariance matrix of the errors is correctly specified.\n"
     ]
    }
   ],
   "source": [
    "print(oldModelWithMonthsFromScreening.summary())"
   ]
  },
  {
   "cell_type": "code",
   "execution_count": null,
   "metadata": {
    "collapsed": true
   },
   "outputs": [],
   "source": []
  },
  {
   "cell_type": "code",
   "execution_count": 85,
   "metadata": {
    "collapsed": true
   },
   "outputs": [],
   "source": [
    "blDataWithType = dataWithType[dataWithType['monthsFromEval'] == 0]\n",
    "fourDataWithType = dataWithType[dataWithType['monthsFromEval'] == 4]\n",
    "sixDataWithType = dataWithType[dataWithType['monthsFromEval'] == 6]\n",
    "eightDataWithType = dataWithType[dataWithType['monthsFromEval'] == 8]\n",
    "tenDataWithType = dataWithType[dataWithType['monthsFromEval'] == 10]\n",
    "twelveDataWithType = dataWithType[dataWithType['monthsFromEval'] == 12]\n",
    "\n",
    "blModelWithType = ols('protein ~ type + gender + age', blDataWithType).fit()\n",
    "fourModelWithType = ols('protein ~ type + gender + age', fourDataWithType).fit()\n",
    "sixModelWithType = ols('protein ~ type + gender + age', sixDataWithType).fit()\n",
    "eightModelWithType = ols('protein ~ type + gender + age', eightDataWithType).fit()\n",
    "tenModelWithType = ols('protein ~ type + gender + age', tenDataWithType).fit()\n",
    "twelveModelWithType = ols('protein ~ type + gender + age', twelveDataWithType).fit()"
   ]
  },
  {
   "cell_type": "code",
   "execution_count": null,
   "metadata": {
    "collapsed": true
   },
   "outputs": [],
   "source": []
  },
  {
   "cell_type": "markdown",
   "metadata": {},
   "source": [
    "&&&&\n",
    "\n",
    "ONLY PROTEIN LEVELS FROM THE BL EVAL\n",
    "\n",
    "Independent : Type (Case vs Control), Gender, Age\n",
    "\n",
    "Dependent : Protein Level"
   ]
  },
  {
   "cell_type": "code",
   "execution_count": 86,
   "metadata": {},
   "outputs": [
    {
     "name": "stdout",
     "output_type": "stream",
     "text": [
      "                            OLS Regression Results                            \n",
      "==============================================================================\n",
      "Dep. Variable:                protein   R-squared:                       0.104\n",
      "Model:                            OLS   Adj. R-squared:                  0.099\n",
      "Method:                 Least Squares   F-statistic:                     21.92\n",
      "Date:                Thu, 27 Jul 2017   Prob (F-statistic):           1.92e-13\n",
      "Time:                        10:53:53   Log-Likelihood:                -2475.1\n",
      "No. Observations:                 571   AIC:                             4958.\n",
      "Df Residuals:                     567   BIC:                             4976.\n",
      "Df Model:                           3                                         \n",
      "Covariance Type:            nonrobust                                         \n",
      "==============================================================================\n",
      "                 coef    std err          t      P>|t|      [0.025      0.975]\n",
      "------------------------------------------------------------------------------\n",
      "Intercept     24.6002      4.817      5.107      0.000      15.139      34.062\n",
      "type           2.1279      1.672      1.273      0.204      -1.156       5.412\n",
      "gender        12.3492      1.637      7.544      0.000       9.134      15.564\n",
      "age            0.1430      0.076      1.887      0.060      -0.006       0.292\n",
      "==============================================================================\n",
      "Omnibus:                      172.826   Durbin-Watson:                   1.792\n",
      "Prob(Omnibus):                  0.000   Jarque-Bera (JB):             1174.497\n",
      "Skew:                           1.153   Prob(JB):                    9.14e-256\n",
      "Kurtosis:                       9.637   Cond. No.                         388.\n",
      "==============================================================================\n",
      "\n",
      "Warnings:\n",
      "[1] Standard Errors assume that the covariance matrix of the errors is correctly specified.\n"
     ]
    }
   ],
   "source": [
    "print(blModelWithType.summary())"
   ]
  },
  {
   "cell_type": "code",
   "execution_count": null,
   "metadata": {
    "collapsed": true
   },
   "outputs": [],
   "source": []
  },
  {
   "cell_type": "markdown",
   "metadata": {},
   "source": [
    "&&&&\n",
    "\n",
    "ONLY PROTEIN LEVELS FROM THE 4 MONTH EVAL\n",
    "\n",
    "Independent : Type (Case vs Control), Gender, Age\n",
    "\n",
    "Dependent : Protein Level"
   ]
  },
  {
   "cell_type": "code",
   "execution_count": 87,
   "metadata": {},
   "outputs": [
    {
     "name": "stdout",
     "output_type": "stream",
     "text": [
      "                            OLS Regression Results                            \n",
      "==============================================================================\n",
      "Dep. Variable:                protein   R-squared:                       0.074\n",
      "Model:                            OLS   Adj. R-squared:                  0.067\n",
      "Method:                 Least Squares   F-statistic:                     11.28\n",
      "Date:                Thu, 27 Jul 2017   Prob (F-statistic):           3.91e-07\n",
      "Time:                        10:54:39   Log-Likelihood:                -2000.5\n",
      "No. Observations:                 430   AIC:                             4009.\n",
      "Df Residuals:                     426   BIC:                             4025.\n",
      "Df Model:                           3                                         \n",
      "Covariance Type:            nonrobust                                         \n",
      "==============================================================================\n",
      "                 coef    std err          t      P>|t|      [0.025      0.975]\n",
      "------------------------------------------------------------------------------\n",
      "Intercept     19.6805      7.830      2.514      0.012       4.291      35.070\n",
      "type           3.0523      2.624      1.163      0.245      -2.105       8.210\n",
      "gender        13.5413      2.629      5.151      0.000       8.375      18.708\n",
      "age            0.2322      0.123      1.888      0.060      -0.009       0.474\n",
      "==============================================================================\n",
      "Omnibus:                      557.811   Durbin-Watson:                   1.854\n",
      "Prob(Omnibus):                  0.000   Jarque-Bera (JB):            98127.735\n",
      "Skew:                           6.081   Prob(JB):                         0.00\n",
      "Kurtosis:                      76.000   Cond. No.                         397.\n",
      "==============================================================================\n",
      "\n",
      "Warnings:\n",
      "[1] Standard Errors assume that the covariance matrix of the errors is correctly specified.\n"
     ]
    }
   ],
   "source": [
    "print(fourModelWithType.summary())"
   ]
  },
  {
   "cell_type": "code",
   "execution_count": null,
   "metadata": {
    "collapsed": true
   },
   "outputs": [],
   "source": []
  },
  {
   "cell_type": "markdown",
   "metadata": {},
   "source": [
    "&&&&\n",
    "\n",
    "ONLY PROTEIN LEVELS FROM THE SIX MONTH EVAL\n",
    "\n",
    "Independent : Type (Case vs Control), Gender, Age\n",
    "\n",
    "Dependent : Protein Level"
   ]
  },
  {
   "cell_type": "code",
   "execution_count": 88,
   "metadata": {},
   "outputs": [
    {
     "name": "stdout",
     "output_type": "stream",
     "text": [
      "                            OLS Regression Results                            \n",
      "==============================================================================\n",
      "Dep. Variable:                protein   R-squared:                       0.031\n",
      "Model:                            OLS   Adj. R-squared:                  0.024\n",
      "Method:                 Least Squares   F-statistic:                     4.280\n",
      "Date:                Thu, 27 Jul 2017   Prob (F-statistic):            0.00545\n",
      "Time:                        10:55:00   Log-Likelihood:                -1947.0\n",
      "No. Observations:                 402   AIC:                             3902.\n",
      "Df Residuals:                     398   BIC:                             3918.\n",
      "Df Model:                           3                                         \n",
      "Covariance Type:            nonrobust                                         \n",
      "==============================================================================\n",
      "                 coef    std err          t      P>|t|      [0.025      0.975]\n",
      "------------------------------------------------------------------------------\n",
      "Intercept     27.6946      9.802      2.825      0.005       8.424      46.966\n",
      "type           0.9591      3.321      0.289      0.773      -5.570       7.488\n",
      "gender        10.9354      3.254      3.360      0.001       4.538      17.333\n",
      "age            0.1513      0.152      0.998      0.319      -0.147       0.449\n",
      "==============================================================================\n",
      "Omnibus:                      598.660   Durbin-Watson:                   1.993\n",
      "Prob(Omnibus):                  0.000   Jarque-Bera (JB):           131084.764\n",
      "Skew:                           7.773   Prob(JB):                         0.00\n",
      "Kurtosis:                      90.088   Cond. No.                         398.\n",
      "==============================================================================\n",
      "\n",
      "Warnings:\n",
      "[1] Standard Errors assume that the covariance matrix of the errors is correctly specified.\n"
     ]
    }
   ],
   "source": [
    "print(sixModelWithType.summary())"
   ]
  },
  {
   "cell_type": "code",
   "execution_count": null,
   "metadata": {
    "collapsed": true
   },
   "outputs": [],
   "source": []
  },
  {
   "cell_type": "markdown",
   "metadata": {},
   "source": [
    "&&&&\n",
    "\n",
    "ONLY PROTEIN LEVELS FROM THE EIGHT MONTH EVAL\n",
    "\n",
    "Independent : Type (Case vs Control), Gender, Age\n",
    "\n",
    "Dependent : Protein Level"
   ]
  },
  {
   "cell_type": "code",
   "execution_count": 89,
   "metadata": {},
   "outputs": [
    {
     "name": "stdout",
     "output_type": "stream",
     "text": [
      "                            OLS Regression Results                            \n",
      "==============================================================================\n",
      "Dep. Variable:                protein   R-squared:                       0.099\n",
      "Model:                            OLS   Adj. R-squared:                  0.092\n",
      "Method:                 Least Squares   F-statistic:                     13.91\n",
      "Date:                Thu, 27 Jul 2017   Prob (F-statistic):           1.26e-08\n",
      "Time:                        10:55:19   Log-Likelihood:                -1676.5\n",
      "No. Observations:                 384   AIC:                             3361.\n",
      "Df Residuals:                     380   BIC:                             3377.\n",
      "Df Model:                           3                                         \n",
      "Covariance Type:            nonrobust                                         \n",
      "==============================================================================\n",
      "                 coef    std err          t      P>|t|      [0.025      0.975]\n",
      "------------------------------------------------------------------------------\n",
      "Intercept     19.7344      6.417      3.075      0.002       7.117      32.352\n",
      "type           3.8135      2.136      1.786      0.075      -0.386       8.013\n",
      "gender        11.5298      2.065      5.584      0.000       7.470      15.589\n",
      "age            0.2269      0.099      2.285      0.023       0.032       0.422\n",
      "==============================================================================\n",
      "Omnibus:                      132.877   Durbin-Watson:                   1.876\n",
      "Prob(Omnibus):                  0.000   Jarque-Bera (JB):              727.906\n",
      "Skew:                           1.362   Prob(JB):                    8.65e-159\n",
      "Kurtosis:                       9.170   Cond. No.                         410.\n",
      "==============================================================================\n",
      "\n",
      "Warnings:\n",
      "[1] Standard Errors assume that the covariance matrix of the errors is correctly specified.\n"
     ]
    }
   ],
   "source": [
    "print(eightModelWithType.summary())"
   ]
  },
  {
   "cell_type": "code",
   "execution_count": null,
   "metadata": {
    "collapsed": true
   },
   "outputs": [],
   "source": []
  },
  {
   "cell_type": "markdown",
   "metadata": {},
   "source": [
    "&&&&\n",
    "\n",
    "ONLY PROTEIN LEVELS FROM THE TEN MONTH EVAL\n",
    "\n",
    "Independent : Type (Case vs Control), Gender, Age\n",
    "\n",
    "Dependent : Protein Level"
   ]
  },
  {
   "cell_type": "code",
   "execution_count": 90,
   "metadata": {},
   "outputs": [
    {
     "name": "stdout",
     "output_type": "stream",
     "text": [
      "                            OLS Regression Results                            \n",
      "==============================================================================\n",
      "Dep. Variable:                protein   R-squared:                       0.144\n",
      "Model:                            OLS   Adj. R-squared:                  0.134\n",
      "Method:                 Least Squares   F-statistic:                     13.98\n",
      "Date:                Thu, 27 Jul 2017   Prob (F-statistic):           1.87e-08\n",
      "Time:                        10:55:36   Log-Likelihood:                -1083.7\n",
      "No. Observations:                 253   AIC:                             2175.\n",
      "Df Residuals:                     249   BIC:                             2189.\n",
      "Df Model:                           3                                         \n",
      "Covariance Type:            nonrobust                                         \n",
      "==============================================================================\n",
      "                 coef    std err          t      P>|t|      [0.025      0.975]\n",
      "------------------------------------------------------------------------------\n",
      "Intercept     17.8157      7.012      2.541      0.012       4.006      31.625\n",
      "type           3.8681      2.398      1.613      0.108      -0.855       8.591\n",
      "gender        12.5023      2.397      5.216      0.000       7.781      17.223\n",
      "age            0.2888      0.112      2.586      0.010       0.069       0.509\n",
      "==============================================================================\n",
      "Omnibus:                      144.631   Durbin-Watson:                   1.941\n",
      "Prob(Omnibus):                  0.000   Jarque-Bera (JB):             1225.814\n",
      "Skew:                           2.142   Prob(JB):                    6.58e-267\n",
      "Kurtosis:                      12.896   Cond. No.                         390.\n",
      "==============================================================================\n",
      "\n",
      "Warnings:\n",
      "[1] Standard Errors assume that the covariance matrix of the errors is correctly specified.\n"
     ]
    }
   ],
   "source": [
    "print(tenModelWithType.summary())"
   ]
  },
  {
   "cell_type": "code",
   "execution_count": null,
   "metadata": {
    "collapsed": true
   },
   "outputs": [],
   "source": []
  },
  {
   "cell_type": "markdown",
   "metadata": {},
   "source": [
    "&&&&\n",
    "\n",
    "ONLY PROTEIN LEVELS FROM THE TWELVE MONTH EVAL\n",
    "\n",
    "Independent : Type (Case vs Control), Gender, Age\n",
    "\n",
    "Dependent : Protein Level"
   ]
  },
  {
   "cell_type": "code",
   "execution_count": 91,
   "metadata": {},
   "outputs": [
    {
     "name": "stdout",
     "output_type": "stream",
     "text": [
      "                            OLS Regression Results                            \n",
      "==============================================================================\n",
      "Dep. Variable:                protein   R-squared:                       0.083\n",
      "Model:                            OLS   Adj. R-squared:                  0.059\n",
      "Method:                 Least Squares   F-statistic:                     3.549\n",
      "Date:                Thu, 27 Jul 2017   Prob (F-statistic):             0.0167\n",
      "Time:                        10:55:53   Log-Likelihood:                -558.08\n",
      "No. Observations:                 122   AIC:                             1124.\n",
      "Df Residuals:                     118   BIC:                             1135.\n",
      "Df Model:                           3                                         \n",
      "Covariance Type:            nonrobust                                         \n",
      "==============================================================================\n",
      "                 coef    std err          t      P>|t|      [0.025      0.975]\n",
      "------------------------------------------------------------------------------\n",
      "Intercept     22.0754     13.031      1.694      0.093      -3.729      47.880\n",
      "type           2.5928      4.460      0.581      0.562      -6.240      11.425\n",
      "gender        12.2567      4.627      2.649      0.009       3.095      21.419\n",
      "age            0.2807      0.207      1.354      0.178      -0.130       0.691\n",
      "==============================================================================\n",
      "Omnibus:                      147.690   Durbin-Watson:                   1.869\n",
      "Prob(Omnibus):                  0.000   Jarque-Bera (JB):             4974.933\n",
      "Skew:                           4.230   Prob(JB):                         0.00\n",
      "Kurtosis:                      33.118   Cond. No.                         372.\n",
      "==============================================================================\n",
      "\n",
      "Warnings:\n",
      "[1] Standard Errors assume that the covariance matrix of the errors is correctly specified.\n"
     ]
    }
   ],
   "source": [
    "print(twelveModelWithType.summary())"
   ]
  },
  {
   "cell_type": "code",
   "execution_count": null,
   "metadata": {
    "collapsed": true
   },
   "outputs": [],
   "source": []
  },
  {
   "cell_type": "code",
   "execution_count": 111,
   "metadata": {},
   "outputs": [],
   "source": [
    "blDataWithMonthsFromScreening = dataWithMonthsFromScreening[dataWithMonthsFromScreening['monthsFromEval'] == 0]\n",
    "fourDataWithMonthsFromScreening = dataWithMonthsFromScreening[dataWithMonthsFromScreening['monthsFromEval'] == 4]\n",
    "sixDataWithMonthsFromScreening = dataWithMonthsFromScreening[dataWithMonthsFromScreening['monthsFromEval'] == 6]\n",
    "eightDataWithMonthsFromScreening = dataWithMonthsFromScreening[dataWithMonthsFromScreening['monthsFromEval'] == 8]\n",
    "tenDataWithMonthsFromScreening = dataWithMonthsFromScreening[dataWithMonthsFromScreening['monthsFromEval'] == 10]\n",
    "twelveDataWithMonthsFromScreening = dataWithMonthsFromScreening[dataWithMonthsFromScreening['monthsFromEval'] == 12]\n",
    "\n",
    "blModelWithMonthsFromScreening = ols('protein ~ monthsFromScreening + gender + age', blDataWithMonthsFromScreening).fit()\n",
    "fourModelWithMonthsFromScreening = ols('protein ~ monthsFromScreening + gender + age', fourDataWithMonthsFromScreening).fit()\n",
    "sixModelWithMonthsFromScreening = ols('protein ~ monthsFromScreening + gender + age', sixDataWithMonthsFromScreening).fit()\n",
    "eightModelWithMonthsFromScreening = ols('protein ~ monthsFromScreening + gender + age', eightDataWithMonthsFromScreening).fit()\n",
    "tenModelWithMonthsFromScreening = ols('protein ~ monthsFromScreening + gender + age', tenDataWithMonthsFromScreening).fit()\n",
    "twelveModelWithMonthsFromScreening = ols('protein ~ monthsFromScreening + gender + age', twelveDataWithMonthsFromScreening).fit()"
   ]
  },
  {
   "cell_type": "code",
   "execution_count": null,
   "metadata": {
    "collapsed": true
   },
   "outputs": [],
   "source": []
  },
  {
   "cell_type": "markdown",
   "metadata": {},
   "source": [
    "&&&&\n",
    "\n",
    "ONLY PROTEIN LEVELS FROM THE BL EVAL\n",
    "\n",
    "Independent : PD DURATION (monthsFromScreening), Gender, Age\n",
    "\n",
    "Dependent : Protein Level"
   ]
  },
  {
   "cell_type": "code",
   "execution_count": 112,
   "metadata": {},
   "outputs": [
    {
     "name": "stdout",
     "output_type": "stream",
     "text": [
      "                            OLS Regression Results                            \n",
      "==============================================================================\n",
      "Dep. Variable:                protein   R-squared:                       0.083\n",
      "Model:                            OLS   Adj. R-squared:                  0.076\n",
      "Method:                 Least Squares   F-statistic:                     10.92\n",
      "Date:                Thu, 27 Jul 2017   Prob (F-statistic):           7.00e-07\n",
      "Time:                        11:45:29   Log-Likelihood:                -1617.2\n",
      "No. Observations:                 365   AIC:                             3242.\n",
      "Df Residuals:                     361   BIC:                             3258.\n",
      "Df Model:                           3                                         \n",
      "Covariance Type:            nonrobust                                         \n",
      "=======================================================================================\n",
      "                          coef    std err          t      P>|t|      [0.025      0.975]\n",
      "---------------------------------------------------------------------------------------\n",
      "Intercept              26.3502      7.010      3.759      0.000      12.565      40.135\n",
      "monthsFromScreening     0.0688      0.142      0.484      0.629      -0.211       0.348\n",
      "gender                 12.3821      2.258      5.484      0.000       7.942      16.822\n",
      "age                     0.1391      0.111      1.256      0.210      -0.079       0.357\n",
      "==============================================================================\n",
      "Omnibus:                      130.047   Durbin-Watson:                   1.703\n",
      "Prob(Omnibus):                  0.000   Jarque-Bera (JB):              784.847\n",
      "Skew:                           1.364   Prob(JB):                    3.74e-171\n",
      "Kurtosis:                       9.646   Cond. No.                         412.\n",
      "==============================================================================\n",
      "\n",
      "Warnings:\n",
      "[1] Standard Errors assume that the covariance matrix of the errors is correctly specified.\n"
     ]
    }
   ],
   "source": [
    "print(blModelWithMonthsFromScreening.summary())"
   ]
  },
  {
   "cell_type": "code",
   "execution_count": null,
   "metadata": {
    "collapsed": true
   },
   "outputs": [],
   "source": []
  },
  {
   "cell_type": "markdown",
   "metadata": {},
   "source": [
    "&&&&\n",
    "\n",
    "ONLY PROTEIN LEVELS FROM THE FOUR MONTH EVAL\n",
    "\n",
    "Independent : PD DURATION (monthsFromScreening), Gender, Age\n",
    "\n",
    "Dependent : Protein Level"
   ]
  },
  {
   "cell_type": "code",
   "execution_count": 113,
   "metadata": {},
   "outputs": [
    {
     "name": "stdout",
     "output_type": "stream",
     "text": [
      "                            OLS Regression Results                            \n",
      "==============================================================================\n",
      "Dep. Variable:                protein   R-squared:                       0.067\n",
      "Model:                            OLS   Adj. R-squared:                  0.057\n",
      "Method:                 Least Squares   F-statistic:                     6.462\n",
      "Date:                Thu, 27 Jul 2017   Prob (F-statistic):           0.000307\n",
      "Time:                        11:45:45   Log-Likelihood:                -1309.5\n",
      "No. Observations:                 274   AIC:                             2627.\n",
      "Df Residuals:                     270   BIC:                             2641.\n",
      "Df Model:                           3                                         \n",
      "Covariance Type:            nonrobust                                         \n",
      "=======================================================================================\n",
      "                          coef    std err          t      P>|t|      [0.025      0.975]\n",
      "---------------------------------------------------------------------------------------\n",
      "Intercept              23.1580     11.678      1.983      0.048       0.166      46.149\n",
      "monthsFromScreening    -0.1084      0.251     -0.431      0.667      -0.603       0.386\n",
      "gender                 15.1790      3.747      4.051      0.000       7.803      22.555\n",
      "age                     0.2234      0.187      1.195      0.233      -0.145       0.592\n",
      "==============================================================================\n",
      "Omnibus:                      376.424   Durbin-Watson:                   1.866\n",
      "Prob(Omnibus):                  0.000   Jarque-Bera (JB):            52627.649\n",
      "Skew:                           6.245   Prob(JB):                         0.00\n",
      "Kurtosis:                      69.736   Cond. No.                         417.\n",
      "==============================================================================\n",
      "\n",
      "Warnings:\n",
      "[1] Standard Errors assume that the covariance matrix of the errors is correctly specified.\n"
     ]
    }
   ],
   "source": [
    "print(fourModelWithMonthsFromScreening.summary())"
   ]
  },
  {
   "cell_type": "code",
   "execution_count": null,
   "metadata": {
    "collapsed": true
   },
   "outputs": [],
   "source": []
  },
  {
   "cell_type": "markdown",
   "metadata": {},
   "source": [
    "&&&&\n",
    "\n",
    "ONLY PROTEIN LEVELS FROM THE SIX MONTH EVAL\n",
    "\n",
    "Independent : PD DURATION (monthsFromScreening), Gender, Age\n",
    "\n",
    "Dependent : Protein Level"
   ]
  },
  {
   "cell_type": "code",
   "execution_count": 114,
   "metadata": {},
   "outputs": [
    {
     "name": "stdout",
     "output_type": "stream",
     "text": [
      "                            OLS Regression Results                            \n",
      "==============================================================================\n",
      "Dep. Variable:                protein   R-squared:                       0.028\n",
      "Model:                            OLS   Adj. R-squared:                  0.016\n",
      "Method:                 Least Squares   F-statistic:                     2.417\n",
      "Date:                Thu, 27 Jul 2017   Prob (F-statistic):             0.0668\n",
      "Time:                        11:45:45   Log-Likelihood:                -1225.7\n",
      "No. Observations:                 258   AIC:                             2459.\n",
      "Df Residuals:                     254   BIC:                             2474.\n",
      "Df Model:                           3                                         \n",
      "Covariance Type:            nonrobust                                         \n",
      "=======================================================================================\n",
      "                          coef    std err          t      P>|t|      [0.025      0.975]\n",
      "---------------------------------------------------------------------------------------\n",
      "Intercept              33.0993     11.433      2.895      0.004      10.583      55.616\n",
      "monthsFromScreening    -0.1059      0.212     -0.499      0.618      -0.524       0.312\n",
      "gender                  9.1822      3.735      2.459      0.015       1.827      16.537\n",
      "age                     0.1101      0.181      0.607      0.544      -0.247       0.467\n",
      "==============================================================================\n",
      "Omnibus:                      341.937   Durbin-Watson:                   1.966\n",
      "Prob(Omnibus):                  0.000   Jarque-Bera (JB):            38994.836\n",
      "Skew:                           5.830   Prob(JB):                         0.00\n",
      "Kurtosis:                      62.089   Cond. No.                         407.\n",
      "==============================================================================\n",
      "\n",
      "Warnings:\n",
      "[1] Standard Errors assume that the covariance matrix of the errors is correctly specified.\n"
     ]
    }
   ],
   "source": [
    "print(sixModelWithMonthsFromScreening.summary())"
   ]
  },
  {
   "cell_type": "code",
   "execution_count": null,
   "metadata": {
    "collapsed": true
   },
   "outputs": [],
   "source": []
  },
  {
   "cell_type": "markdown",
   "metadata": {},
   "source": [
    "&&&&\n",
    "\n",
    "ONLY PROTEIN LEVELS FROM THE EIGHT MONTH EVAL\n",
    "\n",
    "Independent : PD DURATION (monthsFromScreening), Gender, Age\n",
    "\n",
    "Dependent : Protein Level"
   ]
  },
  {
   "cell_type": "code",
   "execution_count": 115,
   "metadata": {},
   "outputs": [
    {
     "name": "stdout",
     "output_type": "stream",
     "text": [
      "                            OLS Regression Results                            \n",
      "==============================================================================\n",
      "Dep. Variable:                protein   R-squared:                       0.103\n",
      "Model:                            OLS   Adj. R-squared:                  0.093\n",
      "Method:                 Least Squares   F-statistic:                     9.575\n",
      "Date:                Thu, 27 Jul 2017   Prob (F-statistic):           5.25e-06\n",
      "Time:                        11:45:45   Log-Likelihood:                -1131.0\n",
      "No. Observations:                 253   AIC:                             2270.\n",
      "Df Residuals:                     249   BIC:                             2284.\n",
      "Df Model:                           3                                         \n",
      "Covariance Type:            nonrobust                                         \n",
      "=======================================================================================\n",
      "                          coef    std err          t      P>|t|      [0.025      0.975]\n",
      "---------------------------------------------------------------------------------------\n",
      "Intercept              22.6923      8.943      2.537      0.012       5.078      40.307\n",
      "monthsFromScreening     0.0740      0.180      0.410      0.682      -0.281       0.429\n",
      "gender                 14.2041      2.825      5.029      0.000       8.641      19.767\n",
      "age                     0.2041      0.143      1.432      0.153      -0.077       0.485\n",
      "==============================================================================\n",
      "Omnibus:                       95.706   Durbin-Watson:                   1.835\n",
      "Prob(Omnibus):                  0.000   Jarque-Bera (JB):              410.763\n",
      "Skew:                           1.505   Prob(JB):                     6.37e-90\n",
      "Kurtosis:                       8.468   Cond. No.                         417.\n",
      "==============================================================================\n",
      "\n",
      "Warnings:\n",
      "[1] Standard Errors assume that the covariance matrix of the errors is correctly specified.\n"
     ]
    }
   ],
   "source": [
    "print(eightModelWithMonthsFromScreening.summary())"
   ]
  },
  {
   "cell_type": "code",
   "execution_count": null,
   "metadata": {
    "collapsed": true
   },
   "outputs": [],
   "source": []
  },
  {
   "cell_type": "markdown",
   "metadata": {},
   "source": [
    "&&&&\n",
    "\n",
    "ONLY PROTEIN LEVELS FROM THE TEN MONTH EVAL\n",
    "\n",
    "Independent : PD DURATION (monthsFromScreening), Gender, Age\n",
    "\n",
    "Dependent : Protein Level"
   ]
  },
  {
   "cell_type": "code",
   "execution_count": 116,
   "metadata": {},
   "outputs": [
    {
     "name": "stdout",
     "output_type": "stream",
     "text": [
      "                            OLS Regression Results                            \n",
      "==============================================================================\n",
      "Dep. Variable:                protein   R-squared:                       0.155\n",
      "Model:                            OLS   Adj. R-squared:                  0.139\n",
      "Method:                 Least Squares   F-statistic:                     9.817\n",
      "Date:                Thu, 27 Jul 2017   Prob (F-statistic):           5.53e-06\n",
      "Time:                        11:45:45   Log-Likelihood:                -721.63\n",
      "No. Observations:                 165   AIC:                             1451.\n",
      "Df Residuals:                     161   BIC:                             1464.\n",
      "Df Model:                           3                                         \n",
      "Covariance Type:            nonrobust                                         \n",
      "=======================================================================================\n",
      "                          coef    std err          t      P>|t|      [0.025      0.975]\n",
      "---------------------------------------------------------------------------------------\n",
      "Intercept              13.0677      9.856      1.326      0.187      -6.396      32.532\n",
      "monthsFromScreening     0.1500      0.190      0.790      0.431      -0.225       0.525\n",
      "gender                 14.8880      3.320      4.484      0.000       8.331      21.445\n",
      "age                     0.3864      0.159      2.425      0.016       0.072       0.701\n",
      "==============================================================================\n",
      "Omnibus:                      100.700   Durbin-Watson:                   1.961\n",
      "Prob(Omnibus):                  0.000   Jarque-Bera (JB):              689.627\n",
      "Skew:                           2.192   Prob(JB):                    1.78e-150\n",
      "Kurtosis:                      12.005   Cond. No.                         407.\n",
      "==============================================================================\n",
      "\n",
      "Warnings:\n",
      "[1] Standard Errors assume that the covariance matrix of the errors is correctly specified.\n"
     ]
    }
   ],
   "source": [
    "print(tenModelWithMonthsFromScreening.summary())"
   ]
  },
  {
   "cell_type": "code",
   "execution_count": null,
   "metadata": {
    "collapsed": true
   },
   "outputs": [],
   "source": []
  },
  {
   "cell_type": "markdown",
   "metadata": {},
   "source": [
    "&&&&\n",
    "\n",
    "ONLY PROTEIN LEVELS FROM THE TWELVE MONTH EVAL\n",
    "\n",
    "Independent : PD DURATION (monthsFromScreening), Gender, Age\n",
    "\n",
    "Dependent : Protein Level"
   ]
  },
  {
   "cell_type": "code",
   "execution_count": 117,
   "metadata": {},
   "outputs": [
    {
     "name": "stdout",
     "output_type": "stream",
     "text": [
      "                            OLS Regression Results                            \n",
      "==============================================================================\n",
      "Dep. Variable:                protein   R-squared:                       0.096\n",
      "Model:                            OLS   Adj. R-squared:                  0.050\n",
      "Method:                 Least Squares   F-statistic:                     2.097\n",
      "Date:                Thu, 27 Jul 2017   Prob (F-statistic):              0.110\n",
      "Time:                        11:45:45   Log-Likelihood:                -300.21\n",
      "No. Observations:                  63   AIC:                             608.4\n",
      "Df Residuals:                      59   BIC:                             617.0\n",
      "Df Model:                           3                                         \n",
      "Covariance Type:            nonrobust                                         \n",
      "=======================================================================================\n",
      "                          coef    std err          t      P>|t|      [0.025      0.975]\n",
      "---------------------------------------------------------------------------------------\n",
      "Intercept              14.7275     22.311      0.660      0.512     -29.916      59.371\n",
      "monthsFromScreening     0.5379      0.572      0.940      0.351      -0.607       1.683\n",
      "gender                 15.8570      8.391      1.890      0.064      -0.933      32.647\n",
      "age                     0.3398      0.355      0.958      0.342      -0.370       1.049\n",
      "==============================================================================\n",
      "Omnibus:                       86.971   Durbin-Watson:                   1.999\n",
      "Prob(Omnibus):                  0.000   Jarque-Bera (JB):             1426.935\n",
      "Skew:                           3.933   Prob(JB):                    1.40e-310\n",
      "Kurtosis:                      24.948   Cond. No.                         376.\n",
      "==============================================================================\n",
      "\n",
      "Warnings:\n",
      "[1] Standard Errors assume that the covariance matrix of the errors is correctly specified.\n"
     ]
    }
   ],
   "source": [
    "print(twelveModelWithMonthsFromScreening.summary())"
   ]
  },
  {
   "cell_type": "code",
   "execution_count": null,
   "metadata": {
    "collapsed": true
   },
   "outputs": [],
   "source": []
  },
  {
   "cell_type": "code",
   "execution_count": 118,
   "metadata": {},
   "outputs": [
    {
     "name": "stdout",
     "output_type": "stream",
     "text": [
      "374 289 253 171 78\n",
      "197 141 131 82 44\n"
     ]
    }
   ],
   "source": [
    "maleBLDataWithType = blDataWithType[blDataWithType['gender']==1]\n",
    "femaleBLDataWithType = blDataWithType[blDataWithType['gender']==0]\n",
    "maleFourDataWithType = fourDataWithType[fourDataWithType['gender']==1]\n",
    "femaleFourDataWithType = fourDataWithType[fourDataWithType['gender']==0]\n",
    "maleSixDataWithType = sixDataWithType[sixDataWithType['gender']==1]\n",
    "femaleSixDataWithType = sixDataWithType[sixDataWithType['gender']==0]\n",
    "maleEightDataWithType = eightDataWithType[eightDataWithType['gender']==1]\n",
    "femaleEightDataWithType = eightDataWithType[eightDataWithType['gender']==0]\n",
    "maleTenDataWithType = tenDataWithType[tenDataWithType['gender']==1]\n",
    "femaleTenDataWithType = tenDataWithType[tenDataWithType['gender']==0]\n",
    "maleTwelveDataWithType = twelveDataWithType[twelveDataWithType['gender']==1]\n",
    "femaleTwelveDataWithType = twelveDataWithType[twelveDataWithType['gender']==0]\n",
    "print len(maleBLDataWithType), len(maleFourDataWithType), len(maleEightDataWithType), len(maleTenDataWithType), len(maleTwelveDataWithType)\n",
    "print len(femaleBLDataWithType), len(femaleFourDataWithType), len(femaleEightDataWithType), len(femaleTenDataWithType), len(femaleTwelveDataWithType)\n",
    "\n",
    "maleBLModel = ols('protein ~ type + age', maleBLDataWithType).fit()\n",
    "maleFourModel = ols('protein ~ type + age', maleFourDataWithType).fit()\n",
    "maleSixModel = ols('protein ~ type + age', maleSixDataWithType).fit()\n",
    "maleEightModel = ols('protein ~ type + age', maleEightDataWithType).fit()\n",
    "maleTenModel = ols('protein ~ type + age', maleTenDataWithType).fit()\n",
    "maleTwelveModel = ols('protein ~ type + age', maleTwelveDataWithType).fit()\n",
    "\n",
    "femaleBLModel = ols('protein ~ type + age', femaleBLDataWithType).fit()\n",
    "femaleFourModel = ols('protein ~ type + age', femaleFourDataWithType).fit()\n",
    "femaleSixModel = ols('protein ~ type + age', femaleSixDataWithType).fit()\n",
    "femaleEightModel = ols('protein ~ type + age', femaleEightDataWithType).fit()\n",
    "femaleTenModel = ols('protein ~ type + age', femaleTenDataWithType).fit()\n",
    "femaleTwelveModel = ols('protein ~ type + age', femaleTwelveDataWithType).fit()"
   ]
  },
  {
   "cell_type": "code",
   "execution_count": null,
   "metadata": {
    "collapsed": true
   },
   "outputs": [],
   "source": []
  },
  {
   "cell_type": "markdown",
   "metadata": {},
   "source": [
    "&&&&\n",
    "\n",
    "MALE DATA\n",
    "\n",
    "ONLY PROTEIN LEVELS FROM THE BL EVAL\n",
    "\n",
    "Independent : Type (Case vs Control), Age\n",
    "\n",
    "Dependent : Protein Level"
   ]
  },
  {
   "cell_type": "code",
   "execution_count": 119,
   "metadata": {},
   "outputs": [
    {
     "name": "stdout",
     "output_type": "stream",
     "text": [
      "                            OLS Regression Results                            \n",
      "==============================================================================\n",
      "Dep. Variable:                protein   R-squared:                       0.011\n",
      "Model:                            OLS   Adj. R-squared:                  0.006\n",
      "Method:                 Least Squares   F-statistic:                     2.146\n",
      "Date:                Thu, 27 Jul 2017   Prob (F-statistic):              0.118\n",
      "Time:                        11:45:45   Log-Likelihood:                -1668.9\n",
      "No. Observations:                 374   AIC:                             3344.\n",
      "Df Residuals:                     371   BIC:                             3356.\n",
      "Df Model:                           2                                         \n",
      "Covariance Type:            nonrobust                                         \n",
      "==============================================================================\n",
      "                 coef    std err          t      P>|t|      [0.025      0.975]\n",
      "------------------------------------------------------------------------------\n",
      "Intercept     33.4612      6.942      4.820      0.000      19.811      47.111\n",
      "type           2.0374      2.368      0.860      0.390      -2.620       6.695\n",
      "age            0.2003      0.109      1.843      0.066      -0.013       0.414\n",
      "==============================================================================\n",
      "Omnibus:                      110.804   Durbin-Watson:                   1.840\n",
      "Prob(Omnibus):                  0.000   Jarque-Bera (JB):              551.207\n",
      "Skew:                           1.166   Prob(JB):                    2.03e-120\n",
      "Kurtosis:                       8.472   Cond. No.                         401.\n",
      "==============================================================================\n",
      "\n",
      "Warnings:\n",
      "[1] Standard Errors assume that the covariance matrix of the errors is correctly specified.\n"
     ]
    }
   ],
   "source": [
    "print(maleBLModel.summary())"
   ]
  },
  {
   "cell_type": "code",
   "execution_count": null,
   "metadata": {
    "collapsed": true
   },
   "outputs": [],
   "source": []
  },
  {
   "cell_type": "markdown",
   "metadata": {},
   "source": [
    "&&&&\n",
    "\n",
    "MALE DATA\n",
    "\n",
    "ONLY PROTEIN LEVELS FROM THE 4 MONTH EVAL\n",
    "\n",
    "Independent : Type (Case vs Control), Age\n",
    "\n",
    "Dependent : Protein Level"
   ]
  },
  {
   "cell_type": "code",
   "execution_count": 120,
   "metadata": {},
   "outputs": [
    {
     "name": "stdout",
     "output_type": "stream",
     "text": [
      "                            OLS Regression Results                            \n",
      "==============================================================================\n",
      "Dep. Variable:                protein   R-squared:                       0.016\n",
      "Model:                            OLS   Adj. R-squared:                  0.009\n",
      "Method:                 Least Squares   F-statistic:                     2.306\n",
      "Date:                Thu, 27 Jul 2017   Prob (F-statistic):              0.101\n",
      "Time:                        11:45:45   Log-Likelihood:                -1388.3\n",
      "No. Observations:                 289   AIC:                             2783.\n",
      "Df Residuals:                     286   BIC:                             2794.\n",
      "Df Model:                           2                                         \n",
      "Covariance Type:            nonrobust                                         \n",
      "==============================================================================\n",
      "                 coef    std err          t      P>|t|      [0.025      0.975]\n",
      "------------------------------------------------------------------------------\n",
      "Intercept     26.6167     11.410      2.333      0.020       4.158      49.076\n",
      "type           3.8004      3.752      1.013      0.312      -3.584      11.185\n",
      "age            0.3307      0.180      1.841      0.067      -0.023       0.684\n",
      "==============================================================================\n",
      "Omnibus:                      370.190   Durbin-Watson:                   1.787\n",
      "Prob(Omnibus):                  0.000   Jarque-Bera (JB):            41549.451\n",
      "Skew:                           5.644   Prob(JB):                         0.00\n",
      "Kurtosis:                      60.646   Cond. No.                         410.\n",
      "==============================================================================\n",
      "\n",
      "Warnings:\n",
      "[1] Standard Errors assume that the covariance matrix of the errors is correctly specified.\n"
     ]
    }
   ],
   "source": [
    "print(maleFourModel.summary())"
   ]
  },
  {
   "cell_type": "code",
   "execution_count": null,
   "metadata": {
    "collapsed": true
   },
   "outputs": [],
   "source": []
  },
  {
   "cell_type": "markdown",
   "metadata": {},
   "source": [
    "&&&&\n",
    "\n",
    "MALE DATA\n",
    "\n",
    "ONLY PROTEIN LEVELS FROM THE 6 MONTH EVAL\n",
    "\n",
    "Independent : Type (Case vs Control), Age\n",
    "\n",
    "Dependent : Protein Level"
   ]
  },
  {
   "cell_type": "code",
   "execution_count": 121,
   "metadata": {},
   "outputs": [
    {
     "name": "stdout",
     "output_type": "stream",
     "text": [
      "                            OLS Regression Results                            \n",
      "==============================================================================\n",
      "Dep. Variable:                protein   R-squared:                       0.008\n",
      "Model:                            OLS   Adj. R-squared:                  0.000\n",
      "Method:                 Least Squares   F-statistic:                     1.035\n",
      "Date:                Thu, 27 Jul 2017   Prob (F-statistic):              0.357\n",
      "Time:                        11:45:45   Log-Likelihood:                -1285.1\n",
      "No. Observations:                 265   AIC:                             2576.\n",
      "Df Residuals:                     262   BIC:                             2587.\n",
      "Df Model:                           2                                         \n",
      "Covariance Type:            nonrobust                                         \n",
      "==============================================================================\n",
      "                 coef    std err          t      P>|t|      [0.025      0.975]\n",
      "------------------------------------------------------------------------------\n",
      "Intercept     32.5862     12.198      2.671      0.008       8.568      56.605\n",
      "type          -1.1438      4.177     -0.274      0.784      -9.368       7.081\n",
      "age            0.2732      0.192      1.424      0.156      -0.104       0.651\n",
      "==============================================================================\n",
      "Omnibus:                      407.728   Durbin-Watson:                   2.129\n",
      "Prob(Omnibus):                  0.000   Jarque-Bera (JB):            88130.163\n",
      "Skew:                           7.494   Prob(JB):                         0.00\n",
      "Kurtosis:                      91.074   Cond. No.                         401.\n",
      "==============================================================================\n",
      "\n",
      "Warnings:\n",
      "[1] Standard Errors assume that the covariance matrix of the errors is correctly specified.\n"
     ]
    }
   ],
   "source": [
    "print(maleSixModel.summary())"
   ]
  },
  {
   "cell_type": "code",
   "execution_count": null,
   "metadata": {
    "collapsed": true
   },
   "outputs": [],
   "source": []
  },
  {
   "cell_type": "markdown",
   "metadata": {},
   "source": [
    "&&&&\n",
    "\n",
    "MALE DATA\n",
    "\n",
    "ONLY PROTEIN LEVELS FROM THE 8 MONTH EVAL\n",
    "\n",
    "Independent : Type (Case vs Control), Age\n",
    "\n",
    "Dependent : Protein Level"
   ]
  },
  {
   "cell_type": "code",
   "execution_count": 122,
   "metadata": {},
   "outputs": [
    {
     "name": "stdout",
     "output_type": "stream",
     "text": [
      "                            OLS Regression Results                            \n",
      "==============================================================================\n",
      "Dep. Variable:                protein   R-squared:                       0.032\n",
      "Model:                            OLS   Adj. R-squared:                  0.024\n",
      "Method:                 Least Squares   F-statistic:                     4.132\n",
      "Date:                Thu, 27 Jul 2017   Prob (F-statistic):             0.0172\n",
      "Time:                        11:45:45   Log-Likelihood:                -1132.0\n",
      "No. Observations:                 253   AIC:                             2270.\n",
      "Df Residuals:                     250   BIC:                             2281.\n",
      "Df Model:                           2                                         \n",
      "Covariance Type:            nonrobust                                         \n",
      "==============================================================================\n",
      "                 coef    std err          t      P>|t|      [0.025      0.975]\n",
      "------------------------------------------------------------------------------\n",
      "Intercept     29.0697      8.858      3.282      0.001      11.623      46.516\n",
      "type           6.7750      2.980      2.273      0.024       0.905      12.644\n",
      "age            0.2282      0.140      1.635      0.103      -0.047       0.503\n",
      "==============================================================================\n",
      "Omnibus:                       80.263   Durbin-Watson:                   2.013\n",
      "Prob(Omnibus):                  0.000   Jarque-Bera (JB):              319.815\n",
      "Skew:                           1.259   Prob(JB):                     3.57e-70\n",
      "Kurtosis:                       7.899   Cond. No.                         413.\n",
      "==============================================================================\n",
      "\n",
      "Warnings:\n",
      "[1] Standard Errors assume that the covariance matrix of the errors is correctly specified.\n"
     ]
    }
   ],
   "source": [
    "print(maleEightModel.summary())"
   ]
  },
  {
   "cell_type": "code",
   "execution_count": null,
   "metadata": {
    "collapsed": true
   },
   "outputs": [],
   "source": []
  },
  {
   "cell_type": "markdown",
   "metadata": {},
   "source": [
    "&&&&\n",
    "\n",
    "MALE DATA\n",
    "\n",
    "ONLY PROTEIN LEVELS FROM THE 10 MONTH EVAL\n",
    "\n",
    "Independent : Type (Case vs Control), Age\n",
    "\n",
    "Dependent : Protein Level"
   ]
  },
  {
   "cell_type": "code",
   "execution_count": 123,
   "metadata": {},
   "outputs": [
    {
     "name": "stdout",
     "output_type": "stream",
     "text": [
      "                            OLS Regression Results                            \n",
      "==============================================================================\n",
      "Dep. Variable:                protein   R-squared:                       0.033\n",
      "Model:                            OLS   Adj. R-squared:                  0.022\n",
      "Method:                 Least Squares   F-statistic:                     2.898\n",
      "Date:                Thu, 27 Jul 2017   Prob (F-statistic):             0.0579\n",
      "Time:                        11:45:45   Log-Likelihood:                -754.89\n",
      "No. Observations:                 171   AIC:                             1516.\n",
      "Df Residuals:                     168   BIC:                             1525.\n",
      "Df Model:                           2                                         \n",
      "Covariance Type:            nonrobust                                         \n",
      "==============================================================================\n",
      "                 coef    std err          t      P>|t|      [0.025      0.975]\n",
      "------------------------------------------------------------------------------\n",
      "Intercept     32.0702     10.242      3.131      0.002      11.851      52.289\n",
      "type           6.3149      3.418      1.847      0.066      -0.434      13.064\n",
      "age            0.2319      0.162      1.430      0.155      -0.088       0.552\n",
      "==============================================================================\n",
      "Omnibus:                       98.685   Durbin-Watson:                   2.055\n",
      "Prob(Omnibus):                  0.000   Jarque-Bera (JB):              591.310\n",
      "Skew:                           2.121   Prob(JB):                    3.97e-129\n",
      "Kurtosis:                      11.062   Cond. No.                         414.\n",
      "==============================================================================\n",
      "\n",
      "Warnings:\n",
      "[1] Standard Errors assume that the covariance matrix of the errors is correctly specified.\n"
     ]
    }
   ],
   "source": [
    "print(maleTenModel.summary())"
   ]
  },
  {
   "cell_type": "code",
   "execution_count": null,
   "metadata": {
    "collapsed": true
   },
   "outputs": [],
   "source": []
  },
  {
   "cell_type": "markdown",
   "metadata": {},
   "source": [
    "&&&&\n",
    "\n",
    "MALE DATA\n",
    "\n",
    "ONLY PROTEIN LEVELS FROM THE 12 MONTH EVAL\n",
    "\n",
    "Independent : Type (Case vs Control), Age\n",
    "\n",
    "Dependent : Protein Level"
   ]
  },
  {
   "cell_type": "code",
   "execution_count": 124,
   "metadata": {},
   "outputs": [
    {
     "name": "stdout",
     "output_type": "stream",
     "text": [
      "                            OLS Regression Results                            \n",
      "==============================================================================\n",
      "Dep. Variable:                protein   R-squared:                       0.020\n",
      "Model:                            OLS   Adj. R-squared:                 -0.006\n",
      "Method:                 Least Squares   F-statistic:                    0.7664\n",
      "Date:                Thu, 27 Jul 2017   Prob (F-statistic):              0.468\n",
      "Time:                        11:45:45   Log-Likelihood:                -369.05\n",
      "No. Observations:                  78   AIC:                             744.1\n",
      "Df Residuals:                      75   BIC:                             751.2\n",
      "Df Model:                           2                                         \n",
      "Covariance Type:            nonrobust                                         \n",
      "==============================================================================\n",
      "                 coef    std err          t      P>|t|      [0.025      0.975]\n",
      "------------------------------------------------------------------------------\n",
      "Intercept     34.5655     18.243      1.895      0.062      -1.776      70.907\n",
      "type           5.6926      6.567      0.867      0.389      -7.390      18.775\n",
      "age            0.2447      0.291      0.840      0.403      -0.335       0.825\n",
      "==============================================================================\n",
      "Omnibus:                      101.768   Durbin-Watson:                   1.857\n",
      "Prob(Omnibus):                  0.000   Jarque-Bera (JB):             2075.371\n",
      "Skew:                           4.010   Prob(JB):                         0.00\n",
      "Kurtosis:                      26.964   Cond. No.                         356.\n",
      "==============================================================================\n",
      "\n",
      "Warnings:\n",
      "[1] Standard Errors assume that the covariance matrix of the errors is correctly specified.\n"
     ]
    }
   ],
   "source": [
    "print(maleTwelveModel.summary())"
   ]
  },
  {
   "cell_type": "code",
   "execution_count": null,
   "metadata": {},
   "outputs": [],
   "source": []
  },
  {
   "cell_type": "markdown",
   "metadata": {},
   "source": [
    "&&&&\n",
    "\n",
    "FEMALE DATA\n",
    "\n",
    "ONLY PROTEIN LEVELS FROM THE BL EVAL\n",
    "\n",
    "Independent : Type (Case vs Control), Age\n",
    "\n",
    "Dependent : Protein Level"
   ]
  },
  {
   "cell_type": "code",
   "execution_count": 132,
   "metadata": {},
   "outputs": [
    {
     "name": "stdout",
     "output_type": "stream",
     "text": [
      "                            OLS Regression Results                            \n",
      "==============================================================================\n",
      "Dep. Variable:                protein   R-squared:                       0.010\n",
      "Model:                            OLS   Adj. R-squared:                 -0.000\n",
      "Method:                 Least Squares   F-statistic:                    0.9969\n",
      "Date:                Thu, 27 Jul 2017   Prob (F-statistic):              0.371\n",
      "Time:                        11:49:22   Log-Likelihood:                -773.54\n",
      "No. Observations:                 197   AIC:                             1553.\n",
      "Df Residuals:                     194   BIC:                             1563.\n",
      "Df Model:                           2                                         \n",
      "Covariance Type:            nonrobust                                         \n",
      "==============================================================================\n",
      "                 coef    std err          t      P>|t|      [0.025      0.975]\n",
      "------------------------------------------------------------------------------\n",
      "Intercept     30.2948      5.135      5.899      0.000      20.167      40.423\n",
      "type           2.3497      1.872      1.255      0.211      -1.343       6.043\n",
      "age            0.0459      0.083      0.553      0.581      -0.118       0.210\n",
      "==============================================================================\n",
      "Omnibus:                        9.077   Durbin-Watson:                   2.105\n",
      "Prob(Omnibus):                  0.011   Jarque-Bera (JB):               15.809\n",
      "Skew:                           0.181   Prob(JB):                     0.000369\n",
      "Kurtosis:                       4.340   Cond. No.                         357.\n",
      "==============================================================================\n",
      "\n",
      "Warnings:\n",
      "[1] Standard Errors assume that the covariance matrix of the errors is correctly specified.\n"
     ]
    }
   ],
   "source": [
    "print(femaleBLModel.summary())"
   ]
  },
  {
   "cell_type": "code",
   "execution_count": null,
   "metadata": {
    "collapsed": true
   },
   "outputs": [],
   "source": []
  },
  {
   "cell_type": "markdown",
   "metadata": {},
   "source": [
    "&&&&\n",
    "\n",
    "FEMALE DATA\n",
    "\n",
    "ONLY PROTEIN LEVELS FROM THE 4 MONTH EVAL\n",
    "\n",
    "Independent : Type (Case vs Control), Age\n",
    "\n",
    "Dependent : Protein Level"
   ]
  },
  {
   "cell_type": "code",
   "execution_count": 133,
   "metadata": {},
   "outputs": [
    {
     "name": "stdout",
     "output_type": "stream",
     "text": [
      "                            OLS Regression Results                            \n",
      "==============================================================================\n",
      "Dep. Variable:                protein   R-squared:                       0.004\n",
      "Model:                            OLS   Adj. R-squared:                 -0.010\n",
      "Method:                 Least Squares   F-statistic:                    0.2780\n",
      "Date:                Thu, 27 Jul 2017   Prob (F-statistic):              0.758\n",
      "Time:                        11:49:22   Log-Likelihood:                -561.94\n",
      "No. Observations:                 141   AIC:                             1130.\n",
      "Df Residuals:                     138   BIC:                             1139.\n",
      "Df Model:                           2                                         \n",
      "Covariance Type:            nonrobust                                         \n",
      "==============================================================================\n",
      "                 coef    std err          t      P>|t|      [0.025      0.975]\n",
      "------------------------------------------------------------------------------\n",
      "Intercept     31.4918      6.627      4.752      0.000      18.388      44.596\n",
      "type           1.2798      2.340      0.547      0.585      -3.346       5.906\n",
      "age            0.0547      0.105      0.519      0.605      -0.154       0.263\n",
      "==============================================================================\n",
      "Omnibus:                       11.451   Durbin-Watson:                   1.924\n",
      "Prob(Omnibus):                  0.003   Jarque-Bera (JB):               13.750\n",
      "Skew:                           0.525   Prob(JB):                      0.00103\n",
      "Kurtosis:                       4.113   Cond. No.                         366.\n",
      "==============================================================================\n",
      "\n",
      "Warnings:\n",
      "[1] Standard Errors assume that the covariance matrix of the errors is correctly specified.\n"
     ]
    }
   ],
   "source": [
    "print(femaleFourModel.summary())"
   ]
  },
  {
   "cell_type": "code",
   "execution_count": null,
   "metadata": {
    "collapsed": true
   },
   "outputs": [],
   "source": []
  },
  {
   "cell_type": "markdown",
   "metadata": {},
   "source": [
    "&&&&\n",
    "\n",
    "FEMALE DATA\n",
    "\n",
    "ONLY PROTEIN LEVELS FROM THE 6 MONTH EVAL\n",
    "\n",
    "Independent : Type (Case vs Control), Age\n",
    "\n",
    "Dependent : Protein Level"
   ]
  },
  {
   "cell_type": "code",
   "execution_count": 127,
   "metadata": {},
   "outputs": [
    {
     "name": "stdout",
     "output_type": "stream",
     "text": [
      "                            OLS Regression Results                            \n",
      "==============================================================================\n",
      "Dep. Variable:                protein   R-squared:                       0.005\n",
      "Model:                            OLS   Adj. R-squared:                 -0.010\n",
      "Method:                 Least Squares   F-statistic:                    0.3138\n",
      "Date:                Thu, 27 Jul 2017   Prob (F-statistic):              0.731\n",
      "Time:                        11:45:46   Log-Likelihood:                -661.09\n",
      "No. Observations:                 137   AIC:                             1328.\n",
      "Df Residuals:                     134   BIC:                             1337.\n",
      "Df Model:                           2                                         \n",
      "Covariance Type:            nonrobust                                         \n",
      "==============================================================================\n",
      "                 coef    std err          t      P>|t|      [0.025      0.975]\n",
      "------------------------------------------------------------------------------\n",
      "Intercept     37.2630     15.972      2.333      0.021       5.673      68.853\n",
      "type           4.1853      5.502      0.761      0.448      -6.698      15.068\n",
      "age           -0.0412      0.248     -0.166      0.868      -0.533       0.450\n",
      "==============================================================================\n",
      "Omnibus:                      245.562   Durbin-Watson:                   2.103\n",
      "Prob(Omnibus):                  0.000   Jarque-Bera (JB):            38586.148\n",
      "Skew:                           8.083   Prob(JB):                         0.00\n",
      "Kurtosis:                      83.612   Cond. No.                         380.\n",
      "==============================================================================\n",
      "\n",
      "Warnings:\n",
      "[1] Standard Errors assume that the covariance matrix of the errors is correctly specified.\n"
     ]
    }
   ],
   "source": [
    "print(femaleSixModel.summary())"
   ]
  },
  {
   "cell_type": "code",
   "execution_count": null,
   "metadata": {
    "collapsed": true
   },
   "outputs": [],
   "source": []
  },
  {
   "cell_type": "markdown",
   "metadata": {},
   "source": [
    "&&&&\n",
    "\n",
    "FEMALE DATA\n",
    "\n",
    "ONLY PROTEIN LEVELS FROM THE 8 MONTH EVAL\n",
    "\n",
    "Independent : Type (Case vs Control), Age\n",
    "\n",
    "Dependent : Protein Level"
   ]
  },
  {
   "cell_type": "code",
   "execution_count": 128,
   "metadata": {},
   "outputs": [
    {
     "name": "stdout",
     "output_type": "stream",
     "text": [
      "                            OLS Regression Results                            \n",
      "==============================================================================\n",
      "Dep. Variable:                protein   R-squared:                       0.025\n",
      "Model:                            OLS   Adj. R-squared:                  0.010\n",
      "Method:                 Least Squares   F-statistic:                     1.652\n",
      "Date:                Thu, 27 Jul 2017   Prob (F-statistic):              0.196\n",
      "Time:                        11:45:46   Log-Likelihood:                -527.20\n",
      "No. Observations:                 131   AIC:                             1060.\n",
      "Df Residuals:                     128   BIC:                             1069.\n",
      "Df Model:                           2                                         \n",
      "Covariance Type:            nonrobust                                         \n",
      "==============================================================================\n",
      "                 coef    std err          t      P>|t|      [0.025      0.975]\n",
      "------------------------------------------------------------------------------\n",
      "Intercept     25.1452      7.537      3.336      0.001      10.232      40.059\n",
      "type          -1.5110      2.553     -0.592      0.555      -6.563       3.541\n",
      "age            0.1968      0.117      1.678      0.096      -0.035       0.429\n",
      "==============================================================================\n",
      "Omnibus:                       58.264   Durbin-Watson:                   2.185\n",
      "Prob(Omnibus):                  0.000   Jarque-Bera (JB):              361.671\n",
      "Skew:                           1.371   Prob(JB):                     2.91e-79\n",
      "Kurtosis:                      10.665   Cond. No.                         391.\n",
      "==============================================================================\n",
      "\n",
      "Warnings:\n",
      "[1] Standard Errors assume that the covariance matrix of the errors is correctly specified.\n"
     ]
    }
   ],
   "source": [
    "print(femaleEightModel.summary())"
   ]
  },
  {
   "cell_type": "code",
   "execution_count": null,
   "metadata": {
    "collapsed": true
   },
   "outputs": [],
   "source": []
  },
  {
   "cell_type": "markdown",
   "metadata": {},
   "source": [
    "&&&&\n",
    "\n",
    "FEMALE DATA\n",
    "\n",
    "ONLY PROTEIN LEVELS FROM THE 10 MONTH EVAL\n",
    "\n",
    "Independent : Type (Case vs Control), Age\n",
    "\n",
    "Dependent : Protein Level"
   ]
  },
  {
   "cell_type": "code",
   "execution_count": 129,
   "metadata": {},
   "outputs": [
    {
     "name": "stdout",
     "output_type": "stream",
     "text": [
      "                            OLS Regression Results                            \n",
      "==============================================================================\n",
      "Dep. Variable:                protein   R-squared:                       0.133\n",
      "Model:                            OLS   Adj. R-squared:                  0.111\n",
      "Method:                 Least Squares   F-statistic:                     6.073\n",
      "Date:                Thu, 27 Jul 2017   Prob (F-statistic):            0.00352\n",
      "Time:                        11:45:46   Log-Likelihood:                -307.85\n",
      "No. Observations:                  82   AIC:                             621.7\n",
      "Df Residuals:                      79   BIC:                             628.9\n",
      "Df Model:                           2                                         \n",
      "Covariance Type:            nonrobust                                         \n",
      "==============================================================================\n",
      "                 coef    std err          t      P>|t|      [0.025      0.975]\n",
      "------------------------------------------------------------------------------\n",
      "Intercept     15.3202      6.628      2.311      0.023       2.127      28.514\n",
      "type          -0.4374      2.384     -0.183      0.855      -5.183       4.308\n",
      "age            0.3749      0.108      3.484      0.001       0.161       0.589\n",
      "==============================================================================\n",
      "Omnibus:                        0.415   Durbin-Watson:                   1.851\n",
      "Prob(Omnibus):                  0.812   Jarque-Bera (JB):                0.569\n",
      "Skew:                           0.021   Prob(JB):                        0.752\n",
      "Kurtosis:                       2.594   Cond. No.                         346.\n",
      "==============================================================================\n",
      "\n",
      "Warnings:\n",
      "[1] Standard Errors assume that the covariance matrix of the errors is correctly specified.\n"
     ]
    }
   ],
   "source": [
    "print(femaleTenModel.summary())"
   ]
  },
  {
   "cell_type": "code",
   "execution_count": null,
   "metadata": {
    "collapsed": true
   },
   "outputs": [],
   "source": []
  },
  {
   "cell_type": "markdown",
   "metadata": {},
   "source": [
    "&&&&\n",
    "\n",
    "FEMALE DATA\n",
    "\n",
    "ONLY PROTEIN LEVELS FROM THE 12 MONTH EVAL\n",
    "\n",
    "Independent : Type (Case vs Control), Age\n",
    "\n",
    "Dependent : Protein Level"
   ]
  },
  {
   "cell_type": "code",
   "execution_count": 143,
   "metadata": {},
   "outputs": [
    {
     "name": "stdout",
     "output_type": "stream",
     "text": [
      "                            OLS Regression Results                            \n",
      "==============================================================================\n",
      "Dep. Variable:                protein   R-squared:                       0.067\n",
      "Model:                            OLS   Adj. R-squared:                  0.022\n",
      "Method:                 Least Squares   F-statistic:                     1.475\n",
      "Date:                Thu, 27 Jul 2017   Prob (F-statistic):              0.241\n",
      "Time:                        12:24:36   Log-Likelihood:                -176.58\n",
      "No. Observations:                  44   AIC:                             359.2\n",
      "Df Residuals:                      41   BIC:                             364.5\n",
      "Df Model:                           2                                         \n",
      "Covariance Type:            nonrobust                                         \n",
      "==============================================================================\n",
      "                 coef    std err          t      P>|t|      [0.025      0.975]\n",
      "------------------------------------------------------------------------------\n",
      "Intercept     19.9515     13.440      1.485      0.145      -7.191      47.094\n",
      "type          -2.7624      4.294     -0.643      0.524     -11.435       5.910\n",
      "age            0.3504      0.219      1.598      0.118      -0.092       0.793\n",
      "==============================================================================\n",
      "Omnibus:                       13.559   Durbin-Watson:                   2.362\n",
      "Prob(Omnibus):                  0.001   Jarque-Bera (JB):               16.082\n",
      "Skew:                           1.037   Prob(JB):                     0.000322\n",
      "Kurtosis:                       5.114   Cond. No.                         392.\n",
      "==============================================================================\n",
      "\n",
      "Warnings:\n",
      "[1] Standard Errors assume that the covariance matrix of the errors is correctly specified.\n"
     ]
    }
   ],
   "source": [
    "print(femaleTwelveModel.summary())"
   ]
  },
  {
   "cell_type": "code",
   "execution_count": null,
   "metadata": {},
   "outputs": [],
   "source": []
  },
  {
   "cell_type": "code",
   "execution_count": null,
   "metadata": {
    "collapsed": true
   },
   "outputs": [],
   "source": []
  }
 ],
 "metadata": {
  "kernelspec": {
   "display_name": "Python 2",
   "language": "python",
   "name": "python2"
  },
  "language_info": {
   "codemirror_mode": {
    "name": "ipython",
    "version": 2
   },
   "file_extension": ".py",
   "mimetype": "text/x-python",
   "name": "python",
   "nbconvert_exporter": "python",
   "pygments_lexer": "ipython2",
   "version": "2.7.10"
  }
 },
 "nbformat": 4,
 "nbformat_minor": 2
}
