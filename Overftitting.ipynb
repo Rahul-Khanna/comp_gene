{
 "cells": [
  {
   "cell_type": "code",
   "execution_count": 108,
   "metadata": {},
   "outputs": [
    {
     "name": "stdout",
     "output_type": "stream",
     "text": [
      "The autoreload extension is already loaded. To reload it, use:\n",
      "  %reload_ext autoreload\n"
     ]
    }
   ],
   "source": [
    "%load_ext autoreload\n",
    "%autoreload 2\n",
    "import pandas as pd\n",
    "import numpy as np\n",
    "from statsmodels.formula.api import ols\n",
    "from collections import defaultdict\n",
    "from sklearn.utils import resample\n",
    "from sklearn import linear_model\n",
    "from sklearn import tree\n",
    "from sklearn.ensemble import RandomForestClassifier\n",
    "from sklearn.ensemble import AdaBoostClassifier\n",
    "from sklearn import svm\n",
    "from sklearn.model_selection import train_test_split\n",
    "from sklearn.metrics import confusion_matrix\n",
    "from sklearn.metrics import roc_curve\n",
    "from sklearn.metrics import auc\n",
    "from sklearn.model_selection import cross_val_score\n",
    "import usefulFunctions as useful\n",
    "import eval_functions as metrics\n",
    "import matplotlib.pyplot as plt"
   ]
  },
  {
   "cell_type": "code",
   "execution_count": 109,
   "metadata": {
    "collapsed": true
   },
   "outputs": [],
   "source": [
    "fileName = \"Master_PL.xlsx - Master_PL.csv\"\n",
    "normalized_table = pd.read_csv(fileName, header=0, \n",
    "                    names=[\"id\", \"type\", \"gender\", \"age\", \"monthsFromScreening\", \"protein_BL\", \"protein_V4\",\n",
    "                          \"protein_V6\", \"protein_V8\", \"protein_V10\", \"protein_V12\"])"
   ]
  },
  {
   "cell_type": "code",
   "execution_count": 110,
   "metadata": {
    "collapsed": true
   },
   "outputs": [],
   "source": [
    "def make_binary(x):\n",
    "    return x-1\n",
    "\n",
    "def make_boolean(x):\n",
    "    if x:\n",
    "        return bool(x)\n",
    "    else:\n",
    "        return bool(x)\n",
    "def standardize(x, mean, std):\n",
    "    return (x - mean)/std\n",
    "\n",
    "def support(column):\n",
    "    counts = defaultdict(int)\n",
    "    \n",
    "    for value in column:\n",
    "        counts[value]+=1\n",
    "    \n",
    "    for key in counts:\n",
    "        counts[key] = counts[key]/float(len(column))\n",
    "    \n",
    "    return counts"
   ]
  },
  {
   "cell_type": "code",
   "execution_count": 111,
   "metadata": {
    "collapsed": true
   },
   "outputs": [],
   "source": [
    "normalized_table.type = normalized_table.type.apply(make_binary)\n",
    "normalized_table.gender = normalized_table.gender.apply(make_binary)"
   ]
  },
  {
   "cell_type": "code",
   "execution_count": 112,
   "metadata": {},
   "outputs": [
    {
     "data": {
      "text/plain": [
       "1    190\n",
       "0     84\n",
       "Name: type, dtype: int64"
      ]
     },
     "execution_count": 112,
     "metadata": {},
     "output_type": "execute_result"
    }
   ],
   "source": [
    "normalized_table = normalized_table[(normalized_table.protein_BL > 5) & (normalized_table.protein_V4 > 5) & (normalized_table.protein_V6 > 5) & \n",
    "             (normalized_table.protein_V8 > 5)]\n",
    "\n",
    "len(normalized_table)\n",
    "normalized_table.type.value_counts()"
   ]
  },
  {
   "cell_type": "code",
   "execution_count": null,
   "metadata": {},
   "outputs": [],
   "source": []
  },
  {
   "cell_type": "code",
   "execution_count": 113,
   "metadata": {},
   "outputs": [
    {
     "data": {
      "text/plain": [
       "1    190\n",
       "0    190\n",
       "Name: type, dtype: int64"
      ]
     },
     "execution_count": 113,
     "metadata": {},
     "output_type": "execute_result"
    }
   ],
   "source": [
    "df_majority = normalized_table[normalized_table.type==1]\n",
    "df_minority = normalized_table[normalized_table.type==0]\n",
    "df_minority_upsampled = resample(df_minority, \n",
    "                                 replace=True,\n",
    "                                 n_samples=len(df_majority),\n",
    "                                 random_state=123)\n",
    "df_upsampled = pd.concat([df_majority, df_minority_upsampled])\n",
    "df_upsampled.type.value_counts()"
   ]
  },
  {
   "cell_type": "code",
   "execution_count": 114,
   "metadata": {},
   "outputs": [
    {
     "name": "stdout",
     "output_type": "stream",
     "text": [
      "1    190\n",
      "0    190\n",
      "Name: type, dtype: int64\n",
      "1    190\n",
      "0    190\n",
      "Name: type, dtype: int64\n",
      "1    190\n",
      "0    190\n",
      "Name: type, dtype: int64\n",
      "1    190\n",
      "0    190\n",
      "Name: type, dtype: int64\n",
      "0    127\n",
      "1    120\n",
      "Name: type, dtype: int64\n",
      "0    84\n",
      "1    47\n",
      "Name: type, dtype: int64\n"
     ]
    }
   ],
   "source": [
    "print(df_upsampled[df_upsampled.protein_BL > 5].type.value_counts())\n",
    "print(df_upsampled[df_upsampled.protein_V4 > 5].type.value_counts())\n",
    "print(df_upsampled[df_upsampled.protein_V6 > 5].type.value_counts())\n",
    "print(df_upsampled[df_upsampled.protein_V8 > 5].type.value_counts())\n",
    "print(df_upsampled[df_upsampled.protein_V10 > 5].type.value_counts())\n",
    "print(df_upsampled[df_upsampled.protein_V12 > 5].type.value_counts())"
   ]
  },
  {
   "cell_type": "code",
   "execution_count": 153,
   "metadata": {
    "collapsed": true
   },
   "outputs": [],
   "source": [
    "X = df_upsampled[['age','gender', 'protein_BL', 'protein_V4', 'protein_V6', 'protein_V8']].as_matrix()\n",
    "y = df_upsampled[['type']].as_matrix()\n",
    "y = np.squeeze(y)\n",
    "X_train, X_test, y_train, y_test = train_test_split(X, y, test_size=0.333, random_state=5)"
   ]
  },
  {
   "cell_type": "code",
   "execution_count": 160,
   "metadata": {
    "collapsed": true
   },
   "outputs": [],
   "source": [
    "tree_clf = tree.DecisionTreeClassifier(random_state=1, min_samples_leaf=1)\n",
    "forest = RandomForestClassifier(n_estimators=30, random_state=1)\n",
    "tree_clf.fit(X_train, y_train)\n",
    "clf = tree_clf\n",
    "# forest.fit(X_train, y_train)\n",
    "# clf= forest"
   ]
  },
  {
   "cell_type": "code",
   "execution_count": 161,
   "metadata": {},
   "outputs": [
    {
     "data": {
      "image/png": "[encoded data removed]",
      "text/plain": [
       "<matplotlib.figure.Figure at 0x113568550>"
      ]
     },
     "metadata": {},
     "output_type": "display_data"
    }
   ],
   "source": [
    "roc_info = roc_curve(y_test, clf.predict_proba(X_test)[:,1])\n",
    "auc_info = auc(roc_info[0], roc_info[1])\n",
    "useful.createROCGraph(roc_info[0], roc_info[1], auc_info)"
   ]
  },
  {
   "cell_type": "code",
   "execution_count": 162,
   "metadata": {},
   "outputs": [
    {
     "name": "stdout",
     "output_type": "stream",
     "text": [
      "Normalized confusion matrix\n",
      "[[ 0.86  0.14]\n",
      " [ 0.46  0.54]]\n"
     ]
    },
    {
     "data": {
      "image/png": "[encoded data removed]",
      "text/plain": [
       "<matplotlib.figure.Figure at 0x1135acb10>"
      ]
     },
     "metadata": {},
     "output_type": "display_data"
    }
   ],
   "source": [
    "cm = confusion_matrix(y_test, clf.predict(X_test))\n",
    "useful.plot_confusion_matrix(cm, [\"0\", \"1\"])"
   ]
  },
  {
   "cell_type": "code",
   "execution_count": 163,
   "metadata": {},
   "outputs": [
    {
     "data": {
      "text/plain": [
       "(array([1, 0, 1, 0, 0, 0, 0, 1, 0, 0, 1, 1, 1, 0, 0, 0, 0, 1, 1, 0, 1, 0, 1,\n",
       "        0, 0, 1, 0, 1, 0, 1, 0, 1, 1, 0, 1, 1, 0, 1, 0, 0, 1, 0, 1, 1, 1, 0,\n",
       "        0, 0, 1, 0, 1, 1, 0, 0, 1, 0, 0, 1, 0, 0, 1, 0, 0, 0, 0, 1, 1, 1, 1,\n",
       "        0, 1, 1, 1, 1, 1, 0, 1, 1, 0, 0, 0, 1, 1, 0, 1, 0, 1, 1, 1, 1, 0, 0,\n",
       "        1, 1, 0, 0, 0, 0, 0, 0, 1, 0, 0, 0, 0, 1, 1, 0, 0, 0, 0, 1, 1, 1, 0,\n",
       "        1, 0, 1, 1, 0, 0, 1, 0, 1, 1, 0, 1]),\n",
       " array([1, 0, 1, 0, 0, 0, 0, 0, 0, 0, 1, 1, 0, 1, 0, 1, 0, 0, 0, 0, 1, 0, 0,\n",
       "        0, 0, 0, 0, 1, 0, 1, 0, 1, 1, 0, 0, 1, 0, 1, 0, 0, 1, 0, 0, 0, 1, 0,\n",
       "        0, 0, 0, 0, 1, 0, 0, 0, 0, 1, 0, 1, 0, 0, 0, 0, 0, 0, 0, 1, 1, 1, 1,\n",
       "        0, 0, 1, 1, 1, 0, 0, 1, 0, 0, 1, 0, 0, 0, 0, 1, 0, 0, 0, 0, 0, 1, 0,\n",
       "        1, 0, 0, 1, 1, 0, 0, 0, 1, 0, 1, 0, 0, 1, 0, 0, 0, 0, 0, 1, 0, 1, 0,\n",
       "        0, 0, 0, 1, 0, 0, 1, 0, 1, 1, 1, 0]))"
      ]
     },
     "execution_count": 163,
     "metadata": {},
     "output_type": "execute_result"
    }
   ],
   "source": [
    "y_test, clf.predict(X_test)"
   ]
  },
  {
   "cell_type": "code",
   "execution_count": 164,
   "metadata": {},
   "outputs": [
    {
     "name": "stdout",
     "output_type": "stream",
     "text": [
      "Cross Fold Mean: 0.800, Cross Fold Stdev: 0.067\n"
     ]
    }
   ],
   "source": [
    "scores = cross_val_score(clf, X, y, cv=10)\n",
    "print(\"Cross Fold Mean: %.3f, Cross Fold Stdev: %.3f\" % (np.mean(scores), np.std(scores)))"
   ]
  },
  {
   "cell_type": "code",
   "execution_count": 165,
   "metadata": {},
   "outputs": [
    {
     "name": "stdout",
     "output_type": "stream",
     "text": [
      "accuracy: 0.709\n",
      "\n",
      "precision: \n",
      "\tall: ['0.671', '0.786']\n",
      "\tmicro: 0.709\n",
      "\tmacro: 0.728\n",
      "\tweighted: 0.726\n",
      "\t\n",
      "recall: \n",
      "\tall: ['0.864', '0.541']\n",
      "\tmicro: 0.709\n",
      "\tmacro: 0.702\n",
      "\tweighted: 0.709\n",
      "\t\n",
      "f1_measure: \n",
      "\tall: ['0.755', '0.641']\n",
      "\tmicro: 0.709\n",
      "\tmacro: 0.698\n",
      "\tweighted: 0.700\n",
      "\t\n",
      "support: \n",
      "\ty_true_dist: ['0.520', '0.480']\n",
      "\ty_true_count: 127.000\n",
      "\ty_predicted_dist: ['0.669', '0.331']\n",
      "\ty_predicted_count: 127.000\n",
      "\t\n",
      "\n"
     ]
    }
   ],
   "source": [
    "metrics_dict = metrics.get_all_metrics(y_test, clf.predict(X_test))\n",
    "print(metrics.pretty_print_metrics(metrics_dict))"
   ]
  },
  {
   "cell_type": "code",
   "execution_count": 166,
   "metadata": {},
   "outputs": [
    {
     "data": {
      "text/plain": [
       "array([ 0.2 ,  0.07,  0.23,  0.21,  0.1 ,  0.2 ])"
      ]
     },
     "execution_count": 166,
     "metadata": {},
     "output_type": "execute_result"
    }
   ],
   "source": [
    "clf.feature_importances_"
   ]
  },
  {
   "cell_type": "code",
   "execution_count": 167,
   "metadata": {
    "collapsed": true
   },
   "outputs": [],
   "source": [
    "import graphviz"
   ]
  },
  {
   "cell_type": "code",
   "execution_count": 168,
   "metadata": {},
   "outputs": [
    {
     "data": {
      "text/plain": [
       "'Source.gv.pdf'"
      ]
     },
     "execution_count": 168,
     "metadata": {},
     "output_type": "execute_result"
    }
   ],
   "source": [
    "dot_data = tree.export_graphviz(tree_clf, out_file=None, \n",
    "                         feature_names=['age', 'gender', 'protein_BL', 'protein_V4', 'protein_V6', 'protein_V8'],  \n",
    "                         class_names=[\"not_affected\", \"affected\"],  \n",
    "                         filled=True, rounded=True,  \n",
    "                         special_characters=True)\n",
    "graph = graphviz.Source(dot_data, format='pdf')\n",
    "graph.render()"
   ]
  },
  {
   "cell_type": "code",
   "execution_count": 58,
   "metadata": {},
   "outputs": [
    {
     "data": {
      "text/plain": [
       "[10.361131220393119,\n",
       " 15.731422574983069,\n",
       " 24.963613102976993,\n",
       " 40.909819459215356,\n",
       " 17.214833106310277]"
      ]
     },
     "execution_count": 58,
     "metadata": {},
     "output_type": "execute_result"
    }
   ],
   "source": [
    "age_std = np.std(df_upsampled.age)\n",
    "\n",
    "bl_std = np.std(df_upsampled.protein_BL)\n",
    "\n",
    "v4_std = np.std(df_upsampled.protein_V4)\n",
    "\n",
    "v6_std = np.std(df_upsampled.protein_V6)\n",
    "\n",
    "v8_std = np.std(df_upsampled.protein_V8)\n",
    "\n",
    "[age_std, bl_std, v4_std, v6_std, v8_std]"
   ]
  },
  {
   "cell_type": "code",
   "execution_count": 59,
   "metadata": {},
   "outputs": [
    {
     "data": {
      "text/plain": [
       "array([ 0.14,  0.06,  0.21,  0.29,  0.13,  0.16])"
      ]
     },
     "execution_count": 59,
     "metadata": {},
     "output_type": "execute_result"
    }
   ],
   "source": [
    "clf.feature_importances_"
   ]
  },
  {
   "cell_type": "code",
   "execution_count": 130,
   "metadata": {
    "collapsed": true
   },
   "outputs": [],
   "source": [
    "def average_stats(clf, X, y):\n",
    "    stats = {}\n",
    "    \n",
    "    accuracy = []\n",
    "    \n",
    "    precision = {\n",
    "        \"all\" : [],\n",
    "        \"micro\" : [],\n",
    "        \"macro\" : [],\n",
    "        \"weighted\" : []\n",
    "    }\n",
    "    \n",
    "    recall = {\n",
    "        \"all\" : [],\n",
    "        \"micro\" : [],\n",
    "        \"macro\" : [],\n",
    "        \"weighted\" : []\n",
    "    }\n",
    "    \n",
    "    f1_measure = {\n",
    "        \"all\" : [],\n",
    "        \"micro\" : [],\n",
    "        \"macro\" : [],\n",
    "        \"weighted\" : []\n",
    "    }\n",
    "    \n",
    "    conf_matrix = {\n",
    "        \"top_left\" : [],\n",
    "        \"top_right\" : [],\n",
    "        \"bottom_left\" : [],\n",
    "        \"bottom_right\" : []\n",
    "    }\n",
    "    \n",
    "    feature_importances = [[] for x in X[0]]\n",
    "    \n",
    "    for i in range(30):\n",
    "        X_train, X_test, y_train, y_test = train_test_split(X, y, test_size=0.333, random_state=i**2)\n",
    "        clf.fit(X_train, y_train)\n",
    "        metrics_dict = metrics.get_all_metrics(y_test, clf.predict(X_test))\n",
    "        accuracy.append(metrics_dict[\"accuracy\"])\n",
    "        for key in metrics_dict[\"precision\"]:\n",
    "            precision[key].append(metrics_dict[\"precision\"][key])\n",
    "        for key in metrics_dict[\"recall\"]:\n",
    "            recall[key].append(metrics_dict[\"recall\"][key])\n",
    "        for key in metrics_dict[\"f1_measure\"]:\n",
    "            f1_measure[key].append(metrics_dict[\"f1_measure\"][key])\n",
    "\n",
    "        conf_matrix[\"top_left\"].append(metrics_dict[\"confusion_matrix\"][0][0])\n",
    "        conf_matrix[\"top_right\"].append(metrics_dict[\"confusion_matrix\"][0][1])\n",
    "        conf_matrix[\"bottom_left\"].append(metrics_dict[\"confusion_matrix\"][1][0])\n",
    "        conf_matrix[\"bottom_right\"].append(metrics_dict[\"confusion_matrix\"][1][1])\n",
    "        \n",
    "        for i, entry in enumerate(clf.feature_importances_):\n",
    "            feature_importances[i].append(entry)\n",
    "            \n",
    "    stats[\"mean_accuracy\"] = np.mean(accuracy)\n",
    "    stats[\"median_accuracy\"] = np.median(accuracy)\n",
    "    \n",
    "    stats[\"mean_precision\"] = {}\n",
    "    stats[\"median_precision\"] = {}\n",
    "    for key in precision:\n",
    "        if key == \"all\":\n",
    "            class_zero = [x[0] for x in precision[key]]\n",
    "            class_one = [x[1] for x in precision[key]]\n",
    "            stats[\"mean_precision\"][key] = [np.mean(class_zero), np.mean(class_one)]\n",
    "            stats[\"median_precision\"][key] = [np.median(class_zero), np.median(class_one)]\n",
    "        else:\n",
    "            stats[\"mean_precision\"][key] = np.mean(precision[key])\n",
    "            stats[\"median_precision\"][key] = np.median(precision[key])\n",
    "    \n",
    "    stats[\"mean_recall\"] = {}\n",
    "    stats[\"median_recall\"] = {}\n",
    "    for key in recall:\n",
    "        if key == \"all\":\n",
    "            class_zero = [x[0] for x in recall[key]]\n",
    "            class_one = [x[1] for x in recall[key]]\n",
    "            stats[\"mean_recall\"][key] = [np.mean(class_zero), np.mean(class_one)]\n",
    "            stats[\"median_recall\"][key] = [np.median(class_zero), np.median(class_one)]\n",
    "        else:\n",
    "            stats[\"mean_recall\"][key] = np.mean(recall[key])\n",
    "            stats[\"median_recall\"][key] = np.median(recall[key])\n",
    "    \n",
    "    stats[\"mean_f1_measure\"] = {}\n",
    "    stats[\"median_f1_measure\"] = {}\n",
    "    for key in f1_measure:\n",
    "        if key == \"all\":\n",
    "            class_zero = [x[0] for x in f1_measure[key]]\n",
    "            class_one = [x[1] for x in f1_measure[key]]\n",
    "            stats[\"mean_f1_measure\"][key] = [np.mean(class_zero), np.mean(class_one)]\n",
    "            stats[\"median_f1_measure\"][key] = [np.median(class_zero), np.median(class_one)]\n",
    "        else:\n",
    "            stats[\"mean_f1_measure\"][key] = np.mean(f1_measure[key])\n",
    "            stats[\"median_f1_measure\"][key] = np.median(f1_measure[key])\n",
    "#     print(conf_matrix)\n",
    "    stats[\"mean_confusion_matrix\"] = [[np.mean(conf_matrix[\"top_left\"]), np.mean(conf_matrix[\"top_right\"])],\n",
    "                                      [np.mean(conf_matrix[\"bottom_left\"]), np.mean(conf_matrix[\"bottom_right\"])]]\n",
    "    \n",
    "    stats[\"median_confusion_matrix\"] = [[np.median(conf_matrix[\"top_left\"]), np.median(conf_matrix[\"top_right\"])],\n",
    "                                      [np.median(conf_matrix[\"bottom_left\"]), np.median(conf_matrix[\"bottom_right\"])]]\n",
    "    \n",
    "    stats[\"mean_feature_importances\"] = [np.mean(arr) for arr in feature_importances]\n",
    "    stats[\"median_feature_importances\"] = [np.median(arr) for arr in feature_importances]\n",
    "    \n",
    "    return stats"
   ]
  },
  {
   "cell_type": "code",
   "execution_count": 131,
   "metadata": {},
   "outputs": [
    {
     "data": {
      "text/plain": [
       "{'mean_accuracy': 0.76456692913385815,\n",
       " 'mean_confusion_matrix': [[0.838023275304704, 0.16197672469529606],\n",
       "  [0.30908480952164868, 0.69091519047835137]],\n",
       " 'mean_f1_measure': {'all': [0.78238084328073698, 0.74110548889784544],\n",
       "  'macro': 0.76174316608929116,\n",
       "  'micro': 0.76456692913385815,\n",
       "  'weighted': 0.76294544637293205},\n",
       " 'mean_feature_importances': [0.17983212912984162,\n",
       "  0.038302505796577145,\n",
       "  0.20295454596529952,\n",
       "  0.20221665342975911,\n",
       "  0.18436318987697611,\n",
       "  0.19233097580154659],\n",
       " 'mean_precision': {'all': [0.73731354526061244, 0.80612829210265669],\n",
       "  'macro': 0.77172091868163439,\n",
       "  'micro': 0.76456692913385815,\n",
       "  'weighted': 0.7740336305212685},\n",
       " 'mean_recall': {'all': [0.838023275304704, 0.69091519047835137],\n",
       "  'macro': 0.76446923289152768,\n",
       "  'micro': 0.76456692913385815,\n",
       "  'weighted': 0.76456692913385815},\n",
       " 'median_accuracy': 0.76377952755905509,\n",
       " 'median_confusion_matrix': [[0.83844313981300278, 0.16155686018699716],\n",
       "  [0.30602006688963213, 0.69397993311036787]],\n",
       " 'median_f1_measure': {'all': [0.78631744668670389, 0.74898373983739841],\n",
       "  'macro': 0.76287944197544089,\n",
       "  'micro': 0.76377952755905509,\n",
       "  'weighted': 0.76267257787023257},\n",
       " 'median_feature_importances': [0.18388436631427629,\n",
       "  0.037913077894426023,\n",
       "  0.2055248965992873,\n",
       "  0.20301849021181434,\n",
       "  0.18171166624676366,\n",
       "  0.19075293226490952],\n",
       " 'median_precision': {'all': [0.72777777777777775, 0.80860805860805862],\n",
       "  'macro': 0.77756327697869354,\n",
       "  'micro': 0.76377952755905509,\n",
       "  'weighted': 0.77879843560849094},\n",
       " 'median_recall': {'all': [0.83844313981300278, 0.69397993311036787],\n",
       "  'macro': 0.76734721394130267,\n",
       "  'micro': 0.76377952755905509,\n",
       "  'weighted': 0.76377952755905509}}"
      ]
     },
     "execution_count": 131,
     "metadata": {},
     "output_type": "execute_result"
    }
   ],
   "source": [
    "min_samples = 1\n",
    "tree_clf = tree.DecisionTreeClassifier(random_state=1, min_samples_leaf=1)\n",
    "forest = RandomForestClassifier(n_estimators=30, random_state=1, min_samples_leaf=min_samples)\n",
    "\n",
    "average_stats(forest, X, y)"
   ]
  },
  {
   "cell_type": "code",
   "execution_count": 199,
   "metadata": {},
   "outputs": [
    {
     "data": {
      "text/plain": [
       "0.12625266314211314"
      ]
     },
     "execution_count": 199,
     "metadata": {},
     "output_type": "execute_result"
    }
   ],
   "source": [
    "min_samples/float(len(X) * 0.667)"
   ]
  },
  {
   "cell_type": "code",
   "execution_count": 158,
   "metadata": {
    "collapsed": true
   },
   "outputs": [],
   "source": [
    "f1_min_samples = [(\"1, 0.4% of training\", 0.761), (\"2, 0.8% of training\", 0.742), (\"4, 1.6% of training\", 0.715), \n",
    "                  (\"8, 3.2% of training\", 0.678), (\"16, 6.3% of training\", 0.607), (\"20, 7.9% of training\", 0.601)]\n",
    "\n",
    "min_samples = [\"1, 0.4% of training\", \"2, 0.8% of training\", \"4, 1.6% of training\", \"8, 3.2% of training\", \n",
    "               \"16, 6.3% of training\", \"20, 7.9% of training\"]\n",
    "\n",
    "f1_scores = [0.761, 0.742, 0.715, 0.678, 0.607, 0.601]\n",
    "f1_scores_line = [0.761, 0.715, 0.665, 0.640, 0.601]"
   ]
  },
  {
   "cell_type": "code",
   "execution_count": 197,
   "metadata": {},
   "outputs": [
    {
     "name": "stdout",
     "output_type": "stream",
     "text": [
      "0.046\n",
      "0.05\n",
      "0.025\n",
      "0.039\n",
      "0.001\n"
     ]
    }
   ],
   "source": [
    "print 0.761 - 0.715\n",
    "print 0.715 - 0.665\n",
    "print 0.665 - 0.640\n",
    "print 0.640 - 0.601\n",
    "print 0.601 - 0.6"
   ]
  },
  {
   "cell_type": "code",
   "execution_count": 187,
   "metadata": {},
   "outputs": [
    {
     "data": {
      "image/png": "[encoded data removed]",
      "text/plain": [
       "<matplotlib.figure.Figure at 0x10c701c10>"
      ]
     },
     "metadata": {},
     "output_type": "display_data"
    }
   ],
   "source": [
    "from matplotlib.ticker import AutoMinorLocator\n",
    "\n",
    "minorLocator = AutoMinorLocator()\n",
    "fig=plt.figure(figsize=(12.5, 10.0))\n",
    "ax=fig.add_subplot(111)\n",
    "ax.get_xaxis().tick_bottom()\n",
    "ax.get_yaxis().tick_left()\n",
    "ax.yaxis.set_minor_locator(minorLocator)\n",
    "# ax.set_title(\"f1_measure vs min number of points in leaf\")\n",
    "ax.set_ylabel(\"f1_measure\")\n",
    "bar_plot = ax.bar(np.arange(0, 6), f1_scores)\n",
    "ax.set_xticklabels([\"\",\"1, 0.4% of training\", \"2, 0.8% of training\", \"4, 1.6% of training\", \"8, 3.2% of training\", \n",
    "               \"16, 6.3% of training\", \"20, 7.9% of training\"])\n",
    "plt.show()\n",
    "\n",
    "\n"
   ]
  },
  {
   "cell_type": "code",
   "execution_count": 135,
   "metadata": {},
   "outputs": [
    {
     "name": "stdout",
     "output_type": "stream",
     "text": [
      "Confusion matrix, without normalization\n",
      "[[ 0.84  0.16]\n",
      " [ 0.31  0.69]]\n"
     ]
    },
    {
     "data": {
      "image/png": "[encoded data removed]",
      "text/plain": [
       "<matplotlib.figure.Figure at 0x11351d390>"
      ]
     },
     "metadata": {},
     "output_type": "display_data"
    }
   ],
   "source": [
    "cm = np.array([[0.838023275304704, 0.16197672469529606],\n",
    "  [0.30908480952164868, 0.69091519047835137]])\n",
    "useful.plot_confusion_matrix(cm, [\"0\", \"1\"], normalize=False)"
   ]
  },
  {
   "cell_type": "code",
   "execution_count": null,
   "metadata": {
    "collapsed": true
   },
   "outputs": [],
   "source": []
  }
 ],
 "metadata": {
  "kernelspec": {
   "display_name": "Python 2",
   "language": "python",
   "name": "python2"
  },
  "language_info": {
   "codemirror_mode": {
    "name": "ipython",
    "version": 2
   },
   "file_extension": ".py",
   "mimetype": "text/x-python",
   "name": "python",
   "nbconvert_exporter": "python",
   "pygments_lexer": "ipython2",
   "version": "2.7.10"
  }
 },
 "nbformat": 4,
 "nbformat_minor": 2
}
