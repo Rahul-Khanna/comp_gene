{
 "cells": [
  {
   "cell_type": "markdown",
   "metadata": {},
   "source": [
    "Information:\n",
    "\n",
    "I have created 9 different interactive graphs that if you open in your browser you will be able to toggle certain data points on and off. You can toggle the data points by clicking on the colored boxes next to each label on the sides. I tried to sort them by certain attributes so that grouping together points by certain variables like age, gender and monthsFromScreening (time from diagnosis to first visit) was easy.\n",
    "\n",
    "The nine graphs are as follows:\n",
    "\n",
    "1 -- maleData_control.sick_age.svg : allows for looking at male data in the context of control vs sick as well as looking at age bands\n",
    "\n",
    "2 -- femaleData_control.sick_age.svg : allows for looking at female data in the context of control vs sick as well as looking at age bands\n",
    "\n",
    "3 -- youngData_control.sick_age.svg : allows for looking at all individuals under the age of 50 in the context of control vs sick as well as male vs female\n",
    "\n",
    "4 -- middle_1_Data_control.sick_age.svg : allows for looking at all individuals between the ages of 50 and 59 in the context of control vs sick as well as male vs female\n",
    "\n",
    "5 -- middle_2_Data_control.sick_age.svg : allows for looking at all individuals between the ages of 60 and 64 in the context of control vs sick as well as male vs female\n",
    "\n",
    "6 -- middle_3_Data_control.sick_age.svg : allows for looking at all individuals between the ages of 65 and 69 in the context of control vs sick as well as male vs female\n",
    "\n",
    "7 -- old_age_Data_control.sick_age.svg : allows for looking at all individuals older than 69 in the context of control vs sick as well as male vs female\n",
    "\n",
    "8 -- maleData_monthsFromScreening.svg : allows for looking at male sick patients and how they're protien levels vary due to the time from diagnosis to first visit\n",
    "\n",
    "9 -- femaleData_monthsFromScreening.svg : allows for looking at female sick patients and how they're protien levels vary due to the time from diagnosis to first visit\n",
    "\n",
    "I decided to divide up the ages in that ways stated above, as it seemed to split the data decently evenly. If you think another split would be better let me know.\n",
    "\n",
    "In my pursuit of trying to find patterns in the data I was looking at rolling averages and differences between recorded values, but I haven't included them yet with these new plots... it is something I am looking to do soon.\n",
    "\n",
    "I will say that while the classifiers seemed to pick up on something within the gender groups (i.e. classify control males from sick males), I really can't see many differences between age, gender or sick/control. If you can take a look at the data and see if you see anything that would be great.\n",
    "\n",
    "I should also come up and set up this environment for you, so that you can run this notebook and be able to keep randomly selecting samples in order to see more diversity in the graphs... but I think there's enough below to get started with"
   ]
  },
  {
   "cell_type": "code",
   "execution_count": 225,
   "metadata": {},
   "outputs": [
    {
     "name": "stdout",
     "output_type": "stream",
     "text": [
      "The autoreload extension is already loaded. To reload it, use:\n",
      "  %reload_ext autoreload\n"
     ]
    }
   ],
   "source": [
    "%load_ext autoreload\n",
    "%autoreload 2\n",
    "%matplotlib inline\n",
    "import pandas as pd\n",
    "import matplotlib.pyplot as plt\n",
    "import math\n",
    "import usefulFunctions\n",
    "from usefulFunctions import checkForNull\n",
    "from random import randrange\n",
    "import os \n",
    "import webbrowser"
   ]
  },
  {
   "cell_type": "code",
   "execution_count": 226,
   "metadata": {},
   "outputs": [
    {
     "name": "stdout",
     "output_type": "stream",
     "text": [
      "Number of data points that are males : 403\n",
      "Number of data points that are females : 216\n",
      "Number of data points that are control : 196\n",
      "Number of data points that are sick : 423\n",
      "Number of young : 78\n",
      "Number of middle_1 : 168\n",
      "Number of middle_2 : 118\n",
      "Number of middle_3 : 119\n",
      "Number of old : 136\n"
     ]
    }
   ],
   "source": [
    "# loading in the data and splitting it up into control vs sick, male vs female as well as by age\n",
    "control = {}\n",
    "sick = {}\n",
    "male = {}\n",
    "female = {}\n",
    "young_age = {}    # younger than 50\n",
    "middle_1_age = {} # between 50 and 60\n",
    "middle_2_age = {} # between 60 and 65\n",
    "middle_3_age = {} # between 65 and 70\n",
    "old_age = {}      # older than 69\n",
    "\n",
    "\n",
    "age = []\n",
    "months = []\n",
    "\n",
    "fileName = \"Master_PL.xlsx - Master_PL.csv\"\n",
    "table = pd.read_csv(fileName, header=0, \n",
    "                    names=[\"id\", \"type\", \"gender\", \"age\", \"monthsFromScreening\", \"protein_BL\", \"protein_V4\",\n",
    "                          \"protein_V6\", \"protein_V8\", \"protein_V10\", \"protein_V12\"])\n",
    "\n",
    "totalRows = len(table.values)\n",
    "\n",
    "# splitting data into female vs male, control vs sick, plus storing the age and months data\n",
    "# into arrays so we can look at their distributions later (to understand good age bands)\n",
    "for row in table.to_dict(orient='records'):\n",
    "    if not checkForNull(row['type']):\n",
    "        if row['type'] == 1:\n",
    "            control[int(row['id'])] = row\n",
    "        else:\n",
    "            sick[int(row['id'])] = row\n",
    "    \n",
    "    if not checkForNull(row['gender']):\n",
    "        if row['gender'] == 1:\n",
    "            female[int(row['id'])] = row\n",
    "        else:\n",
    "            male[int(row['id'])] = row\n",
    "    \n",
    "    if not checkForNull(row['age']):\n",
    "        if row['age']< 50:\n",
    "            young_age[int(row['id'])] = row\n",
    "        elif row['age'] < 60:\n",
    "            middle_1_age[int(row['id'])] = row\n",
    "        elif row['age'] < 65:\n",
    "            middle_2_age[int(row['id'])] = row\n",
    "        elif row['age'] < 70:\n",
    "            middle_3_age[int(row['id'])] = row\n",
    "        else:\n",
    "            old_age[int(row['id'])] = row\n",
    "\n",
    "    \n",
    "    if row['age'] is not None:\n",
    "        age.append(row['age'])\n",
    "    \n",
    "    if row['monthsFromScreening'] is not None:\n",
    "        months.append(row['monthsFromScreening'])\n",
    "\n",
    "print \"Number of data points that are males : \" + str(len(male))\n",
    "print \"Number of data points that are females : \" + str(len(female))\n",
    "print \"Number of data points that are control : \" + str(len(control))\n",
    "print \"Number of data points that are sick : \" + str(len(sick))\n",
    "print \"Number of young : \" + str(len(young_age))\n",
    "print \"Number of middle_1 : \" + str(len(middle_1_age))\n",
    "print \"Number of middle_2 : \" + str(len(middle_2_age))\n",
    "print \"Number of middle_3 : \" + str(len(middle_3_age))\n",
    "print \"Number of old : \" + str(len(old_age))"
   ]
  },
  {
   "cell_type": "code",
   "execution_count": 227,
   "metadata": {},
   "outputs": [
    {
     "name": "stdout",
     "output_type": "stream",
     "text": [
      "Number of Males that are in the Control : 126\n",
      "Number of Males that are Sick : 277\n",
      "Number of Females that are in the Control : 70\n",
      "Number of Females that are Sick : 146\n"
     ]
    }
   ],
   "source": [
    "# splitting the data up to look at males who are sick vs control, and females who are sick vs control\n",
    "tup = usefulFunctions.combine(male, female, control, sick)\n",
    "maleSplit = tup[0]\n",
    "femaleSplit = tup[1]\n",
    "print \"Number of Males that are in the Control : \" + str(len(maleSplit[0]))\n",
    "print \"Number of Males that are Sick : \" + str(len(maleSplit[1]))\n",
    "print \"Number of Females that are in the Control : \" + str(len(femaleSplit[0]))\n",
    "print \"Number of Females that are Sick : \" + str(len(femaleSplit[1]))"
   ]
  },
  {
   "cell_type": "code",
   "execution_count": 228,
   "metadata": {},
   "outputs": [
    {
     "name": "stdout",
     "output_type": "stream",
     "text": [
      "Number of control young : 29\n",
      "Number of control middle_1 : 54\n",
      "Number of control middle_2 : 37\n",
      "Number of control middle_3 : 34\n",
      "Number of control old : 42\n",
      "\n",
      "**************\n",
      "\n",
      "Number of sick young : 49\n",
      "Number of sick middle_1 : 114\n",
      "Number of sick middle_2 : 81\n",
      "Number of sick middle_3 : 85\n",
      "Number of sick old : 94\n"
     ]
    }
   ],
   "source": [
    "# splitting the data up to look at young (x<50) people who are sick vs control\n",
    "# splitting the data up to look at middle_1 (50<=x<60) people who are sick vs control\n",
    "# splitting the data up to look at middle_2 (60<=x<65) people who are sick vs control\n",
    "# splitting the data up to look at middle_3 (65<=x<70) people who are sick vs control\n",
    "# splitting the data up to look at old (x>=70) people who are sick vs control\n",
    "young_split, middle_1_split = usefulFunctions.combine(young_age, middle_1_age, control, sick)\n",
    "middle_2_split, middle_3_split = usefulFunctions.combine(middle_2_age, middle_3_age, control, sick)\n",
    "old_age_split, blah = usefulFunctions.combine(old_age, young_age, control, sick)\n",
    "print \"Number of control young : \" + str(len(young_split[0]))\n",
    "print \"Number of control middle_1 : \" + str(len(middle_1_split[0]))\n",
    "print \"Number of control middle_2 : \" + str(len(middle_2_split[0]))\n",
    "print \"Number of control middle_3 : \" + str(len(middle_3_split[0]))\n",
    "print \"Number of control old : \" + str(len(old_age_split[0]))\n",
    "print \"\\n**************\\n\"\n",
    "print \"Number of sick young : \" + str(len(young_split[1]))\n",
    "print \"Number of sick middle_1 : \" + str(len(middle_1_split[1]))\n",
    "print \"Number of sick middle_2 : \" + str(len(middle_2_split[1]))\n",
    "print \"Number of sick middle_3 : \" + str(len(middle_3_split[1]))\n",
    "print \"Number of sick old : \" + str(len(old_age_split[1]))"
   ]
  },
  {
   "cell_type": "code",
   "execution_count": 294,
   "metadata": {},
   "outputs": [],
   "source": [
    "# getting entries without strange outliers and where there are at least k readings for the protein levels\n",
    "proteinKeys = ['protein_BL', 'protein_V4', 'protein_V6', 'protein_V8', 'protein_V10', 'protein_V12']\n",
    "\n",
    "def getKFullValuesOnly(dic, filterOutliers=True, k=5):\n",
    "    fullEntities = {}\n",
    "    for key in dic:\n",
    "        entity = dic[key]\n",
    "        count = 6\n",
    "        valid = True\n",
    "        for key2 in proteinKeys:\n",
    "            if not usefulFunctions.checkForValid(entity[key2]):\n",
    "                count+=-1\n",
    "                dic[key][key2] = None\n",
    "            elif filterOutliers:\n",
    "                if entity[key2] >= 100 or entity[key2] <= 10:\n",
    "                    valid = False\n",
    "        if count>=k and valid:\n",
    "            temp = []\n",
    "            for key2 in proteinKeys:\n",
    "                temp.append(entity[key2])\n",
    "        \n",
    "            fullEntities[key] = {\"age\" : entity[\"age\"], \n",
    "                                 \"monthsFromScreening\" : entity[\"monthsFromScreening\"], \n",
    "                                 \"vector\" : temp } \n",
    "        \n",
    "    return fullEntities\n",
    "\n",
    "controlMales = getKFullValuesOnly(maleSplit[0])\n",
    "sickMales = getKFullValuesOnly(maleSplit[1])\n",
    "controlFemales = getKFullValuesOnly(femaleSplit[0])\n",
    "sickFemales = getKFullValuesOnly(femaleSplit[1])"
   ]
  },
  {
   "cell_type": "code",
   "execution_count": 230,
   "metadata": {},
   "outputs": [
    {
     "data": {
      "text/plain": [
       "(42, 30)"
      ]
     },
     "execution_count": 230,
     "metadata": {},
     "output_type": "execute_result"
    }
   ],
   "source": [
    "len(controlMales), len(controlFemales)"
   ]
  },
  {
   "cell_type": "code",
   "execution_count": 231,
   "metadata": {},
   "outputs": [
    {
     "data": {
      "text/plain": [
       "(92, 37)"
      ]
     },
     "execution_count": 231,
     "metadata": {},
     "output_type": "execute_result"
    }
   ],
   "source": [
    "len(sickMales), len(sickFemales)"
   ]
  },
  {
   "cell_type": "code",
   "execution_count": 232,
   "metadata": {},
   "outputs": [],
   "source": [
    "# some functions and variables for creating and displaying the graphs\n",
    "xLabels = [\"protein_BL\", \"protein_V4\",\"protein_V6\", \"protein_V8\", \"protein_V10\", \"protein_V12\"]\n",
    "\n",
    "# MacOS\n",
    "chrome_path = 'open -a /Applications/Google\\ Chrome.app %s'\n",
    "\n",
    "# Windows\n",
    "# chrome_path = 'C:\\Program Files (x86)\\Google\\Chrome\\Application\\chrome.exe %s'\n",
    "\n",
    "# Linux\n",
    "# chrome_path = '/usr/bin/google-chrome %s'\n",
    "\n",
    "\n",
    "def createLabels(classType, params):\n",
    "    label = classType\n",
    "    for param in params:\n",
    "        label = label + \"_\" + str(param[0]) + \"=\" + str(param[1])\n",
    "    return label\n",
    "\n",
    "def selectRandomFromContainer(container,typeOf, n):\n",
    "    if typeOf == \"dict\":\n",
    "        random = {}\n",
    "        keys = container.keys()\n",
    "        size = len(keys)\n",
    "        for i in range(n):\n",
    "            index = randrange(0, size)\n",
    "            random[keys[index]] = container[keys[index]]\n",
    "            keys[index] = keys[size-1]\n",
    "            size +=-1\n",
    "        return random\n",
    "    else:\n",
    "        random = []\n",
    "        size = len(container)\n",
    "        for i in range(n):\n",
    "            index = randrange(0, size)\n",
    "            random.append(container[index])\n",
    "            temp = container[index]\n",
    "            container[index] = container[size-1]\n",
    "            container[size-1] = temp\n",
    "            size+=-1\n",
    "        return random\n",
    "\n",
    "def getValidMonthsFromScreeningEntries(dic):\n",
    "    valid = {}\n",
    "    for key in dic:\n",
    "        if usefulFunctions.checkForValid(dic[key]['monthsFromScreening']):\n",
    "            valid[key] = dic[key]\n",
    "    return valid"
   ]
  },
  {
   "cell_type": "markdown",
   "metadata": {},
   "source": [
    "Creating a plot to look at examples of control and sick individuals who are males, as well as trying to see if age bands exist within the male data"
   ]
  },
  {
   "cell_type": "code",
   "execution_count": 290,
   "metadata": {},
   "outputs": [
    {
     "name": "stdout",
     "output_type": "stream",
     "text": [
      "open above file in browser for intractiveness or run below cell\n"
     ]
    }
   ],
   "source": [
    "labels = []\n",
    "allFullyFilledMales = []\n",
    "colors=[]\n",
    "types = []\n",
    "\n",
    "keyToAge = {}\n",
    "for key in selectRandomFromContainer(controlMales.keys(), 'array', 30):\n",
    "    keyToAge[key] = controlMales[key][\"age\"]\n",
    "\n",
    "for key in sorted(keyToAge, key=keyToAge.get):\n",
    "    types.append(0)\n",
    "    labels.append(createLabels(\"control\",[(\"age\",int(controlMales[key]['age']))]))\n",
    "    colors.append('#98FB98')\n",
    "    allFullyFilledMales.append(controlMales[key]['vector'])\n",
    "\n",
    "keyToAge = {}\n",
    "for key in selectRandomFromContainer(sickMales.keys(), 'array', 30):\n",
    "    keyToAge[key] = sickMales[key][\"age\"]\n",
    "\n",
    "for key in sorted(keyToAge, key=keyToAge.get):\n",
    "    types.append(1)\n",
    "    labels.append(createLabels(\"sick\",[(\"age\",int(sickMales[key]['age']))]))\n",
    "    colors.append('#FF6347')\n",
    "    allFullyFilledMales.append(sickMales[key]['vector'])\n",
    "\n",
    "title = \"Random Sample of Male Data Split By Control/Sick\"\n",
    "file_name = \"maleData_control.sick_age.svg\"\n",
    "usefulFunctions.createPyGalLinePlots(allFullyFilledMales, labels, xLabels, types, colors, file_name, title)\n",
    "print \"open above file in browser for intractiveness or run below cell\""
   ]
  },
  {
   "cell_type": "code",
   "execution_count": 291,
   "metadata": {},
   "outputs": [
    {
     "data": {
      "text/plain": [
       "True"
      ]
     },
     "execution_count": 291,
     "metadata": {},
     "output_type": "execute_result"
    }
   ],
   "source": [
    "webbrowser.get(chrome_path).open('file://' + os.path.realpath(file_name))"
   ]
  },
  {
   "cell_type": "markdown",
   "metadata": {},
   "source": [
    "Creating a plot to look at examples of sick individuals who are males to see if there is any groupings due to the time from diagnosis to first visit... not sure why only 26 show"
   ]
  },
  {
   "cell_type": "code",
   "execution_count": 288,
   "metadata": {},
   "outputs": [
    {
     "name": "stdout",
     "output_type": "stream",
     "text": [
      "open above file in browser for intractiveness or run below cell\n"
     ]
    }
   ],
   "source": [
    "labels = []\n",
    "allFullyFilledMales = []\n",
    "colors=[]\n",
    "types = []\n",
    "\n",
    "keyToAge = {}\n",
    "for key in selectRandomFromContainer(sickMales.keys(), 'array', 30):\n",
    "    keyToAge[key] = sickMales[key][\"monthsFromScreening\"]\n",
    "for key in sorted(keyToAge, key=keyToAge.get):\n",
    "    types.append(0)\n",
    "    labels.append(createLabels(str(key),[(\"months\",int(sickMales[key]['monthsFromScreening']))]))\n",
    "    colors.append('#FF6347')\n",
    "    allFullyFilledMales.append(sickMales[key]['vector'])\n",
    "title = \"Random Sample of Sick Male Data\"\n",
    "file_name = \"maleData_monthsFromScreening.svg\"\n",
    "usefulFunctions.createPyGalLinePlots(allFullyFilledMales, labels, xLabels, types, colors, file_name, title)\n",
    "print \"open above file in browser for intractiveness or run below cell\""
   ]
  },
  {
   "cell_type": "code",
   "execution_count": 289,
   "metadata": {},
   "outputs": [
    {
     "data": {
      "text/plain": [
       "True"
      ]
     },
     "execution_count": 289,
     "metadata": {},
     "output_type": "execute_result"
    }
   ],
   "source": [
    "webbrowser.get(chrome_path).open('file://' + os.path.realpath(file_name))"
   ]
  },
  {
   "cell_type": "markdown",
   "metadata": {},
   "source": [
    "Creating a plot to look at examples of control and sick individuals who are females, as well as trying to see if age bands exist within the female data"
   ]
  },
  {
   "cell_type": "code",
   "execution_count": 250,
   "metadata": {},
   "outputs": [
    {
     "name": "stdout",
     "output_type": "stream",
     "text": [
      "open above file in browser for intractiveness or run below cell\n"
     ]
    }
   ],
   "source": [
    "labels = []\n",
    "allFullyFilledFemales = []\n",
    "colors=[]\n",
    "types = []\n",
    "\n",
    "keyToAge = {}\n",
    "for key in selectRandomFromContainer(controlFemales.keys(), 'array', 30):\n",
    "    keyToAge[key] = controlFemales[key][\"age\"]\n",
    "\n",
    "for key in sorted(keyToAge, key=keyToAge.get):\n",
    "    types.append(0)\n",
    "    labels.append(createLabels(\"control\",[(\"age\",int(controlFemales[key]['age']))]))\n",
    "    colors.append('#3CB371')\n",
    "    allFullyFilledFemales.append(controlFemales[key]['vector'])\n",
    "\n",
    "keyToAge = {}\n",
    "for key in selectRandomFromContainer(sickFemales.keys(), 'array', 30):\n",
    "    keyToAge[key] = sickFemales[key][\"age\"]\n",
    "\n",
    "for key in sorted(keyToAge, key=keyToAge.get):\n",
    "    types.append(1)\n",
    "    labels.append(createLabels(\"sick\",[(\"age\",int(sickFemales[key]['age']))]))\n",
    "    colors.append('#FF6347')\n",
    "    allFullyFilledFemales.append(sickFemales[key]['vector'])\n",
    "\n",
    "title = \"Random Sample of Female Data Split By Control/Sick\"\n",
    "file_name = \"femaleData_control.sick_age.svg\"\n",
    "usefulFunctions.createPyGalLinePlots(allFullyFilledFemales, labels, xLabels, types, colors, file_name, title, None, 90)\n",
    "print \"open above file in browser for intractiveness or run below cell\""
   ]
  },
  {
   "cell_type": "code",
   "execution_count": 236,
   "metadata": {},
   "outputs": [
    {
     "data": {
      "text/plain": [
       "True"
      ]
     },
     "execution_count": 236,
     "metadata": {},
     "output_type": "execute_result"
    }
   ],
   "source": [
    "webbrowser.get(chrome_path).open('file://' + os.path.realpath(file_name))"
   ]
  },
  {
   "cell_type": "markdown",
   "metadata": {},
   "source": [
    "Creating a plot to look at examples of sick individuals who are females to see if there is any groupings due to the time from diagnosis to first visit... not sure why only 26 show"
   ]
  },
  {
   "cell_type": "code",
   "execution_count": 292,
   "metadata": {},
   "outputs": [
    {
     "name": "stdout",
     "output_type": "stream",
     "text": [
      "open above file in browser for intractiveness or run below cell\n"
     ]
    }
   ],
   "source": [
    "labels = []\n",
    "allFullyFilledFemales = []\n",
    "colors=[]\n",
    "types = []\n",
    "\n",
    "keyToAge = {}\n",
    "for key in selectRandomFromContainer(sickFemales.keys(), 'array', 30):\n",
    "    keyToAge[key] = sickFemales[key][\"monthsFromScreening\"]\n",
    "for key in sorted(keyToAge, key=keyToAge.get):\n",
    "    types.append(0)\n",
    "    labels.append(createLabels(str(key),[(\"months\",int(sickFemales[key]['monthsFromScreening']))]))\n",
    "    colors.append('#FF6347')\n",
    "    allFullyFilledFemales.append(sickFemales[key]['vector'])\n",
    "title = \"Random Sample of Sick Females Data\"\n",
    "file_name = \"femalesData_monthsFromScreening.svg\"\n",
    "usefulFunctions.createPyGalLinePlots(allFullyFilledFemales, labels, xLabels, types, colors, file_name, title)\n",
    "print \"open above file in browser for intractiveness or run below cell\""
   ]
  },
  {
   "cell_type": "code",
   "execution_count": 293,
   "metadata": {},
   "outputs": [
    {
     "data": {
      "text/plain": [
       "True"
      ]
     },
     "execution_count": 293,
     "metadata": {},
     "output_type": "execute_result"
    }
   ],
   "source": [
    "webbrowser.get(chrome_path).open('file://' + os.path.realpath(file_name))"
   ]
  },
  {
   "cell_type": "markdown",
   "metadata": {},
   "source": [
    "Splitting the age based groupings into sick vs control"
   ]
  },
  {
   "cell_type": "code",
   "execution_count": 251,
   "metadata": {},
   "outputs": [],
   "source": [
    "youngControl = getKFullValuesOnly(young_split[0])\n",
    "youngSick= getKFullValuesOnly(young_split[1])\n",
    "middle_1_Control = getKFullValuesOnly(middle_1_split[0])\n",
    "middle_1_Sick = getKFullValuesOnly(middle_1_split[1])\n",
    "middle_2_Control = getKFullValuesOnly(middle_2_split[0])\n",
    "middle_2_Sick = getKFullValuesOnly(middle_2_split[1])\n",
    "middle_3_Control = getKFullValuesOnly(middle_3_split[0])\n",
    "middle_3_Sick = getKFullValuesOnly(middle_3_split[1])\n",
    "old_age_Control = getKFullValuesOnly(old_age_split[0])\n",
    "old_age_Sick = getKFullValuesOnly(old_age_split[1],4)"
   ]
  },
  {
   "cell_type": "code",
   "execution_count": 252,
   "metadata": {},
   "outputs": [
    {
     "data": {
      "text/plain": [
       "(13, 16)"
      ]
     },
     "execution_count": 252,
     "metadata": {},
     "output_type": "execute_result"
    }
   ],
   "source": [
    "len(youngControl), len(youngSick)"
   ]
  },
  {
   "cell_type": "code",
   "execution_count": 253,
   "metadata": {},
   "outputs": [
    {
     "data": {
      "text/plain": [
       "(23, 40)"
      ]
     },
     "execution_count": 253,
     "metadata": {},
     "output_type": "execute_result"
    }
   ],
   "source": [
    "len(middle_1_Control), len(middle_1_Sick)"
   ]
  },
  {
   "cell_type": "code",
   "execution_count": 254,
   "metadata": {},
   "outputs": [
    {
     "data": {
      "text/plain": [
       "(15, 21)"
      ]
     },
     "execution_count": 254,
     "metadata": {},
     "output_type": "execute_result"
    }
   ],
   "source": [
    "len(middle_2_Control), len(middle_2_Sick)"
   ]
  },
  {
   "cell_type": "code",
   "execution_count": 255,
   "metadata": {},
   "outputs": [
    {
     "data": {
      "text/plain": [
       "(9, 32)"
      ]
     },
     "execution_count": 255,
     "metadata": {},
     "output_type": "execute_result"
    }
   ],
   "source": [
    "len(middle_3_Control), len(middle_3_Sick)"
   ]
  },
  {
   "cell_type": "code",
   "execution_count": 256,
   "metadata": {},
   "outputs": [
    {
     "data": {
      "text/plain": [
       "(12, 20)"
      ]
     },
     "execution_count": 256,
     "metadata": {},
     "output_type": "execute_result"
    }
   ],
   "source": [
    "len(old_age_Control), len(old_age_Sick)"
   ]
  },
  {
   "cell_type": "markdown",
   "metadata": {},
   "source": [
    "Creating graph to look at all individuals under 50 and whether there are differences in the protein levels between sick and control, as well as male and female"
   ]
  },
  {
   "cell_type": "code",
   "execution_count": 257,
   "metadata": {},
   "outputs": [
    {
     "name": "stdout",
     "output_type": "stream",
     "text": [
      "open above file in browser for intractiveness or run below cell\n"
     ]
    }
   ],
   "source": [
    "labels = []\n",
    "allFullyFilledYoung = []\n",
    "colors= []\n",
    "types = []\n",
    "\n",
    "keyToType = {}\n",
    "for key in youngControl:\n",
    "    if key in controlMales:\n",
    "        keyToType[key] = \"male\"\n",
    "    elif key in controlFemales:\n",
    "        keyToType[key] = \"female\"\n",
    "    else:\n",
    "        print str(key)\n",
    "\n",
    "for key in sorted(keyToType, key=keyToType.get):\n",
    "    types.append(0)\n",
    "    if key in controlMales:\n",
    "        params = [(\"age\", int(controlMales[key]['age']))]\n",
    "        labels.append(createLabels(\"c_male\", params))\n",
    "    elif key in controlFemales:\n",
    "        params = [(\"age\", int(controlFemales[key]['age']))]\n",
    "        labels.append(createLabels(\"c_female\", params))\n",
    "    colors.append('#3CB371')\n",
    "    allFullyFilledYoung.append(youngControl[key]['vector'])\n",
    "\n",
    "keyToType = {}\n",
    "for key in selectRandomFromContainer(youngSick.keys(), 'array', len(youngControl)):\n",
    "    if key in sickMales:\n",
    "        keyToType[key] = \"male\"\n",
    "    elif key in sickFemales:\n",
    "        keyToType[key] = \"female\"\n",
    "    else:\n",
    "        print str(key)\n",
    "\n",
    "for key in sorted(keyToType, key=keyToType.get):\n",
    "    types.append(1)\n",
    "    if key in sickMales:\n",
    "        params = [(\"age\", int(sickMales[key]['age']))]\n",
    "        labels.append(createLabels(\"s_male\", params))\n",
    "    elif key in sickFemales:\n",
    "        params = [(\"age\", int(sickFemales[key]['age']))]\n",
    "        labels.append(createLabels(\"s_female\", params))\n",
    "    colors.append('#FF6347')\n",
    "    allFullyFilledYoung.append(youngSick[key]['vector'])\n",
    "\n",
    "title = \"Random Sample of Young Data, x<50, Split By Control-Green and Sick-Red\"\n",
    "file_name = \"youngData_control.sick_age.svg\"\n",
    "usefulFunctions.createPyGalLinePlots(allFullyFilledYoung, labels, xLabels, types, colors, file_name, title)\n",
    "print \"open above file in browser for intractiveness or run below cell\""
   ]
  },
  {
   "cell_type": "code",
   "execution_count": 258,
   "metadata": {},
   "outputs": [
    {
     "data": {
      "text/plain": [
       "True"
      ]
     },
     "execution_count": 258,
     "metadata": {},
     "output_type": "execute_result"
    }
   ],
   "source": [
    "webbrowser.get(chrome_path).open('file://' + os.path.realpath(file_name))"
   ]
  },
  {
   "cell_type": "markdown",
   "metadata": {},
   "source": [
    "Creating graph to look at all individuals between 50 and 59 and whether there are differences in the protein levels between sick and control, as well as male and female"
   ]
  },
  {
   "cell_type": "code",
   "execution_count": 259,
   "metadata": {},
   "outputs": [
    {
     "name": "stdout",
     "output_type": "stream",
     "text": [
      "open above file in browser for intractiveness or run below cell\n"
     ]
    }
   ],
   "source": [
    "labels = []\n",
    "allFullyFilledMiddle_1 = []\n",
    "colors= []\n",
    "types = []\n",
    "\n",
    "keyToType = {}\n",
    "for key in middle_1_Control:\n",
    "    if key in controlMales:\n",
    "        keyToType[key] = \"male\"\n",
    "    elif key in controlFemales:\n",
    "        keyToType[key] = \"female\"\n",
    "    else:\n",
    "        print str(key)\n",
    "\n",
    "for key in sorted(keyToType, key=keyToType.get):\n",
    "    types.append(0)\n",
    "    if key in controlMales:\n",
    "        params = [(\"age\", int(controlMales[key]['age']))]\n",
    "        labels.append(createLabels(\"c_male\", params))\n",
    "    elif key in controlFemales:\n",
    "        params = [(\"age\", int(controlFemales[key]['age']))]\n",
    "        labels.append(createLabels(\"c_female\", params))\n",
    "    colors.append('#3CB371')\n",
    "    allFullyFilledMiddle_1.append(middle_1_Control[key]['vector'])\n",
    "\n",
    "keyToType = {}\n",
    "for key in selectRandomFromContainer(middle_1_Sick.keys(), 'array', len(middle_1_Control)):\n",
    "    if key in sickMales:\n",
    "        keyToType[key] = \"male\"\n",
    "    elif key in sickFemales:\n",
    "        keyToType[key] = \"female\"\n",
    "    else:\n",
    "        print str(key)\n",
    "\n",
    "for key in sorted(keyToType, key=keyToType.get):\n",
    "    types.append(1)\n",
    "    if key in sickMales:\n",
    "        params = [(\"age\", int(sickMales[key]['age']))]\n",
    "        labels.append(createLabels(\"s_male\", params))\n",
    "    elif key in sickFemales:\n",
    "        params = [(\"age\", int(sickFemales[key]['age']))]\n",
    "        labels.append(createLabels(\"s_female\", params))\n",
    "    colors.append('#FF6347')\n",
    "    allFullyFilledMiddle_1.append(middle_1_Sick[key]['vector'])\n",
    "\n",
    "title = \"Random Sample of Middle_1 Data, 50<=x<60, Split By Control-Green and Sick-Red\"\n",
    "file_name = \"middle_1_Data_control.sick_age.svg\"\n",
    "usefulFunctions.createPyGalLinePlots(allFullyFilledMiddle_1, labels, xLabels, types, colors, file_name, title)\n",
    "print \"open above file in browser for intractiveness or run below cell\""
   ]
  },
  {
   "cell_type": "code",
   "execution_count": 260,
   "metadata": {},
   "outputs": [
    {
     "data": {
      "text/plain": [
       "True"
      ]
     },
     "execution_count": 260,
     "metadata": {},
     "output_type": "execute_result"
    }
   ],
   "source": [
    "webbrowser.get(chrome_path).open('file://' + os.path.realpath(file_name))"
   ]
  },
  {
   "cell_type": "markdown",
   "metadata": {},
   "source": [
    "Creating graph to look at all individuals between 60 and 64 and whether there are differences in the protein levels between sick and control, as well as male and female"
   ]
  },
  {
   "cell_type": "code",
   "execution_count": 261,
   "metadata": {},
   "outputs": [
    {
     "name": "stdout",
     "output_type": "stream",
     "text": [
      "open above file in browser for intractiveness or run below cell\n"
     ]
    }
   ],
   "source": [
    "labels = []\n",
    "allFullyFilledMiddle_2 = []\n",
    "colors= []\n",
    "types = []\n",
    "\n",
    "keyToType = {}\n",
    "for key in middle_2_Control:\n",
    "    if key in controlMales:\n",
    "        keyToType[key] = \"male\"\n",
    "    elif key in controlFemales:\n",
    "        keyToType[key] = \"female\"\n",
    "    else:\n",
    "        print str(key)\n",
    "\n",
    "for key in sorted(keyToType, key=keyToType.get):\n",
    "    types.append(0)\n",
    "    if key in controlMales:\n",
    "        params = [(\"age\", int(controlMales[key]['age']))]\n",
    "        labels.append(createLabels(\"c_male\", params))\n",
    "    elif key in controlFemales:\n",
    "        params = [(\"age\", int(controlFemales[key]['age']))]\n",
    "        labels.append(createLabels(\"c_female\", params))\n",
    "    colors.append('#3CB371')\n",
    "    allFullyFilledMiddle_2.append(middle_2_Control[key]['vector'])\n",
    "\n",
    "keyToType = {}\n",
    "for key in selectRandomFromContainer(middle_2_Sick.keys(), 'array', len(middle_2_Control)):\n",
    "    if key in sickMales:\n",
    "        keyToType[key] = \"male\"\n",
    "    elif key in sickFemales:\n",
    "        keyToType[key] = \"female\"\n",
    "    else:\n",
    "        print str(key)\n",
    "\n",
    "for key in sorted(keyToType, key=keyToType.get):\n",
    "    types.append(1)\n",
    "    if key in sickMales:\n",
    "        params = [(\"age\", int(sickMales[key]['age']))]\n",
    "        labels.append(createLabels(\"s_male\", params))\n",
    "    elif key in sickFemales:\n",
    "        params = [(\"age\", int(sickFemales[key]['age']))]\n",
    "        labels.append(createLabels(\"s_female\", params))\n",
    "    colors.append('#FF6347')\n",
    "    allFullyFilledMiddle_2.append(middle_2_Sick[key]['vector'])\n",
    "\n",
    "title = \"Random Sample of Middle_2 Data, 60<=x<65, Split By Control-Green and Sick-Red\"\n",
    "file_name = \"middle_2_Data_control.sick_age.svg\"\n",
    "usefulFunctions.createPyGalLinePlots(allFullyFilledMiddle_2, labels, xLabels, types, colors, file_name, title)\n",
    "print \"open above file in browser for intractiveness or run below cell\""
   ]
  },
  {
   "cell_type": "code",
   "execution_count": 262,
   "metadata": {},
   "outputs": [
    {
     "data": {
      "text/plain": [
       "True"
      ]
     },
     "execution_count": 262,
     "metadata": {},
     "output_type": "execute_result"
    }
   ],
   "source": [
    "webbrowser.get(chrome_path).open('file://' + os.path.realpath(file_name))"
   ]
  },
  {
   "cell_type": "markdown",
   "metadata": {},
   "source": [
    "Creating graph to look at all individuals between 65 and 69 and whether there are differences in the protein levels between sick and control, as well as male and female"
   ]
  },
  {
   "cell_type": "code",
   "execution_count": 263,
   "metadata": {},
   "outputs": [
    {
     "name": "stdout",
     "output_type": "stream",
     "text": [
      "open above file in browser for intractiveness or run below cell\n"
     ]
    }
   ],
   "source": [
    "labels = []\n",
    "allFullyFilledMiddle_3 = []\n",
    "colors= []\n",
    "types = []\n",
    "\n",
    "keyToType = {}\n",
    "for key in middle_3_Control:\n",
    "    if key in controlMales:\n",
    "        keyToType[key] = \"male\"\n",
    "    elif key in controlFemales:\n",
    "        keyToType[key] = \"female\"\n",
    "    else:\n",
    "        print str(key)\n",
    "\n",
    "for key in sorted(keyToType, key=keyToType.get):\n",
    "    types.append(0)\n",
    "    if key in controlMales:\n",
    "        params = [(\"age\", int(controlMales[key]['age']))]\n",
    "        labels.append(createLabels(\"c_male\", params))\n",
    "    elif key in controlFemales:\n",
    "        params = [(\"age\", int(controlFemales[key]['age']))]\n",
    "        labels.append(createLabels(\"c_female\", params))\n",
    "    colors.append('#3CB371')\n",
    "    allFullyFilledMiddle_3.append(middle_3_Control[key]['vector'])\n",
    "\n",
    "keyToType = {}\n",
    "for key in selectRandomFromContainer(middle_3_Sick.keys(), 'array', len(middle_3_Control)):\n",
    "    if key in sickMales:\n",
    "        keyToType[key] = \"male\"\n",
    "    elif key in sickFemales:\n",
    "        keyToType[key] = \"female\"\n",
    "    else:\n",
    "        print str(key)\n",
    "\n",
    "for key in sorted(keyToType, key=keyToType.get):\n",
    "    types.append(1)\n",
    "    if key in sickMales:\n",
    "        params = [(\"age\", int(sickMales[key]['age']))]\n",
    "        labels.append(createLabels(\"s_male\", params))\n",
    "    elif key in sickFemales:\n",
    "        params = [(\"age\", int(sickFemales[key]['age']))]\n",
    "        labels.append(createLabels(\"s_female\", params))\n",
    "    colors.append('#FF6347')\n",
    "    allFullyFilledMiddle_3.append(middle_3_Sick[key]['vector'])\n",
    "\n",
    "title = \"Random Sample of Middle_3 Data, 65<=x<70, Split By Control-Green and Sick-Red\"\n",
    "file_name = \"middle_3_Data_control.sick_age.svg\"\n",
    "usefulFunctions.createPyGalLinePlots(allFullyFilledMiddle_3, labels, xLabels, types, colors, file_name, title)\n",
    "print \"open above file in browser for intractiveness or run below cell\""
   ]
  },
  {
   "cell_type": "code",
   "execution_count": 264,
   "metadata": {},
   "outputs": [
    {
     "data": {
      "text/plain": [
       "True"
      ]
     },
     "execution_count": 264,
     "metadata": {},
     "output_type": "execute_result"
    }
   ],
   "source": [
    "webbrowser.get(chrome_path).open('file://' + os.path.realpath(file_name))"
   ]
  },
  {
   "cell_type": "markdown",
   "metadata": {},
   "source": [
    "Creating graph to look at all individuals older than 69 and whether there are differences in the protein levels between sick and control, as well as male and female"
   ]
  },
  {
   "cell_type": "code",
   "execution_count": 267,
   "metadata": {},
   "outputs": [
    {
     "name": "stdout",
     "output_type": "stream",
     "text": [
      "open above file in browser for intractiveness or run below cell\n"
     ]
    }
   ],
   "source": [
    "labels = []\n",
    "allFullyFilledOld = []\n",
    "colors= []\n",
    "types = []\n",
    "\n",
    "keyToType = {}\n",
    "for key in old_age_Control:\n",
    "    if key in controlMales:\n",
    "        keyToType[key] = \"male\"\n",
    "    elif key in controlFemales:\n",
    "        keyToType[key] = \"female\"\n",
    "    else:\n",
    "        print str(key)\n",
    "\n",
    "for key in sorted(keyToType, key=keyToType.get):\n",
    "    types.append(0)\n",
    "    if key in controlMales:\n",
    "        params = [(\"age\", int(controlMales[key]['age']))]\n",
    "        labels.append(createLabels(\"c_male\", params))\n",
    "    elif key in controlFemales:\n",
    "        params = [(\"age\", int(controlFemales[key]['age']))]\n",
    "        labels.append(createLabels(\"c_female\", params))\n",
    "    colors.append('#3CB371')\n",
    "    allFullyFilledOld.append(old_age_Control[key]['vector'])\n",
    "\n",
    "keyToType = {}\n",
    "for key in selectRandomFromContainer(old_age_Sick.keys(), 'array', len(old_age_Control)):\n",
    "    if key in sickMales:\n",
    "        keyToType[key] = \"male\"\n",
    "    elif key in sickFemales:\n",
    "        keyToType[key] = \"female\"\n",
    "    else:\n",
    "        print str(key)\n",
    "\n",
    "for key in sorted(keyToType, key=keyToType.get):\n",
    "    types.append(1)\n",
    "    if key in sickMales:\n",
    "        params = [(\"age\", int(sickMales[key]['age']))]\n",
    "        labels.append(createLabels(\"s_male\", params))\n",
    "    elif key in sickFemales:\n",
    "        params = [(\"age\", int(sickFemales[key]['age']))]\n",
    "        labels.append(createLabels(\"s_female\", params))\n",
    "    colors.append('#FF6347')\n",
    "    allFullyFilledOld.append(old_age_Sick[key]['vector'])\n",
    "\n",
    "title = \"Random Sample of Old Data, x>=70, Split By Control-Green and Sick-Red\"\n",
    "file_name = \"old_age_Data_control.sick_age.svg\"\n",
    "usefulFunctions.createPyGalLinePlots(allFullyFilledOld, labels, xLabels, types, colors, file_name, title)\n",
    "print \"open above file in browser for intractiveness or run below cell\""
   ]
  },
  {
   "cell_type": "code",
   "execution_count": 268,
   "metadata": {},
   "outputs": [
    {
     "data": {
      "text/plain": [
       "True"
      ]
     },
     "execution_count": 268,
     "metadata": {},
     "output_type": "execute_result"
    }
   ],
   "source": [
    "webbrowser.get(chrome_path).open('file://' + os.path.realpath(file_name))"
   ]
  },
  {
   "cell_type": "code",
   "execution_count": null,
   "metadata": {
    "collapsed": true
   },
   "outputs": [],
   "source": []
  }
 ],
 "metadata": {
  "kernelspec": {
   "display_name": "Python 2",
   "language": "python",
   "name": "python2"
  },
  "language_info": {
   "codemirror_mode": {
    "name": "ipython",
    "version": 2
   },
   "file_extension": ".py",
   "mimetype": "text/x-python",
   "name": "python",
   "nbconvert_exporter": "python",
   "pygments_lexer": "ipython2",
   "version": "2.7.10"
  }
 },
 "nbformat": 4,
 "nbformat_minor": 2
}
