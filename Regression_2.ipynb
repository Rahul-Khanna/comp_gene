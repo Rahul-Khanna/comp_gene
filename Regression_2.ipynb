{
 "cells": [
  {
   "cell_type": "code",
   "execution_count": 1,
   "metadata": {},
   "outputs": [],
   "source": [
    "%load_ext autoreload\n",
    "%autoreload 2\n",
    "import pandas as pd\n",
    "import matplotlib.pyplot as plt\n",
    "import scipy\n",
    "from numpy.random import normal\n",
    "import math\n",
    "import usefulFunctions\n",
    "from usefulFunctions import checkForNull\n",
    "from IPython.core.debugger import Tracer\n",
    "import random\n",
    "import numpy\n",
    "from statsmodels.formula.api import ols\n",
    "from usefulFunctions import computeMean\n",
    "from usefulFunctions import computeStdev\n",
    "import numpy as np\n",
    "from sklearn import linear_model\n",
    "from sklearn.model_selection import cross_val_score\n",
    "from pandas import DataFrame as df\n",
    "from sklearn.model_selection import train_test_split\n",
    "from sklearn.metrics import confusion_matrix\n",
    "from sklearn.metrics import roc_curve\n",
    "from sklearn.metrics import auc\n",
    "import usefulFunctions as useful"
   ]
  },
  {
   "cell_type": "code",
   "execution_count": 2,
   "metadata": {
    "collapsed": true
   },
   "outputs": [],
   "source": [
    "fileName = \"Master_PL.xlsx - Master_PL.csv\"\n",
    "normalized_table = pd.read_csv(fileName, header=0, \n",
    "                    names=[\"id\", \"type\", \"gender\", \"age\", \"monthsFromScreening\", \"protein_BL\", \"protein_V4\",\n",
    "                          \"protein_V6\", \"protein_V8\", \"protein_V10\", \"protein_V12\"])\n",
    "\n",
    "table = pd.read_csv(fileName, header=0, \n",
    "                    names=[\"id\", \"type\", \"gender\", \"age\", \"monthsFromScreening\", \"protein_BL\", \"protein_V4\",\n",
    "                          \"protein_V6\", \"protein_V8\", \"protein_V10\", \"protein_V12\"])"
   ]
  },
  {
   "cell_type": "code",
   "execution_count": 6,
   "metadata": {},
   "outputs": [
    {
     "data": {
      "text/html": [
       "<div>\n",
       "<table border=\"1\" class=\"dataframe\">\n",
       "  <thead>\n",
       "    <tr style=\"text-align: right;\">\n",
       "      <th></th>\n",
       "      <th>id</th>\n",
       "      <th>type</th>\n",
       "      <th>gender</th>\n",
       "      <th>age</th>\n",
       "      <th>monthsFromScreening</th>\n",
       "      <th>protein_BL</th>\n",
       "      <th>protein_V4</th>\n",
       "      <th>protein_V6</th>\n",
       "      <th>protein_V8</th>\n",
       "      <th>protein_V10</th>\n",
       "      <th>protein_V12</th>\n",
       "    </tr>\n",
       "  </thead>\n",
       "  <tbody>\n",
       "    <tr>\n",
       "      <th>0</th>\n",
       "      <td>3011</td>\n",
       "      <td>0</td>\n",
       "      <td>1</td>\n",
       "      <td>32</td>\n",
       "      <td>NaN</td>\n",
       "      <td>26.0</td>\n",
       "      <td>NaN</td>\n",
       "      <td>NaN</td>\n",
       "      <td>NaN</td>\n",
       "      <td>NaN</td>\n",
       "      <td>NaN</td>\n",
       "    </tr>\n",
       "    <tr>\n",
       "      <th>1</th>\n",
       "      <td>3016</td>\n",
       "      <td>0</td>\n",
       "      <td>1</td>\n",
       "      <td>58</td>\n",
       "      <td>NaN</td>\n",
       "      <td>66.0</td>\n",
       "      <td>67.0</td>\n",
       "      <td>70.0</td>\n",
       "      <td>56.0</td>\n",
       "      <td>NaN</td>\n",
       "      <td>NaN</td>\n",
       "    </tr>\n",
       "    <tr>\n",
       "      <th>2</th>\n",
       "      <td>3069</td>\n",
       "      <td>0</td>\n",
       "      <td>0</td>\n",
       "      <td>54</td>\n",
       "      <td>NaN</td>\n",
       "      <td>24.0</td>\n",
       "      <td>34.0</td>\n",
       "      <td>32.0</td>\n",
       "      <td>30.0</td>\n",
       "      <td>33.0</td>\n",
       "      <td>NaN</td>\n",
       "    </tr>\n",
       "    <tr>\n",
       "      <th>3</th>\n",
       "      <td>3072</td>\n",
       "      <td>0</td>\n",
       "      <td>0</td>\n",
       "      <td>47</td>\n",
       "      <td>NaN</td>\n",
       "      <td>44.0</td>\n",
       "      <td>55.0</td>\n",
       "      <td>37.0</td>\n",
       "      <td>NaN</td>\n",
       "      <td>40.0</td>\n",
       "      <td>37.0</td>\n",
       "    </tr>\n",
       "    <tr>\n",
       "      <th>4</th>\n",
       "      <td>3073</td>\n",
       "      <td>0</td>\n",
       "      <td>1</td>\n",
       "      <td>48</td>\n",
       "      <td>NaN</td>\n",
       "      <td>68.0</td>\n",
       "      <td>64.0</td>\n",
       "      <td>77.0</td>\n",
       "      <td>NaN</td>\n",
       "      <td>65.0</td>\n",
       "      <td>79.0</td>\n",
       "    </tr>\n",
       "  </tbody>\n",
       "</table>\n",
       "</div>"
      ],
      "text/plain": [
       "     id  type  gender  age  monthsFromScreening  protein_BL  protein_V4  \\\n",
       "0  3011     0       1   32                  NaN        26.0         NaN   \n",
       "1  3016     0       1   58                  NaN        66.0        67.0   \n",
       "2  3069     0       0   54                  NaN        24.0        34.0   \n",
       "3  3072     0       0   47                  NaN        44.0        55.0   \n",
       "4  3073     0       1   48                  NaN        68.0        64.0   \n",
       "\n",
       "   protein_V6  protein_V8  protein_V10  protein_V12  \n",
       "0         NaN         NaN          NaN          NaN  \n",
       "1        70.0        56.0          NaN          NaN  \n",
       "2        32.0        30.0         33.0          NaN  \n",
       "3        37.0         NaN         40.0         37.0  \n",
       "4        77.0         NaN         65.0         79.0  "
      ]
     },
     "execution_count": 6,
     "metadata": {},
     "output_type": "execute_result"
    }
   ],
   "source": [
    "normalized_table.head()"
   ]
  },
  {
   "cell_type": "code",
   "execution_count": 4,
   "metadata": {
    "collapsed": true
   },
   "outputs": [],
   "source": [
    "# (lambda x: your_func(a,b,c,d,...,x))\n",
    "def make_binary(x):\n",
    "    return x-1\n",
    "\n",
    "def standardize(x, mean, std):\n",
    "    return (x - mean)/std"
   ]
  },
  {
   "cell_type": "code",
   "execution_count": 5,
   "metadata": {
    "collapsed": true
   },
   "outputs": [],
   "source": [
    "normalized_table.type = normalized_table.type.apply(make_binary)\n",
    "normalized_table.gender = normalized_table.gender.apply(make_binary)"
   ]
  },
  {
   "cell_type": "code",
   "execution_count": 7,
   "metadata": {},
   "outputs": [
    {
     "data": {
      "text/html": [
       "<div>\n",
       "<table border=\"1\" class=\"dataframe\">\n",
       "  <thead>\n",
       "    <tr style=\"text-align: right;\">\n",
       "      <th></th>\n",
       "      <th>id</th>\n",
       "      <th>type</th>\n",
       "      <th>gender</th>\n",
       "      <th>age</th>\n",
       "      <th>monthsFromScreening</th>\n",
       "      <th>protein_BL</th>\n",
       "      <th>protein_V4</th>\n",
       "      <th>protein_V6</th>\n",
       "      <th>protein_V8</th>\n",
       "      <th>protein_V10</th>\n",
       "      <th>protein_V12</th>\n",
       "    </tr>\n",
       "  </thead>\n",
       "  <tbody>\n",
       "    <tr>\n",
       "      <th>0</th>\n",
       "      <td>3011</td>\n",
       "      <td>0</td>\n",
       "      <td>1</td>\n",
       "      <td>32</td>\n",
       "      <td>NaN</td>\n",
       "      <td>26.0</td>\n",
       "      <td>NaN</td>\n",
       "      <td>NaN</td>\n",
       "      <td>NaN</td>\n",
       "      <td>NaN</td>\n",
       "      <td>NaN</td>\n",
       "    </tr>\n",
       "    <tr>\n",
       "      <th>1</th>\n",
       "      <td>3016</td>\n",
       "      <td>0</td>\n",
       "      <td>1</td>\n",
       "      <td>58</td>\n",
       "      <td>NaN</td>\n",
       "      <td>66.0</td>\n",
       "      <td>67.0</td>\n",
       "      <td>70.0</td>\n",
       "      <td>56.0</td>\n",
       "      <td>NaN</td>\n",
       "      <td>NaN</td>\n",
       "    </tr>\n",
       "    <tr>\n",
       "      <th>2</th>\n",
       "      <td>3069</td>\n",
       "      <td>0</td>\n",
       "      <td>0</td>\n",
       "      <td>54</td>\n",
       "      <td>NaN</td>\n",
       "      <td>24.0</td>\n",
       "      <td>34.0</td>\n",
       "      <td>32.0</td>\n",
       "      <td>30.0</td>\n",
       "      <td>33.0</td>\n",
       "      <td>NaN</td>\n",
       "    </tr>\n",
       "    <tr>\n",
       "      <th>3</th>\n",
       "      <td>3072</td>\n",
       "      <td>0</td>\n",
       "      <td>0</td>\n",
       "      <td>47</td>\n",
       "      <td>NaN</td>\n",
       "      <td>44.0</td>\n",
       "      <td>55.0</td>\n",
       "      <td>37.0</td>\n",
       "      <td>NaN</td>\n",
       "      <td>40.0</td>\n",
       "      <td>37.0</td>\n",
       "    </tr>\n",
       "    <tr>\n",
       "      <th>4</th>\n",
       "      <td>3073</td>\n",
       "      <td>0</td>\n",
       "      <td>1</td>\n",
       "      <td>48</td>\n",
       "      <td>NaN</td>\n",
       "      <td>68.0</td>\n",
       "      <td>64.0</td>\n",
       "      <td>77.0</td>\n",
       "      <td>NaN</td>\n",
       "      <td>65.0</td>\n",
       "      <td>79.0</td>\n",
       "    </tr>\n",
       "  </tbody>\n",
       "</table>\n",
       "</div>"
      ],
      "text/plain": [
       "     id  type  gender  age  monthsFromScreening  protein_BL  protein_V4  \\\n",
       "0  3011     0       1   32                  NaN        26.0         NaN   \n",
       "1  3016     0       1   58                  NaN        66.0        67.0   \n",
       "2  3069     0       0   54                  NaN        24.0        34.0   \n",
       "3  3072     0       0   47                  NaN        44.0        55.0   \n",
       "4  3073     0       1   48                  NaN        68.0        64.0   \n",
       "\n",
       "   protein_V6  protein_V8  protein_V10  protein_V12  \n",
       "0         NaN         NaN          NaN          NaN  \n",
       "1        70.0        56.0          NaN          NaN  \n",
       "2        32.0        30.0         33.0          NaN  \n",
       "3        37.0         NaN         40.0         37.0  \n",
       "4        77.0         NaN         65.0         79.0  "
      ]
     },
     "execution_count": 7,
     "metadata": {},
     "output_type": "execute_result"
    }
   ],
   "source": [
    "normalized_table.head()"
   ]
  },
  {
   "cell_type": "code",
   "execution_count": 8,
   "metadata": {
    "collapsed": true
   },
   "outputs": [],
   "source": [
    "age_mean = np.mean(table.age)\n",
    "age_std = np.std(table.age)\n",
    "\n",
    "monthsFromScreening_mean = np.mean(table.monthsFromScreening)\n",
    "monthsFromScreening_std = np.std(table.monthsFromScreening)"
   ]
  },
  {
   "cell_type": "code",
   "execution_count": 9,
   "metadata": {
    "collapsed": true
   },
   "outputs": [],
   "source": [
    "normalized_table.age = normalized_table.age.apply(lambda x: standardize(x, age_mean, age_std))"
   ]
  },
  {
   "cell_type": "code",
   "execution_count": 10,
   "metadata": {
    "collapsed": true
   },
   "outputs": [],
   "source": [
    "normalized_table.monthsFromScreening = normalized_table.monthsFromScreening.apply(lambda x: standardize(x, \n",
    "                                                                                             monthsFromScreening_mean,\\\n",
    "                                                                                             monthsFromScreening_std))"
   ]
  },
  {
   "cell_type": "code",
   "execution_count": 11,
   "metadata": {},
   "outputs": [
    {
     "data": {
      "text/html": [
       "<div>\n",
       "<table border=\"1\" class=\"dataframe\">\n",
       "  <thead>\n",
       "    <tr style=\"text-align: right;\">\n",
       "      <th></th>\n",
       "      <th>id</th>\n",
       "      <th>type</th>\n",
       "      <th>gender</th>\n",
       "      <th>age</th>\n",
       "      <th>monthsFromScreening</th>\n",
       "      <th>protein_BL</th>\n",
       "      <th>protein_V4</th>\n",
       "      <th>protein_V6</th>\n",
       "      <th>protein_V8</th>\n",
       "      <th>protein_V10</th>\n",
       "      <th>protein_V12</th>\n",
       "    </tr>\n",
       "  </thead>\n",
       "  <tbody>\n",
       "    <tr>\n",
       "      <th>0</th>\n",
       "      <td>3011</td>\n",
       "      <td>0</td>\n",
       "      <td>1</td>\n",
       "      <td>-2.866796</td>\n",
       "      <td>NaN</td>\n",
       "      <td>26.0</td>\n",
       "      <td>NaN</td>\n",
       "      <td>NaN</td>\n",
       "      <td>NaN</td>\n",
       "      <td>NaN</td>\n",
       "      <td>NaN</td>\n",
       "    </tr>\n",
       "    <tr>\n",
       "      <th>1</th>\n",
       "      <td>3016</td>\n",
       "      <td>0</td>\n",
       "      <td>1</td>\n",
       "      <td>-0.323765</td>\n",
       "      <td>NaN</td>\n",
       "      <td>66.0</td>\n",
       "      <td>67.0</td>\n",
       "      <td>70.0</td>\n",
       "      <td>56.0</td>\n",
       "      <td>NaN</td>\n",
       "      <td>NaN</td>\n",
       "    </tr>\n",
       "    <tr>\n",
       "      <th>2</th>\n",
       "      <td>3069</td>\n",
       "      <td>0</td>\n",
       "      <td>0</td>\n",
       "      <td>-0.715000</td>\n",
       "      <td>NaN</td>\n",
       "      <td>24.0</td>\n",
       "      <td>34.0</td>\n",
       "      <td>32.0</td>\n",
       "      <td>30.0</td>\n",
       "      <td>33.0</td>\n",
       "      <td>NaN</td>\n",
       "    </tr>\n",
       "    <tr>\n",
       "      <th>3</th>\n",
       "      <td>3072</td>\n",
       "      <td>0</td>\n",
       "      <td>0</td>\n",
       "      <td>-1.399662</td>\n",
       "      <td>NaN</td>\n",
       "      <td>44.0</td>\n",
       "      <td>55.0</td>\n",
       "      <td>37.0</td>\n",
       "      <td>NaN</td>\n",
       "      <td>40.0</td>\n",
       "      <td>37.0</td>\n",
       "    </tr>\n",
       "    <tr>\n",
       "      <th>4</th>\n",
       "      <td>3073</td>\n",
       "      <td>0</td>\n",
       "      <td>1</td>\n",
       "      <td>-1.301854</td>\n",
       "      <td>NaN</td>\n",
       "      <td>68.0</td>\n",
       "      <td>64.0</td>\n",
       "      <td>77.0</td>\n",
       "      <td>NaN</td>\n",
       "      <td>65.0</td>\n",
       "      <td>79.0</td>\n",
       "    </tr>\n",
       "  </tbody>\n",
       "</table>\n",
       "</div>"
      ],
      "text/plain": [
       "     id  type  gender       age  monthsFromScreening  protein_BL  protein_V4  \\\n",
       "0  3011     0       1 -2.866796                  NaN        26.0         NaN   \n",
       "1  3016     0       1 -0.323765                  NaN        66.0        67.0   \n",
       "2  3069     0       0 -0.715000                  NaN        24.0        34.0   \n",
       "3  3072     0       0 -1.399662                  NaN        44.0        55.0   \n",
       "4  3073     0       1 -1.301854                  NaN        68.0        64.0   \n",
       "\n",
       "   protein_V6  protein_V8  protein_V10  protein_V12  \n",
       "0         NaN         NaN          NaN          NaN  \n",
       "1        70.0        56.0          NaN          NaN  \n",
       "2        32.0        30.0         33.0          NaN  \n",
       "3        37.0         NaN         40.0         37.0  \n",
       "4        77.0         NaN         65.0         79.0  "
      ]
     },
     "execution_count": 11,
     "metadata": {},
     "output_type": "execute_result"
    }
   ],
   "source": [
    "normalized_table.head()"
   ]
  },
  {
   "cell_type": "code",
   "execution_count": 12,
   "metadata": {
    "collapsed": true
   },
   "outputs": [],
   "source": [
    "normalized_model_with_type = ols('protein_BL ~ type + gender + age', normalized_table).fit()\n",
    "model_with_type = ols('protein_BL ~ type + gender + age', table).fit()\n",
    "\n",
    "normalized_model_with_screening = ols('protein_BL ~ gender + age + monthsFromScreening', normalized_table).fit()\n",
    "model_with_screening = ols('protein_BL ~ gender + age + monthsFromScreening', table).fit()"
   ]
  },
  {
   "cell_type": "code",
   "execution_count": 15,
   "metadata": {},
   "outputs": [
    {
     "name": "stdout",
     "output_type": "stream",
     "text": [
      "                            OLS Regression Results                            \n",
      "==============================================================================\n",
      "Dep. Variable:             protein_BL   R-squared:                       0.104\n",
      "Model:                            OLS   Adj. R-squared:                  0.099\n",
      "Method:                 Least Squares   F-statistic:                     21.92\n",
      "Date:                Mon, 08 Oct 2018   Prob (F-statistic):           1.92e-13\n",
      "Time:                        08:02:14   Log-Likelihood:                -2475.1\n",
      "No. Observations:                 571   AIC:                             4958.\n",
      "Df Residuals:                     567   BIC:                             4976.\n",
      "Df Model:                           3                                         \n",
      "Covariance Type:            nonrobust                                         \n",
      "==============================================================================\n",
      "                 coef    std err          t      P>|t|      [0.025      0.975]\n",
      "------------------------------------------------------------------------------\n",
      "Intercept     33.3660      1.731     19.275      0.000      29.966      36.766\n",
      "type           2.1279      1.672      1.273      0.204      -1.156       5.412\n",
      "gender        12.3492      1.637      7.544      0.000       9.134      15.564\n",
      "age            1.4618      0.775      1.887      0.060      -0.060       2.983\n",
      "==============================================================================\n",
      "Omnibus:                      172.826   Durbin-Watson:                   1.792\n",
      "Prob(Omnibus):                  0.000   Jarque-Bera (JB):             1174.497\n",
      "Skew:                           1.153   Prob(JB):                    9.14e-256\n",
      "Kurtosis:                       9.637   Cond. No.                         4.24\n",
      "==============================================================================\n",
      "\n",
      "Warnings:\n",
      "[1] Standard Errors assume that the covariance matrix of the errors is correctly specified.\n"
     ]
    }
   ],
   "source": [
    "print(normalized_model_with_type.summary()) "
   ]
  },
  {
   "cell_type": "code",
   "execution_count": 79,
   "metadata": {},
   "outputs": [
    {
     "name": "stdout",
     "output_type": "stream",
     "text": [
      "                            OLS Regression Results                            \n",
      "==============================================================================\n",
      "Dep. Variable:             protein_BL   R-squared:                       0.085\n",
      "Model:                            OLS   Adj. R-squared:                  0.078\n",
      "Method:                 Least Squares   F-statistic:                     12.02\n",
      "Date:                Sun, 01 Oct 2017   Prob (F-statistic):           1.55e-07\n",
      "Time:                        19:18:22   Log-Likelihood:                -1725.3\n",
      "No. Observations:                 391   AIC:                             3459.\n",
      "Df Residuals:                     387   BIC:                             3474.\n",
      "Df Model:                           3                                         \n",
      "Covariance Type:            nonrobust                                         \n",
      "=======================================================================================\n",
      "                          coef    std err          t      P>|t|      [0.025      0.975]\n",
      "---------------------------------------------------------------------------------------\n",
      "Intercept              35.4843      1.756     20.207      0.000      32.032      38.937\n",
      "gender                 12.3672      2.160      5.724      0.000       8.119      16.615\n",
      "age                     1.4746      1.076      1.370      0.171      -0.641       3.590\n",
      "monthsFromScreening     0.3574      1.027      0.348      0.728      -1.661       2.376\n",
      "==============================================================================\n",
      "Omnibus:                      136.254   Durbin-Watson:                   1.787\n",
      "Prob(Omnibus):                  0.000   Jarque-Bera (JB):              840.331\n",
      "Skew:                           1.335   Prob(JB):                    3.34e-183\n",
      "Kurtosis:                       9.668   Cond. No.                         3.24\n",
      "==============================================================================\n",
      "\n",
      "Warnings:\n",
      "[1] Standard Errors assume that the covariance matrix of the errors is correctly specified.\n"
     ]
    }
   ],
   "source": [
    "print(normalized_model_with_screening.summary())"
   ]
  },
  {
   "cell_type": "code",
   "execution_count": 80,
   "metadata": {
    "collapsed": true
   },
   "outputs": [],
   "source": [
    "normalized_model_with_type = ols('protein_V4 ~ type + gender + age', normalized_table).fit()\n",
    "normalized_model_with_screening = ols('protein_V4 ~ gender + age + monthsFromScreening', normalized_table).fit()"
   ]
  },
  {
   "cell_type": "code",
   "execution_count": 81,
   "metadata": {},
   "outputs": [
    {
     "name": "stdout",
     "output_type": "stream",
     "text": [
      "                            OLS Regression Results                            \n",
      "==============================================================================\n",
      "Dep. Variable:             protein_V4   R-squared:                       0.074\n",
      "Model:                            OLS   Adj. R-squared:                  0.067\n",
      "Method:                 Least Squares   F-statistic:                     11.28\n",
      "Date:                Sun, 01 Oct 2017   Prob (F-statistic):           3.91e-07\n",
      "Time:                        19:21:15   Log-Likelihood:                -2000.5\n",
      "No. Observations:                 430   AIC:                             4009.\n",
      "Df Residuals:                     426   BIC:                             4025.\n",
      "Df Model:                           3                                         \n",
      "Covariance Type:            nonrobust                                         \n",
      "==============================================================================\n",
      "                 coef    std err          t      P>|t|      [0.025      0.975]\n",
      "------------------------------------------------------------------------------\n",
      "Intercept     33.9165      2.765     12.268      0.000      28.483      39.350\n",
      "type           3.0523      2.624      1.163      0.245      -2.105       8.210\n",
      "gender        13.5413      2.629      5.151      0.000       8.375      18.708\n",
      "age            2.3740      1.257      1.888      0.060      -0.097       4.845\n",
      "==============================================================================\n",
      "Omnibus:                      557.811   Durbin-Watson:                   1.854\n",
      "Prob(Omnibus):                  0.000   Jarque-Bera (JB):            98127.735\n",
      "Skew:                           6.081   Prob(JB):                         0.00\n",
      "Kurtosis:                      76.000   Cond. No.                         4.28\n",
      "==============================================================================\n",
      "\n",
      "Warnings:\n",
      "[1] Standard Errors assume that the covariance matrix of the errors is correctly specified.\n"
     ]
    }
   ],
   "source": [
    "print(normalized_model_with_type.summary())"
   ]
  },
  {
   "cell_type": "code",
   "execution_count": 82,
   "metadata": {},
   "outputs": [
    {
     "name": "stdout",
     "output_type": "stream",
     "text": [
      "                            OLS Regression Results                            \n",
      "==============================================================================\n",
      "Dep. Variable:             protein_V4   R-squared:                       0.062\n",
      "Model:                            OLS   Adj. R-squared:                  0.052\n",
      "Method:                 Least Squares   F-statistic:                     6.273\n",
      "Date:                Sun, 01 Oct 2017   Prob (F-statistic):           0.000389\n",
      "Time:                        19:22:04   Log-Likelihood:                -1380.7\n",
      "No. Observations:                 290   AIC:                             2769.\n",
      "Df Residuals:                     286   BIC:                             2784.\n",
      "Df Model:                           3                                         \n",
      "Covariance Type:            nonrobust                                         \n",
      "=======================================================================================\n",
      "                          coef    std err          t      P>|t|      [0.025      0.975]\n",
      "---------------------------------------------------------------------------------------\n",
      "Intercept              36.3614      2.965     12.262      0.000      30.525      42.198\n",
      "gender                 14.4293      3.609      3.999      0.000       7.327      21.532\n",
      "age                     2.1294      1.824      1.167      0.244      -1.461       5.720\n",
      "monthsFromScreening    -0.4780      1.816     -0.263      0.793      -4.052       3.096\n",
      "==============================================================================\n",
      "Omnibus:                      397.582   Durbin-Watson:                   1.891\n",
      "Prob(Omnibus):                  0.000   Jarque-Bera (JB):            58919.558\n",
      "Skew:                           6.286   Prob(JB):                         0.00\n",
      "Kurtosis:                      71.688   Cond. No.                         3.32\n",
      "==============================================================================\n",
      "\n",
      "Warnings:\n",
      "[1] Standard Errors assume that the covariance matrix of the errors is correctly specified.\n"
     ]
    }
   ],
   "source": [
    " print(normalized_model_with_screening.summary())"
   ]
  },
  {
   "cell_type": "code",
   "execution_count": 83,
   "metadata": {
    "collapsed": true
   },
   "outputs": [],
   "source": [
    "normalized_model_with_type = ols('protein_V6 ~ type + gender + age', normalized_table).fit()\n",
    "normalized_model_with_screening = ols('protein_V6 ~ gender + age + monthsFromScreening', normalized_table).fit()"
   ]
  },
  {
   "cell_type": "code",
   "execution_count": 84,
   "metadata": {},
   "outputs": [
    {
     "name": "stdout",
     "output_type": "stream",
     "text": [
      "                            OLS Regression Results                            \n",
      "==============================================================================\n",
      "Dep. Variable:             protein_V6   R-squared:                       0.030\n",
      "Model:                            OLS   Adj. R-squared:                  0.023\n",
      "Method:                 Least Squares   F-statistic:                     4.113\n",
      "Date:                Sun, 01 Oct 2017   Prob (F-statistic):            0.00683\n",
      "Time:                        19:22:39   Log-Likelihood:                -1952.6\n",
      "No. Observations:                 403   AIC:                             3913.\n",
      "Df Residuals:                     399   BIC:                             3929.\n",
      "Df Model:                           3                                         \n",
      "Covariance Type:            nonrobust                                         \n",
      "==============================================================================\n",
      "                 coef    std err          t      P>|t|      [0.025      0.975]\n",
      "------------------------------------------------------------------------------\n",
      "Intercept     36.7009      3.426     10.712      0.000      29.965      43.437\n",
      "type           1.3598      3.318      0.410      0.682      -5.164       7.883\n",
      "gender        10.7460      3.258      3.298      0.001       4.340      17.152\n",
      "age            1.4094      1.550      0.909      0.364      -1.638       4.457\n",
      "==============================================================================\n",
      "Omnibus:                      597.592   Durbin-Watson:                   2.007\n",
      "Prob(Omnibus):                  0.000   Jarque-Bera (JB):           129408.580\n",
      "Skew:                           7.716   Prob(JB):                         0.00\n",
      "Kurtosis:                      89.421   Cond. No.                         4.22\n",
      "==============================================================================\n",
      "\n",
      "Warnings:\n",
      "[1] Standard Errors assume that the covariance matrix of the errors is correctly specified.\n"
     ]
    }
   ],
   "source": [
    "print(normalized_model_with_type.summary())"
   ]
  },
  {
   "cell_type": "code",
   "execution_count": 85,
   "metadata": {},
   "outputs": [
    {
     "name": "stdout",
     "output_type": "stream",
     "text": [
      "                            OLS Regression Results                            \n",
      "==============================================================================\n",
      "Dep. Variable:             protein_V6   R-squared:                       0.028\n",
      "Model:                            OLS   Adj. R-squared:                  0.017\n",
      "Method:                 Least Squares   F-statistic:                     2.593\n",
      "Date:                Sun, 01 Oct 2017   Prob (F-statistic):             0.0530\n",
      "Time:                        19:22:48   Log-Likelihood:                -1304.3\n",
      "No. Observations:                 276   AIC:                             2617.\n",
      "Df Residuals:                     272   BIC:                             2631.\n",
      "Df Model:                           3                                         \n",
      "Covariance Type:            nonrobust                                         \n",
      "=======================================================================================\n",
      "                          coef    std err          t      P>|t|      [0.025      0.975]\n",
      "---------------------------------------------------------------------------------------\n",
      "Intercept              39.2758      2.928     13.414      0.000      33.512      45.040\n",
      "gender                  9.0057      3.571      2.522      0.012       1.976      16.035\n",
      "age                     1.1315      1.749      0.647      0.518      -2.311       4.574\n",
      "monthsFromScreening    -0.7543      1.526     -0.494      0.622      -3.759       2.251\n",
      "==============================================================================\n",
      "Omnibus:                      364.955   Durbin-Watson:                   1.985\n",
      "Prob(Omnibus):                  0.000   Jarque-Bera (JB):            44613.634\n",
      "Skew:                           5.879   Prob(JB):                         0.00\n",
      "Kurtosis:                      64.165   Cond. No.                         3.31\n",
      "==============================================================================\n",
      "\n",
      "Warnings:\n",
      "[1] Standard Errors assume that the covariance matrix of the errors is correctly specified.\n"
     ]
    }
   ],
   "source": [
    " print(normalized_model_with_screening.summary())"
   ]
  },
  {
   "cell_type": "code",
   "execution_count": 89,
   "metadata": {
    "collapsed": true
   },
   "outputs": [],
   "source": [
    "normalized_model_with_type = ols('protein_V8 ~ type + gender + age', normalized_table).fit()\n",
    "normalized_model_with_screening = ols('protein_V8 ~ gender + age + monthsFromScreening', normalized_table).fit()"
   ]
  },
  {
   "cell_type": "code",
   "execution_count": 90,
   "metadata": {},
   "outputs": [
    {
     "name": "stdout",
     "output_type": "stream",
     "text": [
      "                            OLS Regression Results                            \n",
      "==============================================================================\n",
      "Dep. Variable:             protein_V8   R-squared:                       0.099\n",
      "Model:                            OLS   Adj. R-squared:                  0.092\n",
      "Method:                 Least Squares   F-statistic:                     13.91\n",
      "Date:                Sun, 01 Oct 2017   Prob (F-statistic):           1.26e-08\n",
      "Time:                        19:25:39   Log-Likelihood:                -1676.5\n",
      "No. Observations:                 384   AIC:                             3361.\n",
      "Df Residuals:                     380   BIC:                             3377.\n",
      "Df Model:                           3                                         \n",
      "Covariance Type:            nonrobust                                         \n",
      "==============================================================================\n",
      "                 coef    std err          t      P>|t|      [0.025      0.975]\n",
      "------------------------------------------------------------------------------\n",
      "Intercept     33.6474      2.205     15.262      0.000      29.313      37.982\n",
      "type           3.8135      2.136      1.786      0.075      -0.386       8.013\n",
      "gender        11.5298      2.065      5.584      0.000       7.470      15.589\n",
      "age            2.3201      1.015      2.285      0.023       0.324       4.317\n",
      "==============================================================================\n",
      "Omnibus:                      132.877   Durbin-Watson:                   1.876\n",
      "Prob(Omnibus):                  0.000   Jarque-Bera (JB):              727.906\n",
      "Skew:                           1.362   Prob(JB):                    8.65e-159\n",
      "Kurtosis:                       9.170   Cond. No.                         4.30\n",
      "==============================================================================\n",
      "\n",
      "Warnings:\n",
      "[1] Standard Errors assume that the covariance matrix of the errors is correctly specified.\n"
     ]
    }
   ],
   "source": [
    "print(normalized_model_with_type.summary())"
   ]
  },
  {
   "cell_type": "code",
   "execution_count": 91,
   "metadata": {},
   "outputs": [
    {
     "name": "stdout",
     "output_type": "stream",
     "text": [
      "                            OLS Regression Results                            \n",
      "==============================================================================\n",
      "Dep. Variable:             protein_V8   R-squared:                       0.104\n",
      "Model:                            OLS   Adj. R-squared:                  0.094\n",
      "Method:                 Least Squares   F-statistic:                     10.26\n",
      "Date:                Sun, 01 Oct 2017   Prob (F-statistic):           2.07e-06\n",
      "Time:                        19:26:05   Log-Likelihood:                -1197.7\n",
      "No. Observations:                 269   AIC:                             2403.\n",
      "Df Residuals:                     265   BIC:                             2418.\n",
      "Df Model:                           3                                         \n",
      "Covariance Type:            nonrobust                                         \n",
      "=======================================================================================\n",
      "                          coef    std err          t      P>|t|      [0.025      0.975]\n",
      "---------------------------------------------------------------------------------------\n",
      "Intercept              35.6401      2.239     15.915      0.000      31.231      40.049\n",
      "gender                 14.2289      2.735      5.202      0.000       8.843      19.614\n",
      "age                     2.0696      1.382      1.497      0.135      -0.652       4.791\n",
      "monthsFromScreening     0.5443      1.305      0.417      0.677      -2.024       3.113\n",
      "==============================================================================\n",
      "Omnibus:                      101.417   Durbin-Watson:                   1.873\n",
      "Prob(Omnibus):                  0.000   Jarque-Bera (JB):              450.763\n",
      "Skew:                           1.502   Prob(JB):                     1.31e-98\n",
      "Kurtosis:                       8.585   Cond. No.                         3.28\n",
      "==============================================================================\n",
      "\n",
      "Warnings:\n",
      "[1] Standard Errors assume that the covariance matrix of the errors is correctly specified.\n"
     ]
    }
   ],
   "source": [
    "print(normalized_model_with_screening.summary())"
   ]
  },
  {
   "cell_type": "code",
   "execution_count": 92,
   "metadata": {
    "collapsed": true
   },
   "outputs": [],
   "source": [
    "normalized_model_wi      bth_type = ols('protein_V10 ~ type + gender + age', normalized_table).fit()\n",
    "normalized_model_with_screening = ols('protein_V10 ~ gender + age + monthsFromScreening', normalized_table).fit()"
   ]
  },
  {
   "cell_type": "code",
   "execution_count": 93,
   "metadata": {},
   "outputs": [
    {
     "name": "stdout",
     "output_type": "stream",
     "text": [
      "                            OLS Regression Results                            \n",
      "==============================================================================\n",
      "Dep. Variable:            protein_V10   R-squared:                       0.139\n",
      "Model:                            OLS   Adj. R-squared:                  0.129\n",
      "Method:                 Least Squares   F-statistic:                     13.66\n",
      "Date:                Sun, 01 Oct 2017   Prob (F-statistic):           2.75e-08\n",
      "Time:                        19:26:39   Log-Likelihood:                -1111.0\n",
      "No. Observations:                 257   AIC:                             2230.\n",
      "Df Residuals:                     253   BIC:                             2244.\n",
      "Df Model:                           3                                         \n",
      "Covariance Type:            nonrobust                                         \n",
      "==============================================================================\n",
      "                 coef    std err          t      P>|t|      [0.025      0.975]\n",
      "------------------------------------------------------------------------------\n",
      "Intercept     34.2839      2.517     13.620      0.000      29.327      39.241\n",
      "type           4.3947      2.468      1.780      0.076      -0.466       9.256\n",
      "gender        12.7861      2.469      5.179      0.000       7.924      17.648\n",
      "age            2.8300      1.184      2.391      0.018       0.499       5.161\n",
      "==============================================================================\n",
      "Omnibus:                      122.699   Durbin-Watson:                   1.848\n",
      "Prob(Omnibus):                  0.000   Jarque-Bera (JB):              922.323\n",
      "Skew:                           1.742   Prob(JB):                    5.25e-201\n",
      "Kurtosis:                      11.602   Cond. No.                         4.16\n",
      "==============================================================================\n",
      "\n",
      "Warnings:\n",
      "[1] Standard Errors assume that the covariance matrix of the errors is correctly specified.\n"
     ]
    }
   ],
   "source": [
    "print(normalized_model_with_type.summary())"
   ]
  },
  {
   "cell_type": "code",
   "execution_count": 94,
   "metadata": {},
   "outputs": [
    {
     "name": "stdout",
     "output_type": "stream",
     "text": [
      "                            OLS Regression Results                            \n",
      "==============================================================================\n",
      "Dep. Variable:            protein_V10   R-squared:                       0.155\n",
      "Model:                            OLS   Adj. R-squared:                  0.141\n",
      "Method:                 Least Squares   F-statistic:                     10.43\n",
      "Date:                Sun, 01 Oct 2017   Prob (F-statistic):           2.45e-06\n",
      "Time:                        19:27:00   Log-Likelihood:                -762.76\n",
      "No. Observations:                 174   AIC:                             1534.\n",
      "Df Residuals:                     170   BIC:                             1546.\n",
      "Df Model:                           3                                         \n",
      "Covariance Type:            nonrobust                                         \n",
      "=======================================================================================\n",
      "                          coef    std err          t      P>|t|      [0.025      0.975]\n",
      "---------------------------------------------------------------------------------------\n",
      "Intercept              36.9221      2.778     13.291      0.000      31.438      42.406\n",
      "gender                 15.1463      3.299      4.591      0.000       8.634      21.659\n",
      "age                     4.0774      1.622      2.514      0.013       0.876       7.278\n",
      "monthsFromScreening     1.4213      1.421      1.000      0.319      -1.383       4.226\n",
      "==============================================================================\n",
      "Omnibus:                       94.374   Durbin-Watson:                   1.919\n",
      "Prob(Omnibus):                  0.000   Jarque-Bera (JB):              606.193\n",
      "Skew:                           1.933   Prob(JB):                    2.33e-132\n",
      "Kurtosis:                      11.287   Cond. No.                         3.52\n",
      "==============================================================================\n",
      "\n",
      "Warnings:\n",
      "[1] Standard Errors assume that the covariance matrix of the errors is correctly specified.\n"
     ]
    }
   ],
   "source": [
    "print(normalized_model_with_screening.summary())"
   ]
  },
  {
   "cell_type": "code",
   "execution_count": 95,
   "metadata": {
    "collapsed": true
   },
   "outputs": [],
   "source": [
    "normalized_model_with_type = ols('protein_V12 ~ type + gender + age', normalized_table).fit()\n",
    "normalized_model_with_screening = ols('protein_V12 ~ gender + age + monthsFromScreening', normalized_table).fit()"
   ]
  },
  {
   "cell_type": "code",
   "execution_count": 96,
   "metadata": {},
   "outputs": [
    {
     "name": "stdout",
     "output_type": "stream",
     "text": [
      "                            OLS Regression Results                            \n",
      "==============================================================================\n",
      "Dep. Variable:            protein_V12   R-squared:                       0.090\n",
      "Model:                            OLS   Adj. R-squared:                  0.067\n",
      "Method:                 Least Squares   F-statistic:                     3.934\n",
      "Date:                Sun, 01 Oct 2017   Prob (F-statistic):             0.0102\n",
      "Time:                        19:29:07   Log-Likelihood:                -563.56\n",
      "No. Observations:                 123   AIC:                             1135.\n",
      "Df Residuals:                     119   BIC:                             1146.\n",
      "Df Model:                           3                                         \n",
      "Covariance Type:            nonrobust                                         \n",
      "==============================================================================\n",
      "                 coef    std err          t      P>|t|      [0.025      0.975]\n",
      "------------------------------------------------------------------------------\n",
      "Intercept     38.1775      3.972      9.611      0.000      30.312      46.043\n",
      "type           3.1267      4.481      0.698      0.487      -5.746      11.999\n",
      "gender        13.0189      4.637      2.808      0.006       3.837      22.201\n",
      "age            2.7445      2.134      1.286      0.201      -1.480       6.969\n",
      "==============================================================================\n",
      "Omnibus:                      144.835   Durbin-Watson:                   1.863\n",
      "Prob(Omnibus):                  0.000   Jarque-Bera (JB):             4622.498\n",
      "Skew:                           4.077   Prob(JB):                         0.00\n",
      "Kurtosis:                      31.905   Cond. No.                         3.42\n",
      "==============================================================================\n",
      "\n",
      "Warnings:\n",
      "[1] Standard Errors assume that the covariance matrix of the errors is correctly specified.\n"
     ]
    }
   ],
   "source": [
    "print(normalized_model_with_type.summary())"
   ]
  },
  {
   "cell_type": "code",
   "execution_count": 97,
   "metadata": {},
   "outputs": [
    {
     "name": "stdout",
     "output_type": "stream",
     "text": [
      "                            OLS Regression Results                            \n",
      "==============================================================================\n",
      "Dep. Variable:            protein_V12   R-squared:                       0.096\n",
      "Model:                            OLS   Adj. R-squared:                  0.053\n",
      "Method:                 Least Squares   F-statistic:                     2.207\n",
      "Date:                Sun, 01 Oct 2017   Prob (F-statistic):             0.0962\n",
      "Time:                        19:29:22   Log-Likelihood:                -313.26\n",
      "No. Observations:                  66   AIC:                             634.5\n",
      "Df Residuals:                      62   BIC:                             643.3\n",
      "Df Model:                           3                                         \n",
      "Covariance Type:            nonrobust                                         \n",
      "=======================================================================================\n",
      "                          coef    std err          t      P>|t|      [0.025      0.975]\n",
      "---------------------------------------------------------------------------------------\n",
      "Intercept              38.7137      6.983      5.544      0.000      24.754      52.673\n",
      "gender                 15.9143      8.128      1.958      0.055      -0.333      32.161\n",
      "age                     3.5677      3.529      1.011      0.316      -3.487      10.622\n",
      "monthsFromScreening     3.9790      4.080      0.975      0.333      -4.176      12.134\n",
      "==============================================================================\n",
      "Omnibus:                       90.330   Durbin-Watson:                   1.964\n",
      "Prob(Omnibus):                  0.000   Jarque-Bera (JB):             1585.965\n",
      "Skew:                           3.967   Prob(JB):                         0.00\n",
      "Kurtosis:                      25.666   Cond. No.                         3.76\n",
      "==============================================================================\n",
      "\n",
      "Warnings:\n",
      "[1] Standard Errors assume that the covariance matrix of the errors is correctly specified.\n"
     ]
    }
   ],
   "source": [
    "print(normalized_model_with_screening.summary())"
   ]
  },
  {
   "cell_type": "code",
   "execution_count": 268,
   "metadata": {},
   "outputs": [
    {
     "data": {
      "text/plain": [
       "(283, 6)"
      ]
     },
     "execution_count": 268,
     "metadata": {},
     "output_type": "execute_result"
    }
   ],
   "source": [
    "data = normalized_table[['type', 'gender', 'age', 'protein_BL', 'protein_V4', 'protein_V6', \n",
    "                      'protein_V8']].dropna(axis=0, how='any')\n",
    "X = data[['gender', 'age', 'protein_BL', 'protein_V4', 'protein_V6', 'protein_V8']].as_matrix()\n",
    "X.shape"
   ]
  },
  {
   "cell_type": "code",
   "execution_count": 269,
   "metadata": {
    "collapsed": true
   },
   "outputs": [],
   "source": [
    "y = data[['type']].as_matrix()\n",
    "y = np.squeeze(y)"
   ]
  },
  {
   "cell_type": "code",
   "execution_count": 283,
   "metadata": {
    "collapsed": true
   },
   "outputs": [],
   "source": [
    "logit = linear_model.LogisticRegression()"
   ]
  },
  {
   "cell_type": "code",
   "execution_count": 271,
   "metadata": {
    "collapsed": true
   },
   "outputs": [],
   "source": [
    "scores = cross_val_score(logit, X, y, cv=5)"
   ]
  },
  {
   "cell_type": "code",
   "execution_count": 272,
   "metadata": {},
   "outputs": [
    {
     "data": {
      "text/plain": [
       "array([0, 1])"
      ]
     },
     "execution_count": 272,
     "metadata": {},
     "output_type": "execute_result"
    }
   ],
   "source": [
    "pd.Series.unique(data.type)"
   ]
  },
  {
   "cell_type": "code",
   "execution_count": 273,
   "metadata": {},
   "outputs": [
    {
     "data": {
      "text/plain": [
       "array([ 0.47368421,  0.40350877,  0.54385965,  0.53571429,  0.58928571])"
      ]
     },
     "execution_count": 273,
     "metadata": {},
     "output_type": "execute_result"
    }
   ],
   "source": [
    "scores"
   ]
  },
  {
   "cell_type": "code",
   "execution_count": 257,
   "metadata": {},
   "outputs": [
    {
     "data": {
      "text/plain": [
       "88"
      ]
     },
     "execution_count": 257,
     "metadata": {},
     "output_type": "execute_result"
    }
   ],
   "source": [
    "len(data[data[\"type\"] == 0])"
   ]
  },
  {
   "cell_type": "code",
   "execution_count": 258,
   "metadata": {},
   "outputs": [
    {
     "data": {
      "text/plain": [
       "195"
      ]
     },
     "execution_count": 258,
     "metadata": {},
     "output_type": "execute_result"
    }
   ],
   "source": [
    "len(data[data[\"type\"] == 1])"
   ]
  },
  {
   "cell_type": "code",
   "execution_count": 259,
   "metadata": {},
   "outputs": [
    {
     "data": {
      "text/plain": [
       "0.6890459363957597"
      ]
     },
     "execution_count": 259,
     "metadata": {},
     "output_type": "execute_result"
    }
   ],
   "source": [
    "195/float(88+195)"
   ]
  },
  {
   "cell_type": "code",
   "execution_count": 531,
   "metadata": {
    "collapsed": true
   },
   "outputs": [],
   "source": [
    "affected = data[(data[\"type\"] == 1) & (data[\"gender\"] == 1)].head(100)\n",
    "x_affected = affected[['age', 'protein_BL', 'protein_V4', 'protein_V6', 'protein_V8']]\n",
    "y_affected = affected[['type']]\n",
    "not_affected = data[(data[\"type\"] == 0) & (data[\"gender\"] == 1)]\n",
    "x_not_affected = not_affected[['age', 'protein_BL', 'protein_V4', 'protein_V6', \\\n",
    "                                         'protein_V8']]\n",
    "y_not_affected = not_affected[['type']]\n",
    "\n",
    "X = pd.concat([x_affected, x_not_affected]).as_matrix()\n",
    "y = np.squeeze(pd.concat([y_affected, y_not_affected]).as_matrix())"
   ]
  },
  {
   "cell_type": "code",
   "execution_count": 532,
   "metadata": {},
   "outputs": [
    {
     "data": {
      "text/plain": [
       "(157, 157)"
      ]
     },
     "execution_count": 532,
     "metadata": {},
     "output_type": "execute_result"
    }
   ],
   "source": [
    "len(X), len(y)"
   ]
  },
  {
   "cell_type": "code",
   "execution_count": 533,
   "metadata": {
    "collapsed": true
   },
   "outputs": [],
   "source": [
    "X_train, X_test, y_train, y_test = train_test_split(X, y, test_size=0.3, random_state=2)"
   ]
  },
  {
   "cell_type": "code",
   "execution_count": 562,
   "metadata": {},
   "outputs": [
    {
     "data": {
      "text/plain": [
       "LogisticRegression(C=0.01, class_weight={0: 1.25, 1: 1}, dual=False,\n",
       "          fit_intercept=True, intercept_scaling=1, max_iter=100,\n",
       "          multi_class='ovr', n_jobs=1, penalty='l2', random_state=None,\n",
       "          solver='liblinear', tol=0.0001, verbose=0, warm_start=False)"
      ]
     },
     "execution_count": 562,
     "metadata": {},
     "output_type": "execute_result"
    }
   ],
   "source": [
    "logit = linear_model.LogisticRegression(C=0.01, class_weight = {0 : 1.25, 1 : 1}, penalty='l2')\n",
    "logit.fit(X_train, y_train)"
   ]
  },
  {
   "cell_type": "code",
   "execution_count": 563,
   "metadata": {
    "collapsed": true
   },
   "outputs": [],
   "source": [
    "scores = logit.predict_proba(X_test)"
   ]
  },
  {
   "cell_type": "code",
   "execution_count": 564,
   "metadata": {},
   "outputs": [
    {
     "data": {
      "text/plain": [
       "0.625"
      ]
     },
     "execution_count": 564,
     "metadata": {},
     "output_type": "execute_result"
    }
   ],
   "source": [
    "y_predict = logit.predict(X_test)\n",
    "logit.score(X_test, y_test)"
   ]
  },
  {
   "cell_type": "code",
   "execution_count": 565,
   "metadata": {},
   "outputs": [
    {
     "data": {
      "text/plain": [
       "array([1, 1, 1, 1, 0, 0, 1, 1, 1, 0, 0, 1, 0, 0, 1, 0, 1, 1, 1, 1, 1, 1, 1,\n",
       "       1, 1, 1, 1, 1, 0, 1, 1, 0, 0, 1, 1, 0, 0, 1, 1, 1, 1, 0, 1, 1, 0, 0,\n",
       "       1, 0])"
      ]
     },
     "execution_count": 565,
     "metadata": {},
     "output_type": "execute_result"
    }
   ],
   "source": [
    "y_test"
   ]
  },
  {
   "cell_type": "code",
   "execution_count": 566,
   "metadata": {},
   "outputs": [
    {
     "data": {
      "text/plain": [
       "array([1, 1, 1, 1, 1, 1, 1, 1, 1, 0, 1, 0, 1, 1, 1, 1, 1, 0, 1, 1, 1, 1, 1,\n",
       "       0, 0, 1, 1, 1, 1, 1, 1, 1, 1, 1, 1, 1, 1, 1, 1, 1, 1, 0, 1, 1, 1, 1,\n",
       "       1, 1])"
      ]
     },
     "execution_count": 566,
     "metadata": {},
     "output_type": "execute_result"
    }
   ],
   "source": [
    "y_predict"
   ]
  },
  {
   "cell_type": "code",
   "execution_count": 567,
   "metadata": {},
   "outputs": [
    {
     "data": {
      "image/png": "[encoded data removed]",
      "text/plain": [
       "<matplotlib.figure.Figure at 0x108f96910>"
      ]
     },
     "metadata": {},
     "output_type": "display_data"
    }
   ],
   "source": [
    "roc_info = roc_curve(y_test, scores[:,1])\n",
    "auc_info = auc(roc_info[0], roc_info[1])\n",
    "useful.createROCGraph(roc_info[0], roc_info[1], auc_info)"
   ]
  },
  {
   "cell_type": "code",
   "execution_count": 568,
   "metadata": {},
   "outputs": [
    {
     "name": "stdout",
     "output_type": "stream",
     "text": [
      "Normalized confusion matrix\n",
      "[[ 0.12  0.88]\n",
      " [ 0.12  0.88]]\n"
     ]
    },
    {
     "data": {
      "image/png": "[encoded data removed]",
      "text/plain": [
       "<matplotlib.figure.Figure at 0x109053c90>"
      ]
     },
     "metadata": {},
     "output_type": "display_data"
    }
   ],
   "source": [
    "cm = confusion_matrix(y_test, logit.predict(X_test))\n",
    "useful.plot_confusion_matrix(cm, [\"0\", \"1\"])"
   ]
  },
  {
   "cell_type": "code",
   "execution_count": 569,
   "metadata": {
    "collapsed": true
   },
   "outputs": [],
   "source": [
    "from sklearn.metrics import log_loss"
   ]
  },
  {
   "cell_type": "code",
   "execution_count": 574,
   "metadata": {},
   "outputs": [
    {
     "data": {
      "text/plain": [
       "0.54980639450084701"
      ]
     },
     "execution_count": 574,
     "metadata": {},
     "output_type": "execute_result"
    }
   ],
   "source": [
    "log_loss([1,0,0,0,1,1], [0.333,0,0,0,0.333,0.333])"
   ]
  },
  {
   "cell_type": "code",
   "execution_count": null,
   "metadata": {
    "collapsed": true
   },
   "outputs": [],
   "source": []
  },
  {
   "cell_type": "code",
   "execution_count": null,
   "metadata": {
    "collapsed": true
   },
   "outputs": [],
   "source": []
  }
 ],
 "metadata": {
  "kernelspec": {
   "display_name": "Python 2",
   "language": "python",
   "name": "python2"
  },
  "language_info": {
   "codemirror_mode": {
    "name": "ipython",
    "version": 2
   },
   "file_extension": ".py",
   "mimetype": "text/x-python",
   "name": "python",
   "nbconvert_exporter": "python",
   "pygments_lexer": "ipython2",
   "version": "2.7.10"
  }
 },
 "nbformat": 4,
 "nbformat_minor": 2
}
