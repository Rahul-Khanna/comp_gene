{
 "cells": [
  {
   "cell_type": "code",
   "execution_count": 138,
   "metadata": {},
   "outputs": [
    {
     "name": "stdout",
     "output_type": "stream",
     "text": [
      "The autoreload extension is already loaded. To reload it, use:\n",
      "  %reload_ext autoreload\n"
     ]
    }
   ],
   "source": [
    "%load_ext autoreload\n",
    "%autoreload 2\n",
    "import pandas as pd\n",
    "import numpy as np\n",
    "from statsmodels.formula.api import ols\n",
    "from collections import defaultdict\n",
    "from sklearn.utils import resample\n",
    "from sklearn import linear_model\n",
    "from sklearn import tree\n",
    "from sklearn.ensemble import RandomForestClassifier\n",
    "from sklearn.ensemble import AdaBoostClassifier\n",
    "from sklearn import svm\n",
    "from sklearn.model_selection import train_test_split\n",
    "from sklearn.metrics import confusion_matrix\n",
    "from sklearn.metrics import roc_curve\n",
    "from sklearn.metrics import auc\n",
    "from sklearn.model_selection import cross_val_score\n",
    "import usefulFunctions as useful\n",
    "import eval_functions as metrics"
   ]
  },
  {
   "cell_type": "code",
   "execution_count": 139,
   "metadata": {
    "collapsed": true
   },
   "outputs": [],
   "source": [
    "fileName = \"Master_PL.xlsx - Master_PL.csv\"\n",
    "normalized_table = pd.read_csv(fileName, header=0, \n",
    "                    names=[\"id\", \"type\", \"gender\", \"age\", \"monthsFromScreening\", \"protein_BL\", \"protein_V4\",\n",
    "                          \"protein_V6\", \"protein_V8\", \"protein_V10\", \"protein_V12\"])"
   ]
  },
  {
   "cell_type": "code",
   "execution_count": 140,
   "metadata": {
    "collapsed": true
   },
   "outputs": [],
   "source": [
    "def make_binary(x):\n",
    "    return x-1\n",
    "\n",
    "def make_boolean(x):\n",
    "    if x:\n",
    "        return bool(x)\n",
    "    else:\n",
    "        return bool(x)\n",
    "def standardize(x, mean, std):\n",
    "    return (x - mean)/std\n",
    "\n",
    "def support(column):\n",
    "    counts = defaultdict(int)\n",
    "    \n",
    "    for value in column:\n",
    "        counts[value]+=1\n",
    "    \n",
    "    for key in counts:\n",
    "        counts[key] = counts[key]/float(len(column))\n",
    "    \n",
    "    return counts"
   ]
  },
  {
   "cell_type": "code",
   "execution_count": 141,
   "metadata": {
    "collapsed": true
   },
   "outputs": [],
   "source": [
    "normalized_table.type = normalized_table.type.apply(make_binary)\n",
    "normalized_table.gender = normalized_table.gender.apply(make_binary)"
   ]
  },
  {
   "cell_type": "code",
   "execution_count": 142,
   "metadata": {
    "collapsed": true
   },
   "outputs": [],
   "source": [
    "age_mean = np.mean(normalized_table.age)\n",
    "age_std = np.std(normalized_table.age)\n",
    "\n",
    "monthsFromScreening_mean = np.mean(normalized_table.monthsFromScreening)\n",
    "monthsFromScreening_std = np.std(normalized_table.monthsFromScreening)"
   ]
  },
  {
   "cell_type": "code",
   "execution_count": 143,
   "metadata": {
    "collapsed": true
   },
   "outputs": [],
   "source": [
    "normalized_table.age = normalized_table.age.apply(lambda x: standardize(x, age_mean, age_std))\n",
    "normalized_table.monthsFromScreening = normalized_table.monthsFromScreening.apply(lambda x: standardize(x, \n",
    "                                                                                             monthsFromScreening_mean,\\\n",
    "                                                                                             monthsFromScreening_std))"
   ]
  },
  {
   "cell_type": "code",
   "execution_count": 144,
   "metadata": {},
   "outputs": [
    {
     "data": {
      "text/plain": [
       "1    190\n",
       "0     84\n",
       "Name: type, dtype: int64"
      ]
     },
     "execution_count": 144,
     "metadata": {},
     "output_type": "execute_result"
    }
   ],
   "source": [
    "normalized_table = normalized_table[(normalized_table.protein_BL > 5) & (normalized_table.protein_V4 > 5) & (normalized_table.protein_V6 > 5) & \n",
    "             (normalized_table.protein_V8 > 5)]\n",
    "\n",
    "len(normalized_table)\n",
    "normalized_table.type.value_counts()"
   ]
  },
  {
   "cell_type": "code",
   "execution_count": 145,
   "metadata": {
    "collapsed": true
   },
   "outputs": [],
   "source": [
    "female_norm_table = normalized_table[normalized_table.gender == 0]\n",
    "male_norm_table = normalized_table[normalized_table.gender == 1]"
   ]
  },
  {
   "cell_type": "code",
   "execution_count": null,
   "metadata": {
    "collapsed": true
   },
   "outputs": [],
   "source": []
  },
  {
   "cell_type": "code",
   "execution_count": 146,
   "metadata": {},
   "outputs": [],
   "source": [
    "bl_mean = np.mean(female_norm_table.protein_BL)\n",
    "bl_std = np.std(female_norm_table.protein_BL)\n",
    "\n",
    "v4_mean = np.mean(female_norm_table.protein_V4)\n",
    "v4_std = np.std(female_norm_table.protein_V4)\n",
    "\n",
    "v6_mean = np.mean(female_norm_table.protein_V6)\n",
    "v6_std = np.std(female_norm_table.protein_V6)\n",
    "\n",
    "v8_mean = np.mean(female_norm_table.protein_V8)\n",
    "v8_std = np.std(female_norm_table.protein_V8)\n",
    "\n",
    "v10_mean = np.mean(female_norm_table.protein_V10)\n",
    "v10_std = np.std(female_norm_table.protein_V10)\n",
    "\n",
    "v12_mean = np.mean(female_norm_table.protein_V12)\n",
    "v12_std = np.std(female_norm_table.protein_V12)\n",
    "\n",
    "female_norm_table.protein_BL = female_norm_table.protein_BL.apply(lambda x : standardize(x, bl_mean, bl_std))\n",
    "female_norm_table.protein_V4 = female_norm_table.protein_V4.apply(lambda x : standardize(x, v4_mean, v4_std))\n",
    "female_norm_table.protein_V6 = female_norm_table.protein_V6.apply(lambda x : standardize(x, v6_mean, v6_std))\n",
    "female_norm_table.protein_V8 = female_norm_table.protein_V8.apply(lambda x : standardize(x, v8_mean, v8_std))\n",
    "female_norm_table.protein_V10 = female_norm_table.protein_V10.apply(lambda x : standardize(x, v10_mean, v10_std))\n",
    "female_norm_table.protein_V12 = female_norm_table.protein_V12.apply(lambda x : standardize(x, v12_mean, v12_std))"
   ]
  },
  {
   "cell_type": "code",
   "execution_count": 147,
   "metadata": {},
   "outputs": [],
   "source": [
    "bl_mean = np.mean(male_norm_table.protein_BL)\n",
    "bl_std = np.std(male_norm_table.protein_BL)\n",
    "\n",
    "v4_mean = np.mean(male_norm_table.protein_V4)\n",
    "v4_std = np.std(male_norm_table.protein_V4)\n",
    "\n",
    "v6_mean = np.mean(male_norm_table.protein_V6)\n",
    "v6_std = np.std(male_norm_table.protein_V6)\n",
    "\n",
    "v8_mean = np.mean(male_norm_table.protein_V8)\n",
    "v8_std = np.std(male_norm_table.protein_V8)\n",
    "\n",
    "v10_mean = np.mean(male_norm_table.protein_V10)\n",
    "v10_std = np.std(male_norm_table.protein_V10)\n",
    "\n",
    "v12_mean = np.mean(male_norm_table.protein_V12)\n",
    "v12_std = np.std(male_norm_table.protein_V12)\n",
    "\n",
    "male_norm_table.protein_BL = male_norm_table.protein_BL.apply(lambda x : standardize(x, bl_mean, bl_std))\n",
    "male_norm_table.protein_V4 = male_norm_table.protein_V4.apply(lambda x : standardize(x, v4_mean, v4_std))\n",
    "male_norm_table.protein_V6 = male_norm_table.protein_V6.apply(lambda x : standardize(x, v6_mean, v6_std))\n",
    "male_norm_table.protein_V8 = male_norm_table.protein_V8.apply(lambda x : standardize(x, v8_mean, v8_std))\n",
    "male_norm_table.protein_V10 = male_norm_table.protein_V10.apply(lambda x : standardize(x, v10_mean, v10_std))\n",
    "male_norm_table.protein_V12 = male_norm_table.protein_V12.apply(lambda x : standardize(x, v12_mean, v12_std))"
   ]
  },
  {
   "cell_type": "code",
   "execution_count": 148,
   "metadata": {},
   "outputs": [
    {
     "name": "stdout",
     "output_type": "stream",
     "text": [
      "1    127\n",
      "0     54\n",
      "Name: type, dtype: int64\n",
      "1    127\n",
      "0     54\n",
      "Name: type, dtype: int64\n",
      "1    127\n",
      "0     54\n",
      "Name: type, dtype: int64\n",
      "1    127\n",
      "0     54\n",
      "Name: type, dtype: int64\n",
      "1    127\n",
      "0     54\n",
      "Name: type, dtype: int64\n",
      "1    127\n",
      "0     54\n",
      "Name: type, dtype: int64\n"
     ]
    }
   ],
   "source": [
    "print(male_norm_table[[\"protein_BL\", \"type\"]].type.value_counts())\n",
    "print(male_norm_table[[\"protein_V4\", \"type\"]].type.value_counts())\n",
    "print(male_norm_table[[\"protein_V6\", \"type\"]].type.value_counts())\n",
    "print(male_norm_table[[\"protein_V8\", \"type\"]].type.value_counts())\n",
    "print(male_norm_table[[\"protein_V10\", \"type\"]].type.value_counts())\n",
    "print(male_norm_table[[\"protein_V12\", \"type\"]].type.value_counts())"
   ]
  },
  {
   "cell_type": "code",
   "execution_count": 149,
   "metadata": {},
   "outputs": [
    {
     "name": "stdout",
     "output_type": "stream",
     "text": [
      "1    63\n",
      "0    30\n",
      "Name: type, dtype: int64\n",
      "1    63\n",
      "0    30\n",
      "Name: type, dtype: int64\n",
      "1    63\n",
      "0    30\n",
      "Name: type, dtype: int64\n",
      "1    63\n",
      "0    30\n",
      "Name: type, dtype: int64\n",
      "1    63\n",
      "0    30\n",
      "Name: type, dtype: int64\n",
      "1    63\n",
      "0    30\n",
      "Name: type, dtype: int64\n"
     ]
    }
   ],
   "source": [
    "print(female_norm_table[[\"protein_BL\", \"type\"]].type.value_counts())\n",
    "print(female_norm_table[[\"protein_V4\", \"type\"]].type.value_counts())\n",
    "print(female_norm_table[[\"protein_V6\", \"type\"]].type.value_counts())\n",
    "print(female_norm_table[[\"protein_V8\", \"type\"]].type.value_counts())\n",
    "print(female_norm_table[[\"protein_V10\", \"type\"]].type.value_counts())\n",
    "print(female_norm_table[[\"protein_V12\", \"type\"]].type.value_counts())"
   ]
  },
  {
   "cell_type": "code",
   "execution_count": 214,
   "metadata": {},
   "outputs": [
    {
     "name": "stdout",
     "output_type": "stream",
     "text": [
      "127\n",
      "54\n"
     ]
    },
    {
     "data": {
      "text/plain": [
       "1    127\n",
       "0    127\n",
       "Name: type, dtype: int64"
      ]
     },
     "execution_count": 214,
     "metadata": {},
     "output_type": "execute_result"
    }
   ],
   "source": [
    "df_majority = male_norm_table[male_norm_table.type==1]\n",
    "print len(df_majority)\n",
    "df_minority = male_norm_table[male_norm_table.type==0]\n",
    "print len(df_minority)\n",
    "df_minority_upsampled = resample(df_minority, \n",
    "                                 replace=True,\n",
    "                                 n_samples=len(df_majority),\n",
    "                                 random_state=123)\n",
    "df_upsampled = pd.concat([df_majority, df_minority_upsampled])\n",
    "df_upsampled.type.value_counts()\n",
    "\n",
    "# df_majority = female_norm_table[female_norm_table.type==1]\n",
    "# print len(df_majority)\n",
    "# df_minority = female_norm_table[female_norm_table.type==0]\n",
    "# print len(df_minority)\n",
    "# df_minority_upsampled = resample(df_minority, \n",
    "#                                  replace=True,\n",
    "#                                  n_samples=len(df_majority),\n",
    "#                                  random_state=123)\n",
    "# df_upsampled = pd.concat([df_majority, df_minority_upsampled])\n",
    "# df_upsampled.type.value_counts()"
   ]
  },
  {
   "cell_type": "code",
   "execution_count": null,
   "metadata": {},
   "outputs": [],
   "source": []
  },
  {
   "cell_type": "code",
   "execution_count": 201,
   "metadata": {
    "collapsed": true
   },
   "outputs": [],
   "source": [
    "X = df_upsampled[['age', 'protein_BL', 'protein_V4', 'protein_V6', 'protein_V8']].as_matrix()\n",
    "y = df_upsampled[['type']].as_matrix()\n",
    "y = np.squeeze(y)\n",
    "X_train, X_test, y_train, y_test = train_test_split(X, y, test_size=0.333, random_state=3)"
   ]
  },
  {
   "cell_type": "code",
   "execution_count": 202,
   "metadata": {
    "collapsed": true
   },
   "outputs": [],
   "source": [
    "forest = RandomForestClassifier(n_estimators=30, random_state=1, min_samples_leaf=1)\n",
    "tree_clf = tree.DecisionTreeClassifier(random_state=1, min_samples_leaf=1)"
   ]
  },
  {
   "cell_type": "code",
   "execution_count": 203,
   "metadata": {
    "collapsed": true
   },
   "outputs": [],
   "source": [
    "forest.fit(X_train, y_train)\n",
    "clf = forest"
   ]
  },
  {
   "cell_type": "code",
   "execution_count": 204,
   "metadata": {},
   "outputs": [
    {
     "data": {
      "image/png": "[encoded data removed]",
      "text/plain": [
       "<matplotlib.figure.Figure at 0x111f4b090>"
      ]
     },
     "metadata": {},
     "output_type": "display_data"
    }
   ],
   "source": [
    "roc_info = roc_curve(y_test, clf.predict_proba(X_test)[:,1])\n",
    "auc_info = auc(roc_info[0], roc_info[1])\n",
    "useful.createROCGraph(roc_info[0], roc_info[1], auc_info)"
   ]
  },
  {
   "cell_type": "code",
   "execution_count": 205,
   "metadata": {},
   "outputs": [
    {
     "name": "stdout",
     "output_type": "stream",
     "text": [
      "Normalized confusion matrix\n",
      "[[ 0.9   0.1 ]\n",
      " [ 0.48  0.52]]\n"
     ]
    },
    {
     "data": {
      "image/png": "[encoded data removed]",
      "text/plain": [
       "<matplotlib.figure.Figure at 0x11240c790>"
      ]
     },
     "metadata": {},
     "output_type": "display_data"
    }
   ],
   "source": [
    "cm = confusion_matrix(y_test, clf.predict(X_test))\n",
    "useful.plot_confusion_matrix(cm, [\"0\", \"1\"])"
   ]
  },
  {
   "cell_type": "code",
   "execution_count": 206,
   "metadata": {},
   "outputs": [
    {
     "data": {
      "text/plain": [
       "(array([1, 1, 0, 1, 1, 0, 1, 1, 1, 0, 1, 0, 1, 1, 1, 1, 1, 0, 0, 0, 1, 1, 1,\n",
       "        0, 1, 1, 0, 0, 1, 1, 1, 0, 0, 1, 1, 0, 1, 0, 1, 1, 0, 0, 0, 1, 1, 0,\n",
       "        0, 0, 1, 1, 0, 1, 0, 0, 0, 0, 1, 0, 1, 1, 0, 1, 1, 1, 0, 0, 1, 1, 0,\n",
       "        1, 0, 0, 0, 1, 0, 1, 1, 1, 0, 1, 0, 0, 1, 0, 0]),\n",
       " array([1, 1, 0, 0, 1, 0, 0, 0, 1, 0, 0, 0, 0, 1, 1, 0, 1, 0, 0, 0, 1, 1, 0,\n",
       "        0, 0, 1, 0, 0, 0, 1, 0, 0, 0, 0, 1, 0, 1, 0, 1, 1, 0, 0, 0, 1, 0, 0,\n",
       "        0, 1, 0, 1, 0, 0, 0, 0, 0, 1, 1, 0, 0, 0, 0, 1, 0, 1, 0, 0, 0, 0, 0,\n",
       "        0, 0, 0, 1, 1, 0, 0, 1, 0, 0, 1, 0, 0, 1, 1, 0]))"
      ]
     },
     "execution_count": 206,
     "metadata": {},
     "output_type": "execute_result"
    }
   ],
   "source": [
    "y_test, clf.predict(X_test)"
   ]
  },
  {
   "cell_type": "code",
   "execution_count": 207,
   "metadata": {},
   "outputs": [
    {
     "name": "stdout",
     "output_type": "stream",
     "text": [
      "Cross Fold Mean: 0.764, Cross Fold Stdev: 0.066\n"
     ]
    }
   ],
   "source": [
    "scores = cross_val_score(clf, X, y, cv=10)\n",
    "print(\"Cross Fold Mean: %.3f, Cross Fold Stdev: %.3f\" % (np.mean(scores), np.std(scores)))"
   ]
  },
  {
   "cell_type": "code",
   "execution_count": 208,
   "metadata": {},
   "outputs": [
    {
     "name": "stdout",
     "output_type": "stream",
     "text": [
      "accuracy: 0.694\n",
      "\n",
      "precision: \n",
      "\tall: ['0.614', '0.857']\n",
      "\tmicro: 0.694\n",
      "\tmacro: 0.736\n",
      "\tweighted: 0.746\n",
      "\t\n",
      "recall: \n",
      "\tall: ['0.897', '0.522']\n",
      "\tmicro: 0.694\n",
      "\tmacro: 0.710\n",
      "\tweighted: 0.694\n",
      "\t\n",
      "f1_measure: \n",
      "\tall: ['0.729', '0.649']\n",
      "\tmicro: 0.694\n",
      "\tmacro: 0.689\n",
      "\tweighted: 0.686\n",
      "\t\n",
      "support: \n",
      "\ty_true_dist: ['0.459', '0.541']\n",
      "\ty_true_count: 85.000\n",
      "\ty_predicted_dist: ['0.671', '0.329']\n",
      "\ty_predicted_count: 85.000\n",
      "\t\n",
      "\n"
     ]
    }
   ],
   "source": [
    "metrics_dict = metrics.get_all_metrics(y_test, clf.predict(X_test))\n",
    "print(metrics.pretty_print_metrics(metrics_dict))"
   ]
  },
  {
   "cell_type": "code",
   "execution_count": 209,
   "metadata": {},
   "outputs": [
    {
     "data": {
      "text/plain": [
       "array([ 0.18,  0.2 ,  0.21,  0.18,  0.23])"
      ]
     },
     "execution_count": 209,
     "metadata": {},
     "output_type": "execute_result"
    }
   ],
   "source": [
    "clf.feature_importances_"
   ]
  },
  {
   "cell_type": "code",
   "execution_count": 210,
   "metadata": {
    "collapsed": true
   },
   "outputs": [],
   "source": [
    "X = df_upsampled[['age', 'protein_BL', 'protein_V4', 'protein_V6', 'protein_V8']].as_matrix()\n",
    "y = df_upsampled[['type']].as_matrix()\n",
    "y = np.squeeze(y)\n",
    "forest = RandomForestClassifier(n_estimators=30, random_state=1, min_samples_leaf=1)"
   ]
  },
  {
   "cell_type": "code",
   "execution_count": 211,
   "metadata": {},
   "outputs": [],
   "source": [
    "def average_stats(clf, X, y):\n",
    "    stats = {\"mean_accuracy\" : 0.0,\n",
    "             \"median_accuracy\" : 0.0,\n",
    "             \"mean_precision\" : 0.0,\n",
    "             \"median_precision\" : 0.0,\n",
    "             \"mean_recall\" : 0.0,\n",
    "             \"median_recall\" : 0.0,\n",
    "             \"mean_f1_measure\" : 0.0,\n",
    "             \"median_f1_measure\" : 0.0}\n",
    "    accuracy = []\n",
    "    precision = []\n",
    "    recall = []\n",
    "    f1_measure = []\n",
    "    for i in range(10):\n",
    "        X_train, X_test, y_train, y_test = train_test_split(X, y, test_size=0.333, random_state=i**2)\n",
    "        clf.fit(X_train, y_train)\n",
    "        metrics_dict = metrics.get_all_metrics(y_test, clf.predict(X_test))\n",
    "        accuracy.append(metrics_dict[\"accuracy\"])\n",
    "        precision.append(metrics_dict[\"precision\"][\"macro\"])\n",
    "        recall.append(metrics_dict[\"recall\"][\"macro\"])\n",
    "        f1_measure.append(metrics_dict[\"f1_measure\"][\"macro\"])\n",
    "        \n",
    "    stats[\"mean_accuracy\"] = np.mean(accuracy)\n",
    "    stats[\"median_accuracy\"] = np.median(accuracy)\n",
    "    \n",
    "    stats[\"mean_precision\"] = np.mean(precision)\n",
    "    stats[\"median_precision\"] = np.median(precision)\n",
    "    \n",
    "    stats[\"mean_recall\"] = np.mean(recall)\n",
    "    stats[\"median_recall\"] = np.median(recall)\n",
    "    \n",
    "    stats[\"mean_f1_measure\"] = np.mean(f1_measure)\n",
    "    stats[\"median_f1_measure\"] = np.median(f1_measure)\n",
    "    \n",
    "    return stats\n",
    "    "
   ]
  },
  {
   "cell_type": "code",
   "execution_count": 212,
   "metadata": {},
   "outputs": [
    {
     "name": "stdout",
     "output_type": "stream",
     "text": [
      "mean_accuracy: 0.761\n",
      "mean_f1_measure: 0.759\n",
      "mean_precision: 0.776\n",
      "mean_recall: 0.765\n",
      "median_accuracy: 0.759\n",
      "median_f1_measure: 0.757\n",
      "median_precision: 0.764\n",
      "median_recall: 0.759\n"
     ]
    }
   ],
   "source": [
    "stats = average_stats(forest, X, y)\n",
    "keys = stats.keys()\n",
    "keys.sort()\n",
    "for key in keys:\n",
    "    print str(key) + \": %.3f\" %stats[key]"
   ]
  },
  {
   "cell_type": "code",
   "execution_count": null,
   "metadata": {
    "collapsed": true
   },
   "outputs": [],
   "source": []
  }
 ],
 "metadata": {
  "kernelspec": {
   "display_name": "Python 2",
   "language": "python",
   "name": "python2"
  },
  "language_info": {
   "codemirror_mode": {
    "name": "ipython",
    "version": 2
   },
   "file_extension": ".py",
   "mimetype": "text/x-python",
   "name": "python",
   "nbconvert_exporter": "python",
   "pygments_lexer": "ipython2",
   "version": "2.7.10"
  }
 },
 "nbformat": 4,
 "nbformat_minor": 2
}
