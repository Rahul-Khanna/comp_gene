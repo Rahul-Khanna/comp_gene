{
 "cells": [
  {
   "cell_type": "markdown",
   "metadata": {},
   "source": [
    "Some notes on looking at the data:\n",
    "1. Most entries aren't fully filled out\n",
    "2. There is more Male data than Female data\n",
    "3. More of the Female data isn't filled out than Male data\n",
    "4. There is a definite difference in protein levels when looking at Males vs Females\n",
    "5. It is more difficult to discern a difference between Sick vs Control\n",
    "6. However after splitting the Male (and Female) dataset into Sick vs Control, there are some    differences when looking at proteins... in particular V12\n",
    "7. These differences are more prominent in the Female dataset than the Male one... this may be    because of the smaller data set\n",
    "8. There definitley seems to be some signal in classifying patients as sick vs control after\n",
    "   splitting by gender... as evidenced by classifier preformances\n",
    "9. There are definitely fat finger errors present in the data, I somewhat corrected for this      by filtering out all values below 1.\n",
    "10. Please look at the usefulFunctions module I built out, there might be some interesting things in there to play around with... in particular the showBoxPlots, createBoxPlot, cleanAndFill, createBinaryDataSet \n",
    "\n",
    "Things I still need to look at:\n",
    "1. Creating bands in terms of age\n",
    "2. Creating bands in terms of days from diagnosis\n",
    "3. Doing more corellation analysis\n",
    "4. Trying out sampling techniques to create richer datasets"
   ]
  },
  {
   "cell_type": "code",
   "execution_count": 4,
   "metadata": {},
   "outputs": [
    {
     "name": "stdout",
     "output_type": "stream",
     "text": [
      "The autoreload extension is already loaded. To reload it, use:\n",
      "  %reload_ext autoreload\n"
     ]
    }
   ],
   "source": [
    "%load_ext autoreload\n",
    "%autoreload 2\n",
    "import pandas as pd\n",
    "import matplotlib.pyplot as plt\n",
    "import scipy\n",
    "from sklearn.model_selection import cross_val_score\n",
    "from sklearn.ensemble import RandomForestClassifier\n",
    "from sklearn.ensemble import AdaBoostClassifier\n",
    "from sklearn.model_selection import train_test_split\n",
    "from numpy.random import normal\n",
    "import math\n",
    "import usefulFunctions\n",
    "from IPython.core.debugger import Tracer"
   ]
  },
  {
   "cell_type": "code",
   "execution_count": 5,
   "metadata": {},
   "outputs": [
    {
     "name": "stdout",
     "output_type": "stream",
     "text": [
      "Number of data points that are males : 403\n",
      "Number of data points that are females : 216\n",
      "Number of data points that are control : 196\n",
      "Number of data points that are sick : 423\n"
     ]
    }
   ],
   "source": [
    "# reading in the data\n",
    "# think key - value storage\n",
    "# key - patientId\n",
    "# value - whole row (including patientID)\n",
    "control = {}\n",
    "sick = {}\n",
    "male = {}\n",
    "female = {}\n",
    "age = []\n",
    "months = []\n",
    "\n",
    "table = pd.read_csv(\"Master_PL.xlsx - Master_PL.csv\",header=0, \n",
    "                    names=[\"id\", \"type\", \"gender\", \"age\", \"monthsFromScreening\", \"protein_BL\", \"protein_V4\",\n",
    "                          \"protein_V6\", \"protein_V8\", \"protein_V10\", \"protein_V12\"])\n",
    "\n",
    "totalRows = len(table.values)\n",
    "\n",
    "# splitting data into female vs male, control vs sick, plus storing the age and months data\n",
    "# into arrays so we can look at their distributions later (to understand good age bands)\n",
    "for row in table.to_dict(orient='records'):\n",
    "    if row['type'] is not None:\n",
    "        if row['type'] == 1:\n",
    "            control[int(row['id'])] = row\n",
    "        else:\n",
    "            sick[int(row['id'])] = row\n",
    "    \n",
    "    if row['gender'] is not None:\n",
    "        if row['gender'] == 1:\n",
    "            female[int(row['id'])] = row\n",
    "        else:\n",
    "            male[int(row['id'])] = row\n",
    "\n",
    "    \n",
    "    if row['age'] is not None:\n",
    "        age.append(row['age'])\n",
    "    \n",
    "    if row['monthsFromScreening'] is not None:\n",
    "        months.append(row['monthsFromScreening'])\n",
    "\n",
    "print \"Number of data points that are males : \" + str(len(male))\n",
    "print \"Number of data points that are females : \" + str(len(female))\n",
    "print \"Number of data points that are control : \" + str(len(control))\n",
    "print \"Number of data points that are sick : \" + str(len(sick))"
   ]
  },
  {
   "cell_type": "code",
   "execution_count": 6,
   "metadata": {},
   "outputs": [
    {
     "data": {
      "image/png": "[encoded data removed]",
      "text/plain": [
       "<matplotlib.figure.Figure at 0x10a05d150>"
      ]
     },
     "metadata": {},
     "output_type": "display_data"
    }
   ],
   "source": [
    "usefulFunctions.showBoxPlots(control, sick, \"(Type 1 = Control) Vs. (Type 2 = Sick)\")"
   ]
  },
  {
   "cell_type": "code",
   "execution_count": 7,
   "metadata": {},
   "outputs": [
    {
     "data": {
      "image/png": "[encoded data removed]",
      "text/plain": [
       "<matplotlib.figure.Figure at 0x10eb340d0>"
      ]
     },
     "metadata": {},
     "output_type": "display_data"
    }
   ],
   "source": [
    "usefulFunctions.showBoxPlots(male, female, \"(Type 1 = Male) vs (Type 2 = Female)\")"
   ]
  },
  {
   "cell_type": "code",
   "execution_count": 8,
   "metadata": {},
   "outputs": [
    {
     "name": "stdout",
     "output_type": "stream",
     "text": [
      "Number of Males that are in the Control : 126\n",
      "Number of Males that are Sick : 277\n",
      "Number of Females that are in the Control : 70\n",
      "Number of Females that are Sick : 146\n"
     ]
    }
   ],
   "source": [
    "tup = usefulFunctions.combine(male, female, control, sick)\n",
    "maleSplit = tup[0]\n",
    "femaleSplit = tup[1]\n",
    "print \"Number of Males that are in the Control : \" + str(len(maleSplit[1]))\n",
    "print \"Number of Males that are Sick : \" + str(len(maleSplit[2]))\n",
    "print \"Number of Females that are in the Control : \" + str(len(femaleSplit[1]))\n",
    "print \"Number of Females that are Sick : \" + str(len(femaleSplit[2]))"
   ]
  },
  {
   "cell_type": "code",
   "execution_count": 9,
   "metadata": {},
   "outputs": [
    {
     "data": {
      "image/png": "[encoded data removed]",
      "text/plain": [
       "<matplotlib.figure.Figure at 0x10ef360d0>"
      ]
     },
     "metadata": {},
     "output_type": "display_data"
    }
   ],
   "source": [
    "usefulFunctions.showBoxPlots(maleSplit[1], maleSplit[2], \"(Type 1 = Control) vs (Type 2 = Sick) for males\")"
   ]
  },
  {
   "cell_type": "code",
   "execution_count": 10,
   "metadata": {},
   "outputs": [
    {
     "data": {
      "image/png": "[encoded data removed]",
      "text/plain": [
       "<matplotlib.figure.Figure at 0x10eb41a10>"
      ]
     },
     "metadata": {},
     "output_type": "display_data"
    }
   ],
   "source": [
    "usefulFunctions.showBoxPlots(femaleSplit[1], femaleSplit[2], \"(Type 1 = Control) vs (Type 2 = Sick) for females\")"
   ]
  },
  {
   "cell_type": "code",
   "execution_count": 24,
   "metadata": {},
   "outputs": [
    {
     "name": "stdout",
     "output_type": "stream",
     "text": [
      "[0.84482758620689657, 0.84482758620689657, 0.7068965517241379, 0.84482758620689657, 0.81034482758620685, 0.82758620689655171, 0.82758620689655171, 0.91379310344827591, 0.81034482758620685, 0.84482758620689657]\n",
      "Mean: 0.827586206897\n"
     ]
    }
   ],
   "source": [
    "clf = RandomForestClassifier(n_estimators=30, random_state=1)\n",
    "scores=[]\n",
    "for i in range(10):\n",
    "    data = usefulFunctions.createBinaryDataSet(maleSplit[1], maleSplit[2], fill=True, k=2)\n",
    "    X_train, X_test, y_train, y_test = train_test_split(data[0], data[1], test_size=0.3, random_state=i)\n",
    "    clf.fit(X_train, y_train)\n",
    "    scores.append(clf.score(X_test, y_test))\n",
    "\n",
    "print scores\n",
    "print \"Mean: \" + str(usefulFunctions.computeMean(scores))"
   ]
  },
  {
   "cell_type": "code",
   "execution_count": 25,
   "metadata": {},
   "outputs": [
    {
     "name": "stdout",
     "output_type": "stream",
     "text": [
      "[0.82758620689655171, 0.7068965517241379, 0.7068965517241379, 0.86206896551724133, 0.7068965517241379, 0.75862068965517238, 0.84482758620689657, 0.86206896551724133, 0.7931034482758621, 0.84482758620689657]\n",
      "Mean: 0.791379310345\n"
     ]
    }
   ],
   "source": [
    "clf = AdaBoostClassifier(n_estimators=100)\n",
    "scores=[]\n",
    "for i in range(10):\n",
    "    data = usefulFunctions.createBinaryDataSet(maleSplit[1], maleSplit[2], fill=True, k=2)\n",
    "    X_train, X_test, y_train, y_test = train_test_split(data[0], data[1], test_size=0.3, random_state=i)\n",
    "    clf.fit(X_train, y_train)\n",
    "    scores.append(clf.score(X_test, y_test))\n",
    "\n",
    "print scores\n",
    "print \"Mean: \" + str(usefulFunctions.computeMean(scores))"
   ]
  },
  {
   "cell_type": "code",
   "execution_count": 20,
   "metadata": {},
   "outputs": [
    {
     "name": "stdout",
     "output_type": "stream",
     "text": [
      "[0.5714285714285714, 0.5714285714285714, 0.8571428571428571, 0.5, 0.5714285714285714, 0.7142857142857143, 0.5, 0.7857142857142857, 0.5714285714285714, 0.5714285714285714]\n",
      "Mean: 0.621428571429\n"
     ]
    }
   ],
   "source": [
    "clf = RandomForestClassifier(n_estimators=30, random_state=1)\n",
    "scores=[]\n",
    "for i in range(10):\n",
    "    data = usefulFunctions.createBinaryDataSet(femaleSplit[1], femaleSplit[2], fill=True, k=2)\n",
    "    X_train, X_test, y_train, y_test = train_test_split(data[0], data[1], test_size=0.3, random_state=i)\n",
    "    clf.fit(X_train, y_train)\n",
    "    scores.append(clf.score(X_test, y_test))\n",
    "\n",
    "print scores\n",
    "print \"Mean: \" + str(usefulFunctions.computeMean(scores))"
   ]
  },
  {
   "cell_type": "code",
   "execution_count": 22,
   "metadata": {},
   "outputs": [
    {
     "name": "stdout",
     "output_type": "stream",
     "text": [
      "[0.42857142857142855, 0.7142857142857143, 0.7142857142857143, 0.5714285714285714, 0.6428571428571429, 0.5714285714285714, 0.5714285714285714, 0.7857142857142857, 0.6428571428571429, 0.6428571428571429]\n",
      "Mean: 0.628571428571\n"
     ]
    }
   ],
   "source": [
    "clf = AdaBoostClassifier(n_estimators=100)\n",
    "scores=[]\n",
    "for i in range(10):\n",
    "    data = usefulFunctions.createBinaryDataSet(femaleSplit[1], femaleSplit[2], fill=True, k=2)\n",
    "    X_train, X_test, y_train, y_test = train_test_split(data[0], data[1], test_size=0.3, random_state=i)\n",
    "    clf.fit(X_train, y_train)\n",
    "    scores.append(clf.score(X_test, y_test))\n",
    "\n",
    "print scores\n",
    "print \"Mean: \" + str(usefulFunctions.computeMean(scores))"
   ]
  },
  {
   "cell_type": "code",
   "execution_count": null,
   "metadata": {
    "collapsed": true
   },
   "outputs": [],
   "source": []
  },
  {
   "cell_type": "code",
   "execution_count": null,
   "metadata": {
    "collapsed": true
   },
   "outputs": [],
   "source": []
  },
  {
   "cell_type": "code",
   "execution_count": null,
   "metadata": {
    "collapsed": true
   },
   "outputs": [],
   "source": []
  }
 ],
 "metadata": {
  "kernelspec": {
   "display_name": "Python 2",
   "language": "python",
   "name": "python2"
  },
  "language_info": {
   "codemirror_mode": {
    "name": "ipython",
    "version": 2
   },
   "file_extension": ".py",
   "mimetype": "text/x-python",
   "name": "python",
   "nbconvert_exporter": "python",
   "pygments_lexer": "ipython2",
   "version": "2.7.10"
  }
 },
 "nbformat": 4,
 "nbformat_minor": 2
}
