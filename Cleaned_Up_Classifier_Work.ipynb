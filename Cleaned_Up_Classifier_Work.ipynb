{
 "cells": [
  {
   "cell_type": "code",
   "execution_count": 757,
   "metadata": {},
   "outputs": [
    {
     "name": "stdout",
     "output_type": "stream",
     "text": [
      "The autoreload extension is already loaded. To reload it, use:\n",
      "  %reload_ext autoreload\n"
     ]
    }
   ],
   "source": [
    "%load_ext autoreload\n",
    "%autoreload 2\n",
    "import pandas as pd\n",
    "import numpy as np\n",
    "from collections import defaultdict\n",
    "from sklearn.utils import resample\n",
    "from sklearn.ensemble import RandomForestClassifier\n",
    "from sklearn.model_selection import train_test_split\n",
    "import usefulFunctions as useful\n",
    "import eval_functions as metrics"
   ]
  },
  {
   "cell_type": "code",
   "execution_count": 105,
   "metadata": {
    "collapsed": true
   },
   "outputs": [],
   "source": [
    "# Loading data\n",
    "file_name = \"Master_PL.xlsx - Master_PL.csv\"\n",
    "data = pd.read_csv(file_name, header=0, \n",
    "                    names=[\"id\", \"type\", \"gender\", \"age\", \"monthsFromScreening\", \"protein_BL\", \"protein_V4\",\n",
    "                          \"protein_V6\", \"protein_V8\", \"protein_V10\", \"protein_V12\"])"
   ]
  },
  {
   "cell_type": "code",
   "execution_count": 106,
   "metadata": {},
   "outputs": [
    {
     "data": {
      "text/html": [
       "<div>\n",
       "<table border=\"1\" class=\"dataframe\">\n",
       "  <thead>\n",
       "    <tr style=\"text-align: right;\">\n",
       "      <th></th>\n",
       "      <th>id</th>\n",
       "      <th>type</th>\n",
       "      <th>gender</th>\n",
       "      <th>age</th>\n",
       "      <th>monthsFromScreening</th>\n",
       "      <th>protein_BL</th>\n",
       "      <th>protein_V4</th>\n",
       "      <th>protein_V6</th>\n",
       "      <th>protein_V8</th>\n",
       "      <th>protein_V10</th>\n",
       "      <th>protein_V12</th>\n",
       "    </tr>\n",
       "  </thead>\n",
       "  <tbody>\n",
       "    <tr>\n",
       "      <th>0</th>\n",
       "      <td>3011</td>\n",
       "      <td>1</td>\n",
       "      <td>2</td>\n",
       "      <td>32</td>\n",
       "      <td>NaN</td>\n",
       "      <td>26.0</td>\n",
       "      <td>NaN</td>\n",
       "      <td>NaN</td>\n",
       "      <td>NaN</td>\n",
       "      <td>NaN</td>\n",
       "      <td>NaN</td>\n",
       "    </tr>\n",
       "    <tr>\n",
       "      <th>1</th>\n",
       "      <td>3016</td>\n",
       "      <td>1</td>\n",
       "      <td>2</td>\n",
       "      <td>58</td>\n",
       "      <td>NaN</td>\n",
       "      <td>66.0</td>\n",
       "      <td>67.0</td>\n",
       "      <td>70.0</td>\n",
       "      <td>56.0</td>\n",
       "      <td>NaN</td>\n",
       "      <td>NaN</td>\n",
       "    </tr>\n",
       "    <tr>\n",
       "      <th>2</th>\n",
       "      <td>3069</td>\n",
       "      <td>1</td>\n",
       "      <td>1</td>\n",
       "      <td>54</td>\n",
       "      <td>NaN</td>\n",
       "      <td>24.0</td>\n",
       "      <td>34.0</td>\n",
       "      <td>32.0</td>\n",
       "      <td>30.0</td>\n",
       "      <td>33.0</td>\n",
       "      <td>NaN</td>\n",
       "    </tr>\n",
       "    <tr>\n",
       "      <th>3</th>\n",
       "      <td>3072</td>\n",
       "      <td>1</td>\n",
       "      <td>1</td>\n",
       "      <td>47</td>\n",
       "      <td>NaN</td>\n",
       "      <td>44.0</td>\n",
       "      <td>55.0</td>\n",
       "      <td>37.0</td>\n",
       "      <td>NaN</td>\n",
       "      <td>40.0</td>\n",
       "      <td>37.0</td>\n",
       "    </tr>\n",
       "    <tr>\n",
       "      <th>4</th>\n",
       "      <td>3073</td>\n",
       "      <td>1</td>\n",
       "      <td>2</td>\n",
       "      <td>48</td>\n",
       "      <td>NaN</td>\n",
       "      <td>68.0</td>\n",
       "      <td>64.0</td>\n",
       "      <td>77.0</td>\n",
       "      <td>NaN</td>\n",
       "      <td>65.0</td>\n",
       "      <td>79.0</td>\n",
       "    </tr>\n",
       "  </tbody>\n",
       "</table>\n",
       "</div>"
      ],
      "text/plain": [
       "     id  type  gender  age  monthsFromScreening  protein_BL  protein_V4  \\\n",
       "0  3011     1       2   32                  NaN        26.0         NaN   \n",
       "1  3016     1       2   58                  NaN        66.0        67.0   \n",
       "2  3069     1       1   54                  NaN        24.0        34.0   \n",
       "3  3072     1       1   47                  NaN        44.0        55.0   \n",
       "4  3073     1       2   48                  NaN        68.0        64.0   \n",
       "\n",
       "   protein_V6  protein_V8  protein_V10  protein_V12  \n",
       "0         NaN         NaN          NaN          NaN  \n",
       "1        70.0        56.0          NaN          NaN  \n",
       "2        32.0        30.0         33.0          NaN  \n",
       "3        37.0         NaN         40.0         37.0  \n",
       "4        77.0         NaN         65.0         79.0  "
      ]
     },
     "execution_count": 106,
     "metadata": {},
     "output_type": "execute_result"
    }
   ],
   "source": [
    "data.head()"
   ]
  },
  {
   "cell_type": "code",
   "execution_count": 107,
   "metadata": {
    "collapsed": true
   },
   "outputs": [],
   "source": [
    "def make_binary(x):\n",
    "    return x-1\n",
    "\n",
    "def make_boolean(x):\n",
    "    if x:\n",
    "        return bool(x)\n",
    "    else:\n",
    "        return bool(x)\n",
    "\n",
    "def standardize(x, mean, std):\n",
    "    return (x - mean)/std\n",
    "\n",
    "def support(column):\n",
    "    counts = defaultdict(int)\n",
    "    \n",
    "    for value in column:\n",
    "        counts[value]+=1\n",
    "    \n",
    "    for key in counts:\n",
    "        counts[key] = counts[key]/float(len(column))\n",
    "    \n",
    "    return counts"
   ]
  },
  {
   "cell_type": "code",
   "execution_count": 108,
   "metadata": {
    "collapsed": true
   },
   "outputs": [],
   "source": [
    "# Type and gender should be binary (0,1) not (1,2)\n",
    "data.type = data.type.apply(make_binary)\n",
    "data.gender = data.gender.apply(make_binary)"
   ]
  },
  {
   "cell_type": "code",
   "execution_count": 109,
   "metadata": {},
   "outputs": [],
   "source": [
    "# Keeping all rows without fat-finger errors\n",
    "data = data[(data.protein_BL > 5) & \n",
    "            (data.protein_V4 > 5) & \n",
    "            (data.protein_V6 > 5) & \n",
    "            (data.protein_V8 > 5) &\n",
    "            ((data.protein_V10 > 5) | data.protein_V10.isnull()) &\n",
    "            ((data.protein_V12 > 5) | data.protein_V12.isnull())].reset_index(drop=True)"
   ]
  },
  {
   "cell_type": "code",
   "execution_count": 110,
   "metadata": {},
   "outputs": [
    {
     "data": {
      "text/html": [
       "<div>\n",
       "<table border=\"1\" class=\"dataframe\">\n",
       "  <thead>\n",
       "    <tr style=\"text-align: right;\">\n",
       "      <th></th>\n",
       "      <th>id</th>\n",
       "      <th>type</th>\n",
       "      <th>gender</th>\n",
       "      <th>age</th>\n",
       "      <th>monthsFromScreening</th>\n",
       "      <th>protein_BL</th>\n",
       "      <th>protein_V4</th>\n",
       "      <th>protein_V6</th>\n",
       "      <th>protein_V8</th>\n",
       "      <th>protein_V10</th>\n",
       "      <th>protein_V12</th>\n",
       "    </tr>\n",
       "  </thead>\n",
       "  <tbody>\n",
       "    <tr>\n",
       "      <th>0</th>\n",
       "      <td>3016</td>\n",
       "      <td>0</td>\n",
       "      <td>1</td>\n",
       "      <td>58</td>\n",
       "      <td>NaN</td>\n",
       "      <td>66.0</td>\n",
       "      <td>67.0</td>\n",
       "      <td>70.0</td>\n",
       "      <td>56.0</td>\n",
       "      <td>NaN</td>\n",
       "      <td>NaN</td>\n",
       "    </tr>\n",
       "    <tr>\n",
       "      <th>1</th>\n",
       "      <td>3069</td>\n",
       "      <td>0</td>\n",
       "      <td>0</td>\n",
       "      <td>54</td>\n",
       "      <td>NaN</td>\n",
       "      <td>24.0</td>\n",
       "      <td>34.0</td>\n",
       "      <td>32.0</td>\n",
       "      <td>30.0</td>\n",
       "      <td>33.0</td>\n",
       "      <td>NaN</td>\n",
       "    </tr>\n",
       "    <tr>\n",
       "      <th>2</th>\n",
       "      <td>3074</td>\n",
       "      <td>0</td>\n",
       "      <td>1</td>\n",
       "      <td>31</td>\n",
       "      <td>NaN</td>\n",
       "      <td>40.0</td>\n",
       "      <td>42.0</td>\n",
       "      <td>43.0</td>\n",
       "      <td>44.0</td>\n",
       "      <td>43.0</td>\n",
       "      <td>NaN</td>\n",
       "    </tr>\n",
       "    <tr>\n",
       "      <th>3</th>\n",
       "      <td>3085</td>\n",
       "      <td>0</td>\n",
       "      <td>1</td>\n",
       "      <td>57</td>\n",
       "      <td>NaN</td>\n",
       "      <td>55.0</td>\n",
       "      <td>52.0</td>\n",
       "      <td>48.0</td>\n",
       "      <td>57.0</td>\n",
       "      <td>NaN</td>\n",
       "      <td>NaN</td>\n",
       "    </tr>\n",
       "    <tr>\n",
       "      <th>4</th>\n",
       "      <td>3109</td>\n",
       "      <td>0</td>\n",
       "      <td>1</td>\n",
       "      <td>53</td>\n",
       "      <td>NaN</td>\n",
       "      <td>37.0</td>\n",
       "      <td>52.0</td>\n",
       "      <td>41.0</td>\n",
       "      <td>48.0</td>\n",
       "      <td>41.0</td>\n",
       "      <td>NaN</td>\n",
       "    </tr>\n",
       "  </tbody>\n",
       "</table>\n",
       "</div>"
      ],
      "text/plain": [
       "     id  type  gender  age  monthsFromScreening  protein_BL  protein_V4  \\\n",
       "0  3016     0       1   58                  NaN        66.0        67.0   \n",
       "1  3069     0       0   54                  NaN        24.0        34.0   \n",
       "2  3074     0       1   31                  NaN        40.0        42.0   \n",
       "3  3085     0       1   57                  NaN        55.0        52.0   \n",
       "4  3109     0       1   53                  NaN        37.0        52.0   \n",
       "\n",
       "   protein_V6  protein_V8  protein_V10  protein_V12  \n",
       "0        70.0        56.0          NaN          NaN  \n",
       "1        32.0        30.0         33.0          NaN  \n",
       "2        43.0        44.0         43.0          NaN  \n",
       "3        48.0        57.0          NaN          NaN  \n",
       "4        41.0        48.0         41.0          NaN  "
      ]
     },
     "execution_count": 110,
     "metadata": {},
     "output_type": "execute_result"
    }
   ],
   "source": [
    "data.head()"
   ]
  },
  {
   "cell_type": "code",
   "execution_count": 111,
   "metadata": {},
   "outputs": [
    {
     "data": {
      "text/plain": [
       "269"
      ]
     },
     "execution_count": 111,
     "metadata": {},
     "output_type": "execute_result"
    }
   ],
   "source": [
    "# After the fat finger rows I removed, we are left with 269 patients\n",
    "len(data)"
   ]
  },
  {
   "cell_type": "code",
   "execution_count": 112,
   "metadata": {},
   "outputs": [],
   "source": [
    "# normalizing all real values, the Random Forest Classifier preforms better after doing this\n",
    "# I suspect this is due to sklearn's implementation and not the theory behind \n",
    "# Forest Classifiers\n",
    "bl_mean = np.nanmean(data.protein_BL)\n",
    "bl_std = np.nanstd(data.protein_BL)\n",
    "\n",
    "v4_mean = np.nanmean(data.protein_V4)\n",
    "v4_std = np.nanstd(data.protein_V4)\n",
    "\n",
    "v6_mean = np.nanmean(data.protein_V6)\n",
    "v6_std = np.nanstd(data.protein_V6)\n",
    "\n",
    "v8_mean = np.nanmean(data.protein_V8)\n",
    "v8_std = np.nanstd(data.protein_V8)\n",
    "\n",
    "v10_mean = np.nanmean(data.protein_V10)\n",
    "v10_std = np.nanstd(data.protein_V10)\n",
    "\n",
    "v12_mean = np.nanmean(data.protein_V12)\n",
    "v12_std = np.nanstd(data.protein_V12)\n",
    "\n",
    "age_mean = np.nanmean(data.age)\n",
    "age_std = np.nanstd(data.age)\n",
    "\n",
    "data.protein_BL = data.protein_BL.apply(lambda x : standardize(x, bl_mean, bl_std))\n",
    "data.protein_V4 = data.protein_V4.apply(lambda x : standardize(x, v4_mean, v4_std))\n",
    "data.protein_V6 = data.protein_V6.apply(lambda x : standardize(x, v6_mean, v6_std))\n",
    "data.protein_V8 = data.protein_V8.apply(lambda x : standardize(x, v8_mean, v8_std))\n",
    "data.protein_V10 = data.protein_V10.apply(lambda x : standardize(x, v10_mean, v10_std))\n",
    "data.protein_V12 = data.protein_V12.apply(lambda x : standardize(x, v12_mean, v12_std))\n",
    "data.age = data.age.apply(lambda x: standardize(x, age_mean, age_std))"
   ]
  },
  {
   "cell_type": "code",
   "execution_count": 113,
   "metadata": {},
   "outputs": [
    {
     "data": {
      "text/html": [
       "<div>\n",
       "<table border=\"1\" class=\"dataframe\">\n",
       "  <thead>\n",
       "    <tr style=\"text-align: right;\">\n",
       "      <th></th>\n",
       "      <th>id</th>\n",
       "      <th>type</th>\n",
       "      <th>gender</th>\n",
       "      <th>age</th>\n",
       "      <th>monthsFromScreening</th>\n",
       "      <th>protein_BL</th>\n",
       "      <th>protein_V4</th>\n",
       "      <th>protein_V6</th>\n",
       "      <th>protein_V8</th>\n",
       "      <th>protein_V10</th>\n",
       "      <th>protein_V12</th>\n",
       "    </tr>\n",
       "  </thead>\n",
       "  <tbody>\n",
       "    <tr>\n",
       "      <th>0</th>\n",
       "      <td>3016</td>\n",
       "      <td>0</td>\n",
       "      <td>1</td>\n",
       "      <td>-0.305631</td>\n",
       "      <td>NaN</td>\n",
       "      <td>1.293955</td>\n",
       "      <td>0.744712</td>\n",
       "      <td>0.708462</td>\n",
       "      <td>0.615134</td>\n",
       "      <td>NaN</td>\n",
       "      <td>NaN</td>\n",
       "    </tr>\n",
       "    <tr>\n",
       "      <th>1</th>\n",
       "      <td>3069</td>\n",
       "      <td>0</td>\n",
       "      <td>0</td>\n",
       "      <td>-0.700893</td>\n",
       "      <td>NaN</td>\n",
       "      <td>-1.148138</td>\n",
       "      <td>-0.433034</td>\n",
       "      <td>-0.395604</td>\n",
       "      <td>-0.754484</td>\n",
       "      <td>-0.675079</td>\n",
       "      <td>NaN</td>\n",
       "    </tr>\n",
       "    <tr>\n",
       "      <th>2</th>\n",
       "      <td>3074</td>\n",
       "      <td>0</td>\n",
       "      <td>1</td>\n",
       "      <td>-2.973653</td>\n",
       "      <td>NaN</td>\n",
       "      <td>-0.217817</td>\n",
       "      <td>-0.147520</td>\n",
       "      <td>-0.076006</td>\n",
       "      <td>-0.016998</td>\n",
       "      <td>-0.130630</td>\n",
       "      <td>NaN</td>\n",
       "    </tr>\n",
       "    <tr>\n",
       "      <th>3</th>\n",
       "      <td>3085</td>\n",
       "      <td>0</td>\n",
       "      <td>1</td>\n",
       "      <td>-0.404446</td>\n",
       "      <td>NaN</td>\n",
       "      <td>0.654359</td>\n",
       "      <td>0.209373</td>\n",
       "      <td>0.069266</td>\n",
       "      <td>0.667811</td>\n",
       "      <td>NaN</td>\n",
       "      <td>NaN</td>\n",
       "    </tr>\n",
       "    <tr>\n",
       "      <th>4</th>\n",
       "      <td>3109</td>\n",
       "      <td>0</td>\n",
       "      <td>1</td>\n",
       "      <td>-0.799709</td>\n",
       "      <td>NaN</td>\n",
       "      <td>-0.392252</td>\n",
       "      <td>0.209373</td>\n",
       "      <td>-0.134115</td>\n",
       "      <td>0.193713</td>\n",
       "      <td>-0.239520</td>\n",
       "      <td>NaN</td>\n",
       "    </tr>\n",
       "  </tbody>\n",
       "</table>\n",
       "</div>"
      ],
      "text/plain": [
       "     id  type  gender       age  monthsFromScreening  protein_BL  protein_V4  \\\n",
       "0  3016     0       1 -0.305631                  NaN    1.293955    0.744712   \n",
       "1  3069     0       0 -0.700893                  NaN   -1.148138   -0.433034   \n",
       "2  3074     0       1 -2.973653                  NaN   -0.217817   -0.147520   \n",
       "3  3085     0       1 -0.404446                  NaN    0.654359    0.209373   \n",
       "4  3109     0       1 -0.799709                  NaN   -0.392252    0.209373   \n",
       "\n",
       "   protein_V6  protein_V8  protein_V10  protein_V12  \n",
       "0    0.708462    0.615134          NaN          NaN  \n",
       "1   -0.395604   -0.754484    -0.675079          NaN  \n",
       "2   -0.076006   -0.016998    -0.130630          NaN  \n",
       "3    0.069266    0.667811          NaN          NaN  \n",
       "4   -0.134115    0.193713    -0.239520          NaN  "
      ]
     },
     "execution_count": 113,
     "metadata": {},
     "output_type": "execute_result"
    }
   ],
   "source": [
    "data.head()"
   ]
  },
  {
   "cell_type": "code",
   "execution_count": 114,
   "metadata": {},
   "outputs": [
    {
     "name": "stdout",
     "output_type": "stream",
     "text": [
      "188\n",
      "81\n"
     ]
    },
    {
     "data": {
      "text/plain": [
       "1    188\n",
       "0    188\n",
       "Name: type, dtype: int64"
      ]
     },
     "execution_count": 114,
     "metadata": {},
     "output_type": "execute_result"
    }
   ],
   "source": [
    "# Fixing the type imbalance\n",
    "# We should be more focused on Class 1 performance in the classification task, due to us\n",
    "# upsampling Class 0.\n",
    "# The nature of learning/classifcation for Random Forests is particularly susceptible to \n",
    "# inflating perfmance when upsampling\n",
    "# Measures have been put in place to curb this problem (min_samples_per_leaf)\n",
    "\n",
    "df_majority = data[data.type==1]\n",
    "print(len(df_majority))\n",
    "df_minority = data[data.type==0]\n",
    "print(len(df_minority))\n",
    "df_minority_upsampled = resample(df_minority, \n",
    "                                 replace=True,\n",
    "                                 n_samples=len(df_majority),\n",
    "                                 random_state=123)\n",
    "df_upsampled = pd.concat([df_majority, df_minority_upsampled])\n",
    "df_upsampled.type.value_counts()"
   ]
  },
  {
   "cell_type": "code",
   "execution_count": 746,
   "metadata": {},
   "outputs": [],
   "source": [
    "# Removing V_10, V_12 due to lack of data\n",
    "# Removing type (as that is the label)\n",
    "features = df_upsampled[['age', \n",
    "                  'gender', \n",
    "                  'protein_BL', \n",
    "                  'protein_V4', \n",
    "                  'protein_V6', \n",
    "                  'protein_V8']]\n",
    "\n",
    "# for analysis purposes I used different combincations of the features below\n",
    "features_to_keep = [\n",
    "                  'age', \n",
    "                  'gender', \n",
    "                  'protein_BL', \n",
    "                  'protein_V4', \n",
    "                  'protein_V6', \n",
    "                  'protein_V8'\n",
    "                ]\n",
    "\n",
    "X = []\n",
    "for i, row in features.iterrows():\n",
    "    filterd_vec = []\n",
    "    for key in features_to_keep:\n",
    "        filterd_vec.append(row[key])\n",
    "    X.append(filterd_vec)\n",
    "\n",
    "\n",
    "y = df_upsampled[['type']].as_matrix()\n",
    "y = np.squeeze(labels)"
   ]
  },
  {
   "cell_type": "code",
   "execution_count": null,
   "metadata": {},
   "outputs": [],
   "source": []
  },
  {
   "cell_type": "code",
   "execution_count": 747,
   "metadata": {},
   "outputs": [
    {
     "data": {
      "text/plain": [
       "13.16"
      ]
     },
     "execution_count": 747,
     "metadata": {},
     "output_type": "execute_result"
    }
   ],
   "source": []
  },
  {
   "cell_type": "code",
   "execution_count": 748,
   "metadata": {
    "collapsed": true
   },
   "outputs": [],
   "source": []
  },
  {
   "cell_type": "code",
   "execution_count": 749,
   "metadata": {},
   "outputs": [],
   "source": [
    "# Due to upsampling we take 20 different random splits of the data and take\n",
    "# the average performance as the true classification performance\n",
    "def test_clf_performance(X, y):\n",
    "    y_true_array = []\n",
    "    y_predicted_array = []\n",
    "    feature_importances_array = []\n",
    "    for i in range(20):\n",
    "\n",
    "        # creating the test/train splits\n",
    "        X_train, X_test, y_train, y_test = train_test_split(X, y, test_size=0.3, random_state=i*i)\n",
    "\n",
    "        # creating the classifier,\n",
    "        clf = RandomForestClassifier(n_estimators = 50, min_samples_split = 10, random_state = 42)\n",
    "\n",
    "        # fitting the classifier to the data\n",
    "        classifier.fit(np.array(X_train), y_train)\n",
    "\n",
    "        # storing the true labels\n",
    "        y_true_array.append(y_test)\n",
    "\n",
    "        # storing the predicted labels\n",
    "        y_predicted_array.append(classifier.predict(X_test))\n",
    "\n",
    "        # storing feature importance\n",
    "        feature_importances_array.append(classifier.feature_importances_)\n",
    "\n",
    "    all_metrics = metrics.average_all_metrics(y_true_array, y_predicted_array, 2)\n",
    "    print(metrics.pretty_print_metrics(all_metrics))\n",
    "    print(metrics.average_feature_importances(feature_importances_array))\n",
    "    return all_metrics"
   ]
  },
  {
   "cell_type": "code",
   "execution_count": 750,
   "metadata": {},
   "outputs": [
    {
     "name": "stdout",
     "output_type": "stream",
     "text": [
      "iterations: 20\n",
      "\n",
      "accuracy: 0.656\n",
      "\n",
      "precision: \n",
      "\tmicro: 0.656\n",
      "\tall: ['0.677', '0.649']\n",
      "\tweighted: 0.667\n",
      "\tmacro: 0.663\n",
      "\t\n",
      "recall: \n",
      "\tmicro: 0.656\n",
      "\tall: ['0.644', '0.678']\n",
      "\tweighted: 0.656\n",
      "\tmacro: 0.661\n",
      "\t\n",
      "f1_measure: \n",
      "\tmicro: 0.656\n",
      "\tall: ['0.654', '0.656']\n",
      "\tweighted: 0.655\n",
      "\tmacro: 0.655\n",
      "\t\n",
      "support: \n",
      "\ty_true_count: 113.000\n",
      "\ty_predicted_dist: ['0.488', '0.512']\n",
      "\ty_true_dist: ['0.511', '0.489']\n",
      "\ty_predicted_count: 113.000\n",
      "\t\n",
      "\n",
      "[0.35113591093208485, 0.31029769759834058, 0.33856639146957468]\n"
     ]
    }
   ],
   "source": [
    "all_metrics = test_clf_performance(X, y)"
   ]
  },
  {
   "cell_type": "code",
   "execution_count": 751,
   "metadata": {},
   "outputs": [
    {
     "name": "stdout",
     "output_type": "stream",
     "text": [
      "100 more done\n",
      "100 more done\n",
      "1\n",
      "\n",
      "accuracy: 0.655\n",
      "\n",
      "precision: \n",
      "\tall: ['0.667', '0.644']\n",
      "\tmicro: 0.655\n",
      "\tmacro: 0.655\n",
      "\tweighted: 0.655\n",
      "\t\n",
      "recall: \n",
      "\tall: ['0.632', '0.679']\n",
      "\tmicro: 0.655\n",
      "\tmacro: 0.655\n",
      "\tweighted: 0.655\n",
      "\t\n",
      "f1_measure: \n",
      "\tall: ['0.649', '0.661']\n",
      "\tmicro: 0.655\n",
      "\tmacro: 0.655\n",
      "\tweighted: 0.655\n",
      "\t\n",
      "support: \n",
      "\ty_true_dist: ['0.504', '0.496']\n",
      "\ty_true_count: 113.000\n",
      "\ty_predicted_dist: ['0.478', '0.522']\n",
      "\ty_predicted_count: 113.000\n",
      "\t\n",
      "\n",
      "random-state: 101\n"
     ]
    }
   ],
   "source": [
    "# Finding a split that mimics the average performance of the classification task\n",
    "clf = RandomForestClassifier(n_estimators = 50, min_samples_split = 10, random_state = 42)\n",
    "good_random_state = 0\n",
    "while good_random_state < 1000:\n",
    "    X_train, X_test, y_train, y_test = train_test_split(X, y, test_size = 0.3, random_state = good_random_state)\n",
    "    clf.fit(X_train, y_train)\n",
    "    probs = clf.predict_proba(X_test)\n",
    "    predicted_labels = []\n",
    "    for prob_tuple in probs:\n",
    "        if prob_tuple[1] > 0.5:\n",
    "            predicted_labels.append(1)\n",
    "        else:\n",
    "            predicted_labels.append(0)\n",
    "    official_metrics = metrics.get_all_metrics(y_test, predicted_labels)\n",
    "    if abs(official_metrics[\"precision\"][\"all\"][1] - all_metrics[\"precision\"][\"all\"][1]) < 0.0175:\n",
    "        if abs(official_metrics[\"recall\"][\"all\"][1] - all_metrics[\"recall\"][\"all\"][1]) < 0.0175:\n",
    "            if abs(official_metrics[\"precision\"][\"all\"][0] - all_metrics[\"precision\"][\"all\"][0]) < 0.0175:\n",
    "                if abs(official_metrics[\"recall\"][\"all\"][0] - all_metrics[\"recall\"][\"all\"][0]) < 0.0175:\n",
    "                    print(metrics.pretty_print_metrics(official_metrics))\n",
    "                    print(\"random-state: \" + str(good_random_state))\n",
    "                    break\n",
    "    if good_random_state % 100 == 0:\n",
    "        print(\"100 more done\")\n",
    "    good_random_state += 1"
   ]
  },
  {
   "cell_type": "code",
   "execution_count": 752,
   "metadata": {
    "collapsed": true
   },
   "outputs": [],
   "source": [
    "clf = RandomForestClassifier(n_estimators = 50, \n",
    "                             min_samples_split = 10, \n",
    "                             random_state = 42)"
   ]
  },
  {
   "cell_type": "code",
   "execution_count": 753,
   "metadata": {},
   "outputs": [],
   "source": [
    "X_train, X_test, y_train, y_test = train_test_split(X, \n",
    "                                                    y, \n",
    "                                                    test_size = 0.3, \n",
    "                                                    random_state = good_random_state)"
   ]
  },
  {
   "cell_type": "code",
   "execution_count": 754,
   "metadata": {},
   "outputs": [
    {
     "data": {
      "text/plain": [
       "RandomForestClassifier(bootstrap=True, class_weight=None, criterion='gini',\n",
       "            max_depth=None, max_features='auto', max_leaf_nodes=None,\n",
       "            min_impurity_decrease=0.0, min_impurity_split=None,\n",
       "            min_samples_leaf=1, min_samples_split=10,\n",
       "            min_weight_fraction_leaf=0.0, n_estimators=50, n_jobs=1,\n",
       "            oob_score=False, random_state=42, verbose=0, warm_start=False)"
      ]
     },
     "execution_count": 754,
     "metadata": {},
     "output_type": "execute_result"
    }
   ],
   "source": [
    "clf.fit(X_train, y_train)"
   ]
  },
  {
   "cell_type": "code",
   "execution_count": 755,
   "metadata": {
    "collapsed": true
   },
   "outputs": [],
   "source": [
    "probs = clf.predict_proba(X_test)\n",
    "affected_probs = [x[1] for x in probs]"
   ]
  },
  {
   "cell_type": "code",
   "execution_count": 756,
   "metadata": {},
   "outputs": [
    {
     "data": {
      "image/png": "[encoded data removed]",
      "text/plain": [
       "<matplotlib.figure.Figure at 0x1141ce3d0>"
      ]
     },
     "metadata": {},
     "output_type": "display_data"
    }
   ],
   "source": [
    "# Plotting AUC curve for \"average\" classifier\n",
    "metrics.plot_roc_curve(y_test, affected_probs)"
   ]
  },
  {
   "cell_type": "code",
   "execution_count": 447,
   "metadata": {},
   "outputs": [
    {
     "data": {
      "text/plain": [
       "[9,\n",
       " 18,\n",
       " 12,\n",
       " 15,\n",
       " 9,\n",
       " 8,\n",
       " 14,\n",
       " 13,\n",
       " 12,\n",
       " 8,\n",
       " 12,\n",
       " 14,\n",
       " 8,\n",
       " 18,\n",
       " 10,\n",
       " 11,\n",
       " 10,\n",
       " 11,\n",
       " 15,\n",
       " 10,\n",
       " 14,\n",
       " 11,\n",
       " 14,\n",
       " 10,\n",
       " 10,\n",
       " 11,\n",
       " 10,\n",
       " 11,\n",
       " 12,\n",
       " 10,\n",
       " 15,\n",
       " 14,\n",
       " 11,\n",
       " 16,\n",
       " 13,\n",
       " 12,\n",
       " 12,\n",
       " 11,\n",
       " 11,\n",
       " 13,\n",
       " 12,\n",
       " 10,\n",
       " 12,\n",
       " 12,\n",
       " 10,\n",
       " 8,\n",
       " 12,\n",
       " 9,\n",
       " 14,\n",
       " 10]"
      ]
     },
     "execution_count": 447,
     "metadata": {},
     "output_type": "execute_result"
    }
   ],
   "source": [
    "[estimator.tree_.max_depth for estimator in clf.estimators_]"
   ]
  },
  {
   "cell_type": "code",
   "execution_count": null,
   "metadata": {
    "collapsed": true
   },
   "outputs": [],
   "source": []
  },
  {
   "cell_type": "code",
   "execution_count": null,
   "metadata": {
    "collapsed": true
   },
   "outputs": [],
   "source": []
  },
  {
   "cell_type": "code",
   "execution_count": null,
   "metadata": {
    "collapsed": true
   },
   "outputs": [],
   "source": []
  },
  {
   "cell_type": "code",
   "execution_count": null,
   "metadata": {
    "collapsed": true
   },
   "outputs": [],
   "source": []
  },
  {
   "cell_type": "code",
   "execution_count": null,
   "metadata": {
    "collapsed": true
   },
   "outputs": [],
   "source": []
  },
  {
   "cell_type": "code",
   "execution_count": null,
   "metadata": {
    "collapsed": true
   },
   "outputs": [],
   "source": []
  }
 ],
 "metadata": {
  "kernelspec": {
   "display_name": "Python 2",
   "language": "python",
   "name": "python2"
  },
  "language_info": {
   "codemirror_mode": {
    "name": "ipython",
    "version": 2
   },
   "file_extension": ".py",
   "mimetype": "text/x-python",
   "name": "python",
   "nbconvert_exporter": "python",
   "pygments_lexer": "ipython2",
   "version": "2.7.10"
  }
 },
 "nbformat": 4,
 "nbformat_minor": 2
}
